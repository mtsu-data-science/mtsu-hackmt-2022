{
 "cells": [
  {
   "cell_type": "code",
   "execution_count": 1,
   "id": "89ebad99",
   "metadata": {},
   "outputs": [
    {
     "name": "stderr",
     "output_type": "stream",
     "text": [
      "[nltk_data] Downloading package stopwords to\n",
      "[nltk_data]     C:\\Users\\John\\AppData\\Roaming\\nltk_data...\n",
      "[nltk_data]   Package stopwords is already up-to-date!\n"
     ]
    },
    {
     "data": {
      "text/plain": [
       "True"
      ]
     },
     "execution_count": 1,
     "metadata": {},
     "output_type": "execute_result"
    }
   ],
   "source": [
    "# Run in python console\n",
    "import nltk; nltk.download('stopwords')\n",
    "\n",
    "# Run in terminal or command prompt\n",
    "#python3 -m spacy download en"
   ]
  },
  {
   "cell_type": "code",
   "execution_count": 2,
   "id": "62422e29",
   "metadata": {},
   "outputs": [
    {
     "name": "stdout",
     "output_type": "stream",
     "text": [
      "Requirement already satisfied: pyLDAvis in c:\\users\\john\\anaconda3\\envs\\hackmt\\lib\\site-packages (3.3.1)\n",
      "Requirement already satisfied: funcy in c:\\users\\john\\anaconda3\\envs\\hackmt\\lib\\site-packages (from pyLDAvis) (1.17)\n",
      "Requirement already satisfied: scipy in c:\\users\\john\\anaconda3\\envs\\hackmt\\lib\\site-packages (from pyLDAvis) (1.7.3)\n",
      "Requirement already satisfied: jinja2 in c:\\users\\john\\anaconda3\\envs\\hackmt\\lib\\site-packages (from pyLDAvis) (3.0.2)\n",
      "Requirement already satisfied: numexpr in c:\\users\\john\\anaconda3\\envs\\hackmt\\lib\\site-packages (from pyLDAvis) (2.8.1)\n",
      "Requirement already satisfied: scikit-learn in c:\\users\\john\\anaconda3\\envs\\hackmt\\lib\\site-packages (from pyLDAvis) (1.0.2)\n",
      "Requirement already satisfied: gensim in c:\\users\\john\\anaconda3\\envs\\hackmt\\lib\\site-packages (from pyLDAvis) (4.0.1)\n",
      "Requirement already satisfied: pandas>=1.2.0 in c:\\users\\john\\anaconda3\\envs\\hackmt\\lib\\site-packages (from pyLDAvis) (1.3.5)\n",
      "Requirement already satisfied: future in c:\\users\\john\\anaconda3\\envs\\hackmt\\lib\\site-packages (from pyLDAvis) (0.18.2)\n",
      "Requirement already satisfied: sklearn in c:\\users\\john\\anaconda3\\envs\\hackmt\\lib\\site-packages (from pyLDAvis) (0.0)\n",
      "Requirement already satisfied: numpy>=1.20.0 in c:\\users\\john\\anaconda3\\envs\\hackmt\\lib\\site-packages (from pyLDAvis) (1.21.2)\n",
      "Requirement already satisfied: setuptools in c:\\users\\john\\anaconda3\\envs\\hackmt\\lib\\site-packages (from pyLDAvis) (58.0.4)\n",
      "Requirement already satisfied: joblib in c:\\users\\john\\anaconda3\\envs\\hackmt\\lib\\site-packages (from pyLDAvis) (1.1.0)\n",
      "Requirement already satisfied: pytz>=2017.3 in c:\\users\\john\\anaconda3\\envs\\hackmt\\lib\\site-packages (from pandas>=1.2.0->pyLDAvis) (2021.3)\n",
      "Requirement already satisfied: python-dateutil>=2.7.3 in c:\\users\\john\\anaconda3\\envs\\hackmt\\lib\\site-packages (from pandas>=1.2.0->pyLDAvis) (2.8.2)\n",
      "Requirement already satisfied: six>=1.5 in c:\\users\\john\\anaconda3\\envs\\hackmt\\lib\\site-packages (from python-dateutil>=2.7.3->pandas>=1.2.0->pyLDAvis) (1.16.0)\n",
      "Requirement already satisfied: smart-open>=1.8.1 in c:\\users\\john\\anaconda3\\envs\\hackmt\\lib\\site-packages (from gensim->pyLDAvis) (1.9.0)\n",
      "Requirement already satisfied: boto>=2.32 in c:\\users\\john\\anaconda3\\envs\\hackmt\\lib\\site-packages (from smart-open>=1.8.1->gensim->pyLDAvis) (2.49.0)\n",
      "Requirement already satisfied: boto3 in c:\\users\\john\\anaconda3\\envs\\hackmt\\lib\\site-packages (from smart-open>=1.8.1->gensim->pyLDAvis) (1.18.21)\n",
      "Requirement already satisfied: bz2file in c:\\users\\john\\anaconda3\\envs\\hackmt\\lib\\site-packages (from smart-open>=1.8.1->gensim->pyLDAvis) (0.98)\n",
      "Requirement already satisfied: requests in c:\\users\\john\\anaconda3\\envs\\hackmt\\lib\\site-packages (from smart-open>=1.8.1->gensim->pyLDAvis) (2.27.1)\n",
      "Requirement already satisfied: s3transfer<0.6.0,>=0.5.0 in c:\\users\\john\\anaconda3\\envs\\hackmt\\lib\\site-packages (from boto3->smart-open>=1.8.1->gensim->pyLDAvis) (0.5.0)\n",
      "Requirement already satisfied: botocore<1.22.0,>=1.21.21 in c:\\users\\john\\anaconda3\\envs\\hackmt\\lib\\site-packages (from boto3->smart-open>=1.8.1->gensim->pyLDAvis) (1.21.41)\n",
      "Requirement already satisfied: jmespath<1.0.0,>=0.7.1 in c:\\users\\john\\anaconda3\\envs\\hackmt\\lib\\site-packages (from boto3->smart-open>=1.8.1->gensim->pyLDAvis) (0.10.0)\n",
      "Requirement already satisfied: urllib3<1.27,>=1.25.4 in c:\\users\\john\\anaconda3\\envs\\hackmt\\lib\\site-packages (from botocore<1.22.0,>=1.21.21->boto3->smart-open>=1.8.1->gensim->pyLDAvis) (1.26.7)\n",
      "Requirement already satisfied: MarkupSafe>=2.0 in c:\\users\\john\\anaconda3\\envs\\hackmt\\lib\\site-packages (from jinja2->pyLDAvis) (2.0.1)\n",
      "Requirement already satisfied: packaging in c:\\users\\john\\anaconda3\\envs\\hackmt\\lib\\site-packages (from numexpr->pyLDAvis) (21.3)\n",
      "Requirement already satisfied: pyparsing!=3.0.5,>=2.0.2 in c:\\users\\john\\anaconda3\\envs\\hackmt\\lib\\site-packages (from packaging->numexpr->pyLDAvis) (3.0.4)\n",
      "Requirement already satisfied: charset-normalizer~=2.0.0 in c:\\users\\john\\anaconda3\\envs\\hackmt\\lib\\site-packages (from requests->smart-open>=1.8.1->gensim->pyLDAvis) (2.0.4)\n",
      "Requirement already satisfied: certifi>=2017.4.17 in c:\\users\\john\\anaconda3\\envs\\hackmt\\lib\\site-packages (from requests->smart-open>=1.8.1->gensim->pyLDAvis) (2021.10.8)\n",
      "Requirement already satisfied: idna<4,>=2.5 in c:\\users\\john\\anaconda3\\envs\\hackmt\\lib\\site-packages (from requests->smart-open>=1.8.1->gensim->pyLDAvis) (3.3)\n",
      "Requirement already satisfied: threadpoolctl>=2.0.0 in c:\\users\\john\\anaconda3\\envs\\hackmt\\lib\\site-packages (from scikit-learn->pyLDAvis) (3.0.0)\n",
      "Note: you may need to restart the kernel to use updated packages.\n"
     ]
    }
   ],
   "source": [
    "pip install pyLDAvis"
   ]
  },
  {
   "cell_type": "code",
   "execution_count": 3,
   "id": "763fdaa8",
   "metadata": {},
   "outputs": [
    {
     "name": "stdout",
     "output_type": "stream",
     "text": [
      "Requirement already satisfied: gensim in c:\\users\\john\\anaconda3\\envs\\hackmt\\lib\\site-packages (4.0.1)\n",
      "Requirement already satisfied: numpy>=1.11.3 in c:\\users\\john\\anaconda3\\envs\\hackmt\\lib\\site-packages (from gensim) (1.21.2)\n",
      "Requirement already satisfied: smart-open>=1.8.1 in c:\\users\\john\\anaconda3\\envs\\hackmt\\lib\\site-packages (from gensim) (1.9.0)\n",
      "Requirement already satisfied: scipy>=0.18.1 in c:\\users\\john\\anaconda3\\envs\\hackmt\\lib\\site-packages (from gensim) (1.7.3)\n",
      "Requirement already satisfied: requests in c:\\users\\john\\anaconda3\\envs\\hackmt\\lib\\site-packages (from smart-open>=1.8.1->gensim) (2.27.1)\n",
      "Requirement already satisfied: bz2file in c:\\users\\john\\anaconda3\\envs\\hackmt\\lib\\site-packages (from smart-open>=1.8.1->gensim) (0.98)\n",
      "Requirement already satisfied: boto>=2.32 in c:\\users\\john\\anaconda3\\envs\\hackmt\\lib\\site-packages (from smart-open>=1.8.1->gensim) (2.49.0)\n",
      "Requirement already satisfied: boto3 in c:\\users\\john\\anaconda3\\envs\\hackmt\\lib\\site-packages (from smart-open>=1.8.1->gensim) (1.18.21)\n",
      "Requirement already satisfied: jmespath<1.0.0,>=0.7.1 in c:\\users\\john\\anaconda3\\envs\\hackmt\\lib\\site-packages (from boto3->smart-open>=1.8.1->gensim) (0.10.0)\n",
      "Requirement already satisfied: s3transfer<0.6.0,>=0.5.0 in c:\\users\\john\\anaconda3\\envs\\hackmt\\lib\\site-packages (from boto3->smart-open>=1.8.1->gensim) (0.5.0)\n",
      "Requirement already satisfied: botocore<1.22.0,>=1.21.21 in c:\\users\\john\\anaconda3\\envs\\hackmt\\lib\\site-packages (from boto3->smart-open>=1.8.1->gensim) (1.21.41)\n",
      "Requirement already satisfied: urllib3<1.27,>=1.25.4 in c:\\users\\john\\anaconda3\\envs\\hackmt\\lib\\site-packages (from botocore<1.22.0,>=1.21.21->boto3->smart-open>=1.8.1->gensim) (1.26.7)\n",
      "Requirement already satisfied: python-dateutil<3.0.0,>=2.1 in c:\\users\\john\\anaconda3\\envs\\hackmt\\lib\\site-packages (from botocore<1.22.0,>=1.21.21->boto3->smart-open>=1.8.1->gensim) (2.8.2)\n",
      "Requirement already satisfied: six>=1.5 in c:\\users\\john\\anaconda3\\envs\\hackmt\\lib\\site-packages (from python-dateutil<3.0.0,>=2.1->botocore<1.22.0,>=1.21.21->boto3->smart-open>=1.8.1->gensim) (1.16.0)\n",
      "Requirement already satisfied: certifi>=2017.4.17 in c:\\users\\john\\anaconda3\\envs\\hackmt\\lib\\site-packages (from requests->smart-open>=1.8.1->gensim) (2021.10.8)\n",
      "Requirement already satisfied: charset-normalizer~=2.0.0 in c:\\users\\john\\anaconda3\\envs\\hackmt\\lib\\site-packages (from requests->smart-open>=1.8.1->gensim) (2.0.4)\n",
      "Requirement already satisfied: idna<4,>=2.5 in c:\\users\\john\\anaconda3\\envs\\hackmt\\lib\\site-packages (from requests->smart-open>=1.8.1->gensim) (3.3)\n",
      "Note: you may need to restart the kernel to use updated packages.\n"
     ]
    }
   ],
   "source": [
    "pip install gensim"
   ]
  },
  {
   "cell_type": "code",
   "execution_count": 4,
   "id": "e6465744",
   "metadata": {},
   "outputs": [],
   "source": [
    "#pip install spacy==2.2.0"
   ]
  },
  {
   "cell_type": "code",
   "execution_count": 5,
   "id": "bfc66902",
   "metadata": {},
   "outputs": [
    {
     "name": "stderr",
     "output_type": "stream",
     "text": [
      "C:\\Users\\John\\anaconda3\\envs\\hackMT\\lib\\site-packages\\gensim\\similarities\\__init__.py:15: UserWarning: The gensim.similarities.levenshtein submodule is disabled, because the optional Levenshtein package <https://pypi.org/project/python-Levenshtein/> is unavailable. Install Levenhstein (e.g. `pip install python-Levenshtein`) to suppress this warning.\n",
      "  warnings.warn(msg)\n"
     ]
    }
   ],
   "source": [
    "import re\n",
    "import numpy as np\n",
    "import pandas as pd\n",
    "from pprint import pprint\n",
    "\n",
    "# Gensim\n",
    "import gensim\n",
    "import gensim.corpora as corpora\n",
    "from gensim.utils import simple_preprocess\n",
    "from gensim.models import CoherenceModel\n",
    "\n",
    "# spacy for lemmatization\n",
    "import spacy\n",
    "\n",
    "# Plotting tools\n",
    "import pyLDAvis\n",
    "import pyLDAvis.gensim_models  # don't skip this\n",
    "import matplotlib.pyplot as plt\n",
    "%matplotlib inline\n",
    "\n",
    "# Enable logging for gensim - optional\n",
    "import logging\n",
    "logging.basicConfig(format='%(asctime)s : %(levelname)s : %(message)s', level=logging.ERROR)\n",
    "\n",
    "import warnings\n",
    "warnings.filterwarnings(\"ignore\",category=DeprecationWarning)"
   ]
  },
  {
   "cell_type": "code",
   "execution_count": 6,
   "id": "90584ef1",
   "metadata": {},
   "outputs": [],
   "source": [
    "# NLTK Stop words\n",
    "from nltk.corpus import stopwords\n",
    "stop_words = stopwords.words('english')\n",
    "stop_words.extend(['from', 'subject', 're', 'edu', 'use'])"
   ]
  },
  {
   "cell_type": "code",
   "execution_count": 7,
   "id": "fe546cbb",
   "metadata": {},
   "outputs": [],
   "source": [
    "#import data\n",
    "df_id = pd.read_csv(\"dataset/nonprofit.txt\", sep = \"|\", encoding = \"cp1252\")\n",
    "df_text = pd.read_csv(\"dataset/nonprofit_text.txt\", sep = \"|\", encoding = \"cp1252\")"
   ]
  },
  {
   "cell_type": "code",
   "execution_count": 8,
   "id": "fc607cea",
   "metadata": {},
   "outputs": [],
   "source": [
    "#merge sets\n",
    "df_merge = pd.merge(df_id, df_text, how='inner', on='nonprofit_id')"
   ]
  },
  {
   "cell_type": "code",
   "execution_count": 9,
   "id": "eadf2dc8",
   "metadata": {},
   "outputs": [],
   "source": [
    "#filter by TN entries\n",
    "df_text = df_merge.loc[(df_merge[\"stabbrv\"]=='TN')]"
   ]
  },
  {
   "cell_type": "code",
   "execution_count": 10,
   "id": "b2d46add",
   "metadata": {},
   "outputs": [],
   "source": [
    "# removes the empty descriptions\n",
    "df_text = df_text[df_text[\"description\"].str.len() > 0]\n",
    "\n",
    "# combines all by nonprofit_id to a single description\n",
    "df_text = df_text.groupby(['nonprofit_id'], as_index = False).agg({'description': ' '.join})"
   ]
  },
  {
   "cell_type": "code",
   "execution_count": 11,
   "id": "a28d5321",
   "metadata": {},
   "outputs": [],
   "source": [
    "df_text = df_text[df_text[\"description\"].str.len() > 10]"
   ]
  },
  {
   "cell_type": "code",
   "execution_count": 12,
   "id": "77ce2a7e",
   "metadata": {},
   "outputs": [
    {
     "name": "stdout",
     "output_type": "stream",
     "text": [
      "<class 'pandas.core.frame.DataFrame'>\n",
      "Int64Index: 10096 entries, 0 to 10159\n",
      "Data columns (total 2 columns):\n",
      " #   Column        Non-Null Count  Dtype \n",
      "---  ------        --------------  ----- \n",
      " 0   nonprofit_id  10096 non-null  int64 \n",
      " 1   description   10096 non-null  object\n",
      "dtypes: int64(1), object(1)\n",
      "memory usage: 236.6+ KB\n"
     ]
    }
   ],
   "source": [
    "df_text.info()"
   ]
  },
  {
   "cell_type": "code",
   "execution_count": 13,
   "id": "b70edf5c",
   "metadata": {},
   "outputs": [],
   "source": [
    "#create sample set\n",
    "#df_text = df_text.sample(n = 250000)\n",
    "#df_text.head()"
   ]
  },
  {
   "cell_type": "code",
   "execution_count": 14,
   "id": "1178b972",
   "metadata": {},
   "outputs": [],
   "source": [
    "data = df_text.description.values.tolist()"
   ]
  },
  {
   "cell_type": "code",
   "execution_count": 15,
   "id": "c33742d7",
   "metadata": {},
   "outputs": [
    {
     "name": "stdout",
     "output_type": "stream",
     "text": [
      "[['provide', 'sound', 'supervised', 'provide', 'sound', 'supervised', 'recreational', 'sports', 'program', 'for', 'youth', 'of', 'our', 'community', 'in', 'which', 'they', 'receive', 'sports', 'training', 'beneficial', 'healthy', 'recreation', 'football', 'program', 'baseball', 'program', 'powell', 'recreation', 'commission', 'inc']]\n"
     ]
    }
   ],
   "source": [
    "def sent_to_words(sentences):\n",
    "    for sentence in sentences:\n",
    "        yield(gensim.utils.simple_preprocess(str(sentence).encode('utf-8'), deacc=True))  # deacc=True removes punctuations\n",
    "\n",
    "data_words = list(sent_to_words(data))\n",
    "print(data_words[:1])"
   ]
  },
  {
   "cell_type": "code",
   "execution_count": 16,
   "id": "c1cfff78",
   "metadata": {},
   "outputs": [
    {
     "name": "stdout",
     "output_type": "stream",
     "text": [
      "['provide', 'sound', 'supervised', 'provide', 'sound', 'supervised', 'recreational', 'sports', 'program', 'for', 'youth', 'of', 'our', 'community', 'in', 'which', 'they', 'receive', 'sports', 'training', 'beneficial', 'healthy', 'recreation', 'football', 'program', 'baseball', 'program', 'powell', 'recreation', 'commission', 'inc']\n"
     ]
    }
   ],
   "source": [
    "# Build the bigram and trigram models\n",
    "bigram = gensim.models.Phrases(data_words, min_count=5, threshold=100) # higher threshold fewer phrases.\n",
    "trigram = gensim.models.Phrases(bigram[data_words], threshold=100)  \n",
    "\n",
    "# Faster way to get a sentence clubbed as a trigram/bigram\n",
    "bigram_mod = gensim.models.phrases.Phraser(bigram)\n",
    "trigram_mod = gensim.models.phrases.Phraser(trigram)\n",
    "\n",
    "# See trigram example\n",
    "print(trigram_mod[bigram_mod[data_words[0]]])"
   ]
  },
  {
   "cell_type": "code",
   "execution_count": 17,
   "id": "f3d7c944",
   "metadata": {},
   "outputs": [],
   "source": [
    "# Define functions for stopwords, bigrams, trigrams and lemmatization\n",
    "def remove_stopwords(texts):\n",
    "    return [[word for word in simple_preprocess(str(doc)) if word not in stop_words] for doc in texts]\n",
    "\n",
    "def make_bigrams(texts):\n",
    "    return [bigram_mod[doc] for doc in texts]\n",
    "\n",
    "def make_trigrams(texts):\n",
    "    return [trigram_mod[bigram_mod[doc]] for doc in texts]\n",
    "\n",
    "def lemmatization(texts, allowed_postags=['NOUN', 'ADJ', 'VERB', 'ADV']):\n",
    "    \"\"\"https://spacy.io/api/annotation\"\"\"\n",
    "    texts_out = []\n",
    "    for sent in texts:\n",
    "        doc = nlp(\" \".join(sent)) \n",
    "        texts_out.append([token.lemma_ for token in doc if token.pos_ in allowed_postags])\n",
    "    return texts_out"
   ]
  },
  {
   "cell_type": "code",
   "execution_count": 18,
   "id": "c421f544",
   "metadata": {},
   "outputs": [],
   "source": [
    "#python3 -m spacy download en"
   ]
  },
  {
   "cell_type": "code",
   "execution_count": 19,
   "id": "7a03ba73",
   "metadata": {},
   "outputs": [
    {
     "name": "stdout",
     "output_type": "stream",
     "text": [
      "[['provide', 'sound', 'supervised', 'provide', 'sound', 'supervised', 'recreational', 'sports', 'program', 'youth', 'community', 'receive', 'sports', 'training', 'beneficial', 'healthy', 'recreation', 'football', 'program', 'baseball', 'program', 'powell', 'recreation', 'commission', 'inc']]\n"
     ]
    }
   ],
   "source": [
    "# Remove Stop Words\n",
    "data_words_nostops = remove_stopwords(data_words)\n",
    "\n",
    "print(data_words_nostops[:1])"
   ]
  },
  {
   "cell_type": "code",
   "execution_count": 20,
   "id": "7aeec184",
   "metadata": {},
   "outputs": [
    {
     "name": "stdout",
     "output_type": "stream",
     "text": [
      "['jackson', 'area', 'chamber', 'commerce', 'foundation', 'inc']\n"
     ]
    }
   ],
   "source": [
    "print(data_words_nostops[7])"
   ]
  },
  {
   "cell_type": "code",
   "execution_count": 21,
   "id": "1fd7561d",
   "metadata": {},
   "outputs": [],
   "source": [
    "# Form Bigrams\n",
    "data_words_bigrams = make_bigrams(data_words_nostops)\n",
    "\n",
    "print(data_words_bigrams[:1])"
   ]
  },
  {
   "cell_type": "code",
   "execution_count": 22,
   "id": "7afc9225",
   "metadata": {},
   "outputs": [],
   "source": [
    "print(data_words_bigrams[7])"
   ]
  },
  {
   "cell_type": "code",
   "execution_count": 23,
   "id": "a65032bd",
   "metadata": {},
   "outputs": [
    {
     "name": "stdout",
     "output_type": "stream",
     "text": [
      "[['provide', 'sound', 'supervise', 'provide', 'sound', 'supervise', 'recreational', 'sport', 'program', 'youth', 'community', 'receive', 'sport', 'training', 'beneficial', 'healthy', 'recreation', 'football', 'program', 'baseball', 'program']]\n"
     ]
    }
   ],
   "source": [
    "# Initialize spacy 'en' model, keeping only tagger component (for efficiency)\n",
    "# python3 -m spacy download en\n",
    "nlp = spacy.load('en_core_web_sm', disable=['parser', 'ner'])\n",
    "\n",
    "# Do lemmatization keeping only noun, adj, vb, adv\n",
    "data_lemmatized = lemmatization(data_words_bigrams)\n",
    "\n",
    "print(data_lemmatized[:1])\n"
   ]
  },
  {
   "cell_type": "code",
   "execution_count": 24,
   "id": "b94bdd0f",
   "metadata": {},
   "outputs": [
    {
     "name": "stdout",
     "output_type": "stream",
     "text": [
      "[]\n"
     ]
    }
   ],
   "source": [
    "print(data_lemmatized[7])"
   ]
  },
  {
   "cell_type": "code",
   "execution_count": 25,
   "id": "00760f70",
   "metadata": {},
   "outputs": [
    {
     "name": "stdout",
     "output_type": "stream",
     "text": [
      "[[(0, 1), (1, 1), (2, 1), (3, 1), (4, 1), (5, 3), (6, 2), (7, 1), (8, 1), (9, 1), (10, 2), (11, 2), (12, 2), (13, 1), (14, 1)], [(2, 2), (6, 2), (15, 1), (16, 1), (17, 1), (18, 1), (19, 1), (20, 1), (21, 1), (22, 2), (23, 1), (24, 2), (25, 1), (26, 1), (27, 1), (28, 1), (29, 1), (30, 1), (31, 1), (32, 1), (33, 1), (34, 1), (35, 1), (36, 1)]]\n"
     ]
    }
   ],
   "source": [
    "# Create Dictionary\n",
    "id2word = corpora.Dictionary(data_lemmatized)\n",
    "\n",
    "# Create Corpus\n",
    "texts = data_lemmatized\n",
    "\n",
    "# Term Document Frequency\n",
    "corpus = [id2word.doc2bow(text) for text in texts]\n",
    "\n",
    "# View\n",
    "print(corpus[:2])"
   ]
  },
  {
   "cell_type": "code",
   "execution_count": 26,
   "id": "9fe69a0e",
   "metadata": {
    "scrolled": true
   },
   "outputs": [],
   "source": [
    "# Build LDA model\n",
    "lda_model = gensim.models.ldamulticore.LdaMulticore(workers = 3, corpus=corpus,\n",
    "                                           id2word=id2word,\n",
    "                                           num_topics=12, \n",
    "                                           random_state=42,\n",
    "                                           chunksize=100,\n",
    "                                           passes=10,\n",
    "                                           per_word_topics=True)"
   ]
  },
  {
   "cell_type": "code",
   "execution_count": 27,
   "id": "86c9b8a5",
   "metadata": {
    "scrolled": false
   },
   "outputs": [
    {
     "name": "stdout",
     "output_type": "stream",
     "text": [
      "[(0,\n",
      "  '0.072*\"school\" + 0.070*\"student\" + 0.043*\"education\" + 0.034*\"provide\" + '\n",
      "  '0.027*\"high\" + 0.019*\"support\" + 0.019*\"college\" + 0.019*\"educational\" + '\n",
      "  '0.014*\"academic\" + 0.014*\"scholarship\"'),\n",
      " (1,\n",
      "  '0.042*\"program\" + 0.027*\"community\" + 0.021*\"life\" + 0.012*\"art\" + '\n",
      "  '0.010*\"help\" + 0.010*\"skill\" + 0.010*\"work\" + 0.010*\"people\" + '\n",
      "  '0.010*\"opportunity\" + 0.009*\"family\"'),\n",
      " (2,\n",
      "  '0.071*\"provide\" + 0.069*\"housing\" + 0.055*\"income\" + 0.054*\"low\" + '\n",
      "  '0.039*\"service\" + 0.021*\"elderly\" + 0.021*\"member\" + 0.019*\"affordable\" + '\n",
      "  '0.016*\"union\" + 0.015*\"loan\"'),\n",
      " (3,\n",
      "  '0.073*\"service\" + 0.070*\"provide\" + 0.046*\"care\" + 0.041*\"health\" + '\n",
      "  '0.022*\"medical\" + 0.019*\"patient\" + 0.018*\"individual\" + 0.017*\"community\" '\n",
      "  '+ 0.016*\"support\" + 0.015*\"assistance\"'),\n",
      " (4,\n",
      "  '0.030*\"promote\" + 0.021*\"member\" + 0.019*\"business\" + 0.017*\"public\" + '\n",
      "  '0.015*\"development\" + 0.014*\"state\" + 0.013*\"industry\" + 0.012*\"economic\" + '\n",
      "  '0.012*\"organization\" + 0.012*\"research\"'),\n",
      " (5,\n",
      "  '0.047*\"community\" + 0.028*\"church\" + 0.025*\"mission\" + 0.022*\"ministry\" + '\n",
      "  '0.022*\"christian\" + 0.015*\"resource\" + 0.014*\"people\" + 0.014*\"work\" + '\n",
      "  '0.014*\"serve\" + 0.013*\"leader\"'),\n",
      " (6,\n",
      "  '0.022*\"music\" + 0.021*\"program\" + 0.021*\"year\" + 0.021*\"event\" + '\n",
      "  '0.018*\"youth\" + 0.016*\"activity\" + 0.015*\"provide\" + 0.013*\"girl\" + '\n",
      "  '0.013*\"promote\" + 0.013*\"camp\"'),\n",
      " (7,\n",
      "  '0.052*\"organization\" + 0.041*\"fund\" + 0.039*\"support\" + 0.039*\"purpose\" + '\n",
      "  '0.023*\"foundation\" + 0.021*\"charitable\" + 0.019*\"other\" + 0.018*\"provide\" + '\n",
      "  '0.015*\"grant\" + 0.015*\"activity\"'),\n",
      " (8,\n",
      "  '0.046*\"member\" + 0.030*\"mental\" + 0.029*\"provide\" + 0.025*\"legal\" + '\n",
      "  '0.023*\"local\" + 0.019*\"abuse\" + 0.019*\"drug\" + 0.019*\"worker\" + '\n",
      "  '0.016*\"service\" + 0.013*\"horse\"'),\n",
      " (9,\n",
      "  '0.030*\"public\" + 0.019*\"fire\" + 0.018*\"preserve\" + 0.016*\"area\" + '\n",
      "  '0.015*\"rural\" + 0.013*\"chattanooga\" + 0.012*\"history\" + 0.011*\"reduce\" + '\n",
      "  '0.011*\"historic\" + 0.010*\"land\"'),\n",
      " (10,\n",
      "  '0.042*\"provide\" + 0.033*\"woman\" + 0.029*\"family\" + 0.029*\"food\" + '\n",
      "  '0.020*\"need\" + 0.019*\"help\" + 0.018*\"assistance\" + 0.018*\"man\" + '\n",
      "  '0.017*\"rescue\" + 0.016*\"animal\"'),\n",
      " (11,\n",
      "  '0.142*\"child\" + 0.044*\"provide\" + 0.024*\"age\" + 0.021*\"family\" + '\n",
      "  '0.019*\"sport\" + 0.018*\"parent\" + 0.017*\"home\" + 0.016*\"team\" + '\n",
      "  '0.015*\"environment\" + 0.013*\"safe\"')]\n"
     ]
    }
   ],
   "source": [
    "# Print the Keyword in the 10 topics\n",
    "pprint(lda_model.print_topics())\n",
    "doc_lda = lda_model[corpus]"
   ]
  },
  {
   "cell_type": "code",
   "execution_count": 28,
   "id": "51b49546",
   "metadata": {},
   "outputs": [
    {
     "name": "stdout",
     "output_type": "stream",
     "text": [
      "\n",
      "Perplexity:  -7.739232197002175\n",
      "\n",
      "Coherence Score:  0.41184461057357863\n"
     ]
    }
   ],
   "source": [
    "# Compute Perplexity\n",
    "print('\\nPerplexity: ', lda_model.log_perplexity(corpus))  # a measure of how good the model is. lower the better.\n",
    "\n",
    "# Compute Coherence Score\n",
    "coherence_model_lda = CoherenceModel(model=lda_model, texts=data_lemmatized, dictionary=id2word, coherence='c_v')\n",
    "coherence_lda = coherence_model_lda.get_coherence()\n",
    "print('\\nCoherence Score: ', coherence_lda)"
   ]
  },
  {
   "cell_type": "code",
   "execution_count": 29,
   "id": "b52826fb",
   "metadata": {
    "scrolled": false
   },
   "outputs": [
    {
     "name": "stderr",
     "output_type": "stream",
     "text": [
      "C:\\Users\\John\\anaconda3\\envs\\hackMT\\lib\\site-packages\\pyLDAvis\\_prepare.py:246: FutureWarning: In a future version of pandas all arguments of DataFrame.drop except for the argument 'labels' will be keyword-only\n",
      "  default_term_info = default_term_info.sort_values(\n"
     ]
    },
    {
     "data": {
      "text/html": [
       "\n",
       "<link rel=\"stylesheet\" type=\"text/css\" href=\"https://cdn.jsdelivr.net/gh/bmabey/pyLDAvis@3.3.1/pyLDAvis/js/ldavis.v1.0.0.css\">\n",
       "\n",
       "\n",
       "<div id=\"ldavis_el795618026678836484369115919\"></div>\n",
       "<script type=\"text/javascript\">\n",
       "\n",
       "var ldavis_el795618026678836484369115919_data = {\"mdsDat\": {\"x\": [0.18512254124981198, 0.10784257262069548, -0.08972008365205801, -0.054143317814953414, 0.04732520263572033, 0.09143786219894554, 0.21329561501176672, -0.03732692702025404, -0.28237882351705007, 0.058004822710873795, -0.04750238357277186, -0.19195708085072818], \"y\": [0.09037317546227254, -0.1693105204835241, 0.17127688479972342, -0.07877561076446767, -0.06315713732939435, -0.0657577066366013, 0.0258276536703674, 0.21643209342122624, 0.0026269461805325583, -0.10968892765104883, 0.19034755944788329, -0.21019441011696968], \"topics\": [1, 2, 3, 4, 5, 6, 7, 8, 9, 10, 11, 12], \"cluster\": [1, 1, 1, 1, 1, 1, 1, 1, 1, 1, 1, 1], \"Freq\": [17.484172851308468, 13.626071509976997, 12.582677086903576, 8.98750184883775, 8.288475827045314, 7.453427501482264, 7.030258941128226, 6.051593850833979, 5.77005196721069, 4.749940858821463, 4.6273447080609955, 3.3484830483903023]}, \"tinfo\": {\"Term\": [\"child\", \"service\", \"school\", \"student\", \"provide\", \"housing\", \"care\", \"health\", \"member\", \"income\", \"low\", \"fund\", \"community\", \"purpose\", \"family\", \"education\", \"organization\", \"public\", \"support\", \"promote\", \"woman\", \"high\", \"church\", \"business\", \"medical\", \"food\", \"foundation\", \"patient\", \"program\", \"youth\", \"labor\", \"creative\", \"literacy\", \"diverse\", \"lifestyle\", \"productive\", \"mind\", \"back\", \"dance\", \"electrical\", \"additionally\", \"exhibition\", \"barrier\", \"environmental\", \"preparation\", \"difference\", \"vehicle\", \"responsibility\", \"accessible\", \"refugee\", \"strategic\", \"put\", \"therapeutic\", \"computer\", \"release\", \"efficient\", \"celebration\", \"speech\", \"contractor\", \"specialized\", \"healthy\", \"skill\", \"empower\", \"art\", \"enrich\", \"model\", \"class\", \"become\", \"self\", \"potential\", \"life\", \"cultural\", \"program\", \"learn\", \"can\", \"experience\", \"job\", \"achieve\", \"choice\", \"more\", \"inspire\", \"mentor\", \"opportunity\", \"focus\", \"community\", \"help\", \"work\", \"create\", \"people\", \"youth\", \"offer\", \"design\", \"training\", \"live\", \"family\", \"make\", \"quality\", \"education\", \"child\", \"need\", \"serve\", \"develop\", \"year\", \"provide\", \"support\", \"business\", \"industry\", \"meeting\", \"policy\", \"agriculture\", \"communication\", \"civic\", \"physician\", \"market\", \"therapy\", \"clinical\", \"agricultural\", \"farmer\", \"employer\", \"heritage\", \"political\", \"festival\", \"celebrate\", \"legislative\", \"forum\", \"datum\", \"civil\", \"attract\", \"tourism\", \"war\", \"exchange\", \"highly\", \"regulatory\", \"economy\", \"southeast\", \"research\", \"cancer\", \"government\", \"economic\", \"regional\", \"tennessean\", \"organizational\", \"farm\", \"information\", \"promotion\", \"promote\", \"issue\", \"state\", \"general\", \"national\", \"regard\", \"awareness\", \"public\", \"member\", \"development\", \"interest\", \"local\", \"practice\", \"organization\", \"professional\", \"education\", \"other\", \"area\", \"opportunity\", \"leadership\", \"support\", \"community\", \"provide\", \"program\", \"include\", \"well\", \"activity\", \"patient\", \"healthcare\", \"nursing\", \"needy\", \"golf\", \"mentally\", \"dental\", \"pregnancy\", \"being\", \"utility\", \"blood\", \"hospice\", \"ill\", \"indigent\", \"medicine\", \"physically\", \"store\", \"covenant\", \"medication\", \"behavioral\", \"nurse\", \"film\", \"developmentally\", \"uninsured\", \"surgical\", \"intellectually\", \"box\", \"acute\", \"furnish\", \"socially\", \"health\", \"medical\", \"senior\", \"hospital\", \"disability\", \"care\", \"clinic\", \"client\", \"service\", \"provider\", \"regardless\", \"baptist\", \"residential\", \"transportation\", \"assistance\", \"provide\", \"individual\", \"center\", \"resident\", \"citizen\", \"adult\", \"serve\", \"quality\", \"need\", \"home\", \"family\", \"support\", \"community\", \"include\", \"treatment\", \"area\", \"person\", \"facility\", \"life\", \"other\", \"program\", \"organization\", \"charitable\", \"exempt\", \"trust\", \"provision\", \"jewish\", \"worship\", \"exclusively\", \"collect\", \"fund\", \"chamber\", \"shall\", \"skilled\", \"step\", \"benevolent\", \"ground\", \"cemetery\", \"amount\", \"next\", \"portion\", \"prayer\", \"trauma\", \"bank\", \"literary\", \"retirement\", \"intend\", \"limited\", \"toy\", \"comprise\", \"solely\", \"monie\", \"maintenance\", \"charity\", \"purchase\", \"contribution\", \"purpose\", \"donation\", \"grant\", \"foundation\", \"asset\", \"entity\", \"tax\", \"carry\", \"recreation\", \"raise\", \"donor\", \"organization\", \"profit\", \"expense\", \"distribution\", \"investment\", \"funding\", \"support\", \"corporation\", \"benefit\", \"use\", \"non\", \"construction\", \"other\", \"activity\", \"facility\", \"various\", \"mission\", \"provide\", \"assist\", \"educational\", \"program\", \"community\", \"make\", \"student\", \"college\", \"academic\", \"teacher\", \"grade\", \"real\", \"enforcement\", \"university\", \"estate\", \"secondary\", \"coalition\", \"charter\", \"agreement\", \"equity\", \"faculty\", \"fraternal\", \"police\", \"lesson\", \"degree\", \"tuition\", \"pool\", \"agent\", \"dining\", \"kindergarten\", \"scholar\", \"dream\", \"priority\", \"math\", \"instructional\", \"pursuant\", \"school\", \"excellence\", \"high\", \"science\", \"thrive\", \"graduate\", \"scholarship\", \"prepare\", \"education\", \"campus\", \"institution\", \"educational\", \"learning\", \"success\", \"private\", \"provide\", \"support\", \"professional\", \"law\", \"parent\", \"foundation\", \"program\", \"service\", \"public\", \"development\", \"promote\", \"mission\", \"girl\", \"library\", \"boy\", \"book\", \"old\", \"scout\", \"soccer\", \"football\", \"word\", \"concert\", \"stimulate\", \"fall\", \"background\", \"literature\", \"peace\", \"thousand\", \"stage\", \"strength\", \"root\", \"nbsp\", \"reading\", \"germantown\", \"belief\", \"academy\", \"pandemic\", \"attendee\", \"goodwill\", \"feel\", \"round\", \"instrument\", \"music\", \"camp\", \"musical\", \"chapter\", \"club\", \"event\", \"summer\", \"video\", \"inner\", \"week\", \"year\", \"country\", \"youth\", \"host\", \"fellowship\", \"activity\", \"annual\", \"performance\", \"program\", \"promote\", \"social\", \"member\", \"hold\", \"include\", \"provide\", \"day\", \"also\", \"approximately\", \"educational\", \"participate\", \"other\", \"encourage\", \"service\", \"church\", \"faith\", \"unite\", \"missionary\", \"biblical\", \"disciple\", \"collective\", \"downtown\", \"neighbor\", \"pastor\", \"broad\", \"survivor\", \"prosperity\", \"ymca\", \"statement\", \"childcare\", \"message\", \"forward\", \"half\", \"truth\", \"mobilize\", \"rebuild\", \"better\", \"transformation\", \"adventure\", \"pastoral\", \"combat\", \"path\", \"presence\", \"listen\", \"ministry\", \"christian\", \"neighborhood\", \"gospel\", \"together\", \"catalyst\", \"human\", \"equip\", \"leader\", \"action\", \"global\", \"world\", \"schedule\", \"possible\", \"community\", \"nonprofit\", \"see\", \"mission\", \"bring\", \"resource\", \"partner\", \"build\", \"vision\", \"work\", \"people\", \"serve\", \"project\", \"leadership\", \"spiritual\", \"group\", \"train\", \"help\", \"organization\", \"development\", \"training\", \"rescue\", \"animal\", \"homeless\", \"shelter\", \"veteran\", \"hope\", \"spread\", \"relief\", \"foreign\", \"dog\", \"adoption\", \"disaster\", \"sexual\", \"orphan\", \"situation\", \"evangelism\", \"humanitarian\", \"preach\", \"pet\", \"cat\", \"prison\", \"abandon\", \"breast\", \"underprivileged\", \"stand\", \"solid\", \"clothe\", \"recover\", \"furniture\", \"hungry\", \"water\", \"woman\", \"heart\", \"man\", \"clothing\", \"food\", \"control\", \"counseling\", \"poor\", \"family\", \"help\", \"assistance\", \"need\", \"aid\", \"provide\", \"spiritual\", \"love\", \"house\", \"assist\", \"home\", \"care\", \"other\", \"mission\", \"support\", \"also\", \"housing\", \"low\", \"elderly\", \"loan\", \"credit\", \"victim\", \"violence\", \"rental\", \"apartment\", \"crime\", \"moderate\", \"tenant\", \"deposit\", \"ownership\", \"abused\", \"regulate\", \"actively\", \"grief\", \"decent\", \"evidence\", \"extremely\", \"mortgage\", \"rehabilitate\", \"salary\", \"assoc\", \"certificate\", \"light\", \"fighting\", \"severe\", \"subsidize\", \"saving\", \"income\", \"complex\", \"unit\", \"lease\", \"affordable\", \"handicapped\", \"account\", \"union\", \"insurance\", \"very\", \"dependent\", \"form\", \"section\", \"participant\", \"provide\", \"eligible\", \"service\", \"person\", \"operate\", \"member\", \"financial\", \"home\", \"employee\", \"benefit\", \"family\", \"project\", \"individual\", \"other\", \"organization\", \"development\", \"fire\", \"preserve\", \"history\", \"reduce\", \"historic\", \"land\", \"park\", \"preservation\", \"museum\", \"restore\", \"concern\", \"historical\", \"restoration\", \"visitor\", \"commercial\", \"habitat\", \"southern\", \"none\", \"radio\", \"tour\", \"death\", \"conservation\", \"guest\", \"especially\", \"south\", \"artistic\", \"response\", \"want\", \"station\", \"television\", \"chattanooga\", \"rural\", \"natural\", \"entertainment\", \"protection\", \"structure\", \"public\", \"space\", \"area\", \"city\", \"operation\", \"great\", \"volunteer\", \"educate\", \"show\", \"provide\", \"people\", \"region\", \"sport\", \"recovery\", \"band\", \"game\", \"garden\", \"baseball\", \"race\", \"basketball\", \"tournament\", \"tennis\", \"swimming\", \"color\", \"swim\", \"player\", \"league\", \"amateur\", \"proceed\", \"booster\", \"little\", \"snack\", \"autism\", \"offender\", \"occur\", \"coaching\", \"same\", \"bar\", \"unwanted\", \"supervise\", \"athlete\", \"sanctuary\", \"coach\", \"child\", \"recreational\", \"co\", \"team\", \"age\", \"parent\", \"play\", \"disorder\", \"environment\", \"safe\", \"home\", \"provide\", \"family\", \"day\", \"facility\", \"athletic\", \"activity\", \"care\", \"youth\", \"adult\", \"program\", \"area\", \"legal\", \"drug\", \"horse\", \"substance\", \"cooperative\", \"alcohol\", \"illness\", \"representation\", \"campaign\", \"wage\", \"trade\", \"neuter\", \"wildlife\", \"spay\", \"electricity\", \"cure\", \"bargaining\", \"vote\", \"component\", \"river\", \"electric\", \"prescription\", \"apprenticeship\", \"apprentice\", \"establishment\", \"former\", \"violent\", \"efficiency\", \"advertising\", \"cattle\", \"worker\", \"mental\", \"condition\", \"abuse\", \"prevention\", \"court\", \"member\", \"local\", \"association\", \"treatment\", \"law\", \"provide\", \"union\", \"advocacy\", \"safety\", \"training\", \"service\", \"benefit\", \"membership\", \"organization\", \"promote\", \"welfare\"], \"Freq\": [2922.0, 4868.0, 2435.0, 2080.0, 9582.0, 1430.0, 2455.0, 1914.0, 2401.0, 1228.0, 1114.0, 1324.0, 4620.0, 1450.0, 2412.0, 2658.0, 3376.0, 1625.0, 3597.0, 2215.0, 770.0, 1063.0, 709.0, 944.0, 1029.0, 816.0, 921.0, 852.0, 4733.0, 1135.0, 161.51802288929494, 155.1761708932258, 151.75243262589626, 140.52652325035567, 119.44939388324546, 116.03209743213213, 104.40636744763343, 97.02285635909377, 96.34276596464902, 85.93894260361569, 82.17199626533603, 79.65668466184373, 79.6473846523965, 78.8603514036061, 78.41029478417835, 78.38422283881691, 77.06272196441468, 75.28052241609241, 75.02579501224672, 74.68883289147917, 72.28510689275858, 69.31912930884509, 64.76647725822501, 62.9176977670738, 61.186822373852294, 61.129390100222224, 60.31837051661336, 57.87468784703836, 57.37497193379544, 56.10613000524146, 407.2907653764686, 652.8051823282163, 389.9897300168369, 733.169219034663, 176.7022252093474, 110.40483001531395, 356.91257067501823, 242.76296345470917, 268.14579407555743, 235.53363520610046, 1290.274431449018, 215.04580144541504, 2634.1791301698117, 397.9697474835569, 350.2434918254812, 421.89494308235334, 284.2165876238495, 194.8382592331089, 132.01486733406475, 432.263394488578, 206.35847545987747, 158.69531768181116, 605.5025776465201, 319.34047447381363, 1666.7709649197402, 652.8096509755014, 648.6637328793959, 383.4643733101771, 637.5850857439324, 518.0944439248702, 394.8659527549643, 252.91884943439496, 420.1476149423094, 348.2505041535175, 558.5683171767527, 344.38869336629756, 381.96580954140035, 518.8069320121319, 517.9898659715228, 407.2739354061741, 396.50690387587076, 343.6219431334311, 354.2731960749841, 377.6622410511393, 351.39582248123327, 943.7526901699093, 643.8956160006989, 474.0158278385485, 404.8323440936368, 286.0229147317129, 238.30180709141217, 167.15265321387017, 165.4188350063543, 158.786083427519, 153.94598085680286, 135.88516252053407, 132.8778830564463, 110.88513648612374, 109.97257499769624, 107.66117921462477, 107.4271902490887, 103.60349350136482, 103.44911777185561, 92.39773548324729, 88.50753607287722, 82.51621321912792, 81.2101705764445, 74.3977549564434, 69.6129723342092, 68.76132215134577, 65.63938877257087, 64.08057608424336, 62.51954155230284, 62.3297689707297, 59.0785220322586, 593.3354105853692, 281.9608192525034, 270.1478929985999, 598.0935706590699, 202.35301062991084, 117.93490493158392, 97.64466723053573, 206.0287201552062, 412.54843948115933, 226.85875843684252, 1438.16280357173, 445.0088397063897, 660.9794111160321, 355.4921286959682, 288.46124393157703, 170.88925143054522, 293.7994126056515, 817.482864002981, 1006.5289422894804, 724.1704526050689, 275.18495380796844, 523.8317099899704, 236.19491137747596, 597.7273565576016, 293.1199920508467, 468.7443257799568, 437.1504558708964, 344.39087082376176, 317.8635958488394, 282.56511548687615, 419.15901785223315, 431.304417844545, 452.0719279064358, 390.20322823345737, 312.0381141160681, 287.84197710716035, 286.28605338088437, 851.3163244010055, 248.21327079675697, 211.09370028562248, 197.02298238425536, 180.93864470921966, 154.85916131830308, 153.79952904728304, 137.61049675943246, 132.979219309836, 128.27627298396933, 114.83178068329887, 113.94200699024557, 102.73735501587632, 97.43322125442023, 98.46078838572207, 86.68450821071693, 86.08554476560617, 78.93615148622433, 78.66062203671147, 76.57873724074472, 73.78796853129094, 70.17752881457614, 68.16914011710384, 60.9115335169667, 60.17983020821622, 58.749089103450004, 55.24612659796587, 50.179662241536086, 48.2004777758423, 46.46098310089135, 1826.3017219046646, 977.3983332015815, 467.4204015866432, 344.6424073357745, 374.71270068351157, 2068.6317339075754, 200.06575636224343, 254.3045405686125, 3275.0180574337332, 162.4336447965705, 138.38492574442094, 167.88031233278832, 252.4736221348297, 201.98669942469783, 671.5978047217146, 3124.1438798436725, 811.7013112775712, 620.4857840680302, 315.95136397052414, 304.1825075383844, 392.28539961099665, 592.1167703475826, 450.2230454278297, 499.1570171902022, 447.4291286755153, 605.2975370543088, 699.4706492987532, 758.3802520436516, 430.35376831366284, 249.09651869615223, 362.6255943462559, 268.77708029899804, 270.7217668090979, 311.75545614998344, 307.6816276565627, 328.78790289274053, 266.1020478452286, 670.1579434056109, 270.6673431090737, 268.2972077223323, 167.3807807506165, 154.76327776132493, 142.28301590289178, 116.07990135156628, 114.97730363021127, 1311.3697470078255, 94.31415307802662, 84.72492687721896, 84.47636097946973, 77.81465471039687, 73.82551101518861, 72.79356242070143, 64.58765850415735, 64.28681240168484, 63.02210875595533, 61.791935402361176, 60.763603911909776, 57.22845897881666, 54.24182736339618, 54.08826451669795, 53.44792896214186, 51.904409987798985, 51.007211570050785, 50.60417668510776, 40.62424731383781, 38.656166092079204, 37.60634825786065, 211.1335396534348, 270.8670967472061, 191.39144548974156, 234.5145598042621, 1251.2699152472396, 255.73716075261103, 486.00474819440547, 748.770307527906, 119.8241782904722, 170.339184038665, 154.88988386052355, 129.07320280530882, 158.59470826262688, 332.7989581411533, 140.55134039717038, 1659.6107412872627, 367.6396201766077, 355.5840585375999, 173.4215383969704, 129.2021357838047, 215.67581686415107, 1253.165307593772, 235.10522916433106, 457.38475930583917, 391.4914157401243, 297.1626525449717, 159.4616647074574, 606.3420257437588, 471.9780214727756, 314.81755089493237, 252.83103766928582, 358.56571570272786, 589.885142082233, 255.0612023167624, 284.7091647143498, 329.85969194373536, 291.72076799979885, 235.3663169541959, 2078.8883340944444, 557.9926745173345, 406.7777665124778, 394.4067613971614, 334.259982496157, 185.25840556932783, 152.86229914918414, 124.62607546080449, 112.22354899606238, 108.88201084151262, 105.40872678946123, 103.14667277027468, 91.85006903290808, 88.5959281699038, 81.9996438984223, 81.66816420486494, 80.65064981820912, 74.20229510890279, 73.90022525391065, 66.25230540561382, 66.15803022852926, 64.44595944859202, 58.55182475602712, 77.57480438203515, 56.30585811111654, 52.75903914582376, 48.743138069935426, 46.27848217642333, 45.69596653857401, 42.32942039220406, 2130.2699906874923, 198.31763942322965, 793.8388361077019, 181.7875769224139, 85.68883165543187, 123.23905355144556, 400.8921397643248, 196.84875692018423, 1270.1415435230126, 105.92656279170076, 142.65441654745976, 547.8695274654519, 178.6656083858147, 144.19678237960503, 168.6363307157699, 1008.01487124154, 575.4383486526586, 231.3773242401866, 138.99437726936495, 158.55394201359212, 172.11736614482388, 229.86648663535263, 227.74896450288492, 183.5396357288755, 179.6066406852756, 176.3200843477255, 164.80408293954687, 353.08257918730345, 247.0812184133345, 227.12369104299316, 212.59249378581845, 161.26651272400417, 133.0048715140501, 121.91713365004992, 101.4093558820903, 98.8415124466031, 89.32609440513419, 77.3811779239509, 76.9338265648999, 73.8555638196332, 73.83484423201523, 70.27186065056685, 70.15950482111366, 69.72541399813817, 66.65021280387771, 65.72863647138765, 64.73961942743892, 60.00772330190555, 59.64754883463827, 59.494298105683555, 59.485985530830256, 57.20999140308324, 56.274387600528215, 55.57905679492342, 55.758278135343176, 55.11948397165359, 50.671353422213606, 578.6522393094328, 340.9899103990736, 98.50002271790117, 233.7863434869458, 303.45742268591266, 545.4917453924053, 236.94472609430304, 84.11145044295648, 101.48395876741809, 169.73316708976628, 556.8553815741556, 206.97927917728916, 481.68575676798395, 139.52726162725634, 138.67514848537448, 416.86484233766424, 194.45556874718702, 133.76278784416428, 561.8708329874304, 348.07219943428134, 225.70337877415952, 316.43953698344586, 150.58193474038916, 239.10488226488673, 391.9567313256711, 170.98621352948334, 188.99743561326466, 154.9292629498298, 182.05798184863886, 144.1659876429756, 156.28662478201394, 145.61971101996218, 152.43124761709095, 708.9223909526884, 225.53452609757787, 135.61374513555478, 132.2261737292715, 122.98690349513504, 113.73498558102197, 108.69087145543962, 103.16395198167237, 81.18752876916513, 73.56189948377975, 70.01596955675602, 69.12295467663577, 65.89271504216494, 64.34124490776387, 63.49917077559373, 58.88725377688762, 58.709684550352435, 57.68722346589586, 47.1827827018475, 46.893726626514734, 45.10194182185685, 44.01052521280452, 41.082275189878686, 40.57180012484458, 41.78507316348713, 39.735661884914386, 39.681620471877764, 39.14678637190714, 36.50889336187624, 35.96745831638276, 555.9083317344688, 544.2990682872969, 177.79322114790685, 228.9172437816561, 180.6926201093362, 54.70414446683524, 162.40552164572782, 178.79017102178327, 336.9693373926678, 134.32246834738856, 106.55353021540583, 264.02059953432274, 188.13559309395225, 135.4502353687722, 1188.9150537901644, 142.75343048796404, 233.3484121324307, 616.1133419210236, 194.99691281086137, 373.05510518779863, 248.1941748822537, 261.73591982312223, 134.5808007111914, 348.0810943138222, 349.5147158397326, 344.3881117718674, 230.4326551937622, 230.17671468825753, 166.70479942966136, 213.12495853144276, 169.29144833410436, 205.44608998062077, 221.5513469722481, 192.69148810427487, 170.23342046992744, 356.690356021166, 355.5448880694936, 342.03207827422585, 339.4554282028773, 329.5515073273517, 276.77842927805955, 144.99193568546866, 134.78274617466195, 127.64837863345072, 121.28127535913538, 114.52257052672674, 104.43208376309515, 103.37675517650415, 100.97216834778219, 99.85912043738922, 97.70684348382869, 87.09905217677141, 80.18347974066295, 79.94742508136603, 74.8307029406328, 72.53196835015875, 62.464837474381945, 58.23786368153065, 56.1448979280245, 48.56926429832137, 45.84062268586317, 45.683498975889314, 45.02883610081623, 44.886722227178204, 44.512611221094836, 222.882480889511, 718.0568309578708, 150.0699807571291, 377.61936073631324, 158.49256285679837, 616.6679525937554, 136.34255390420972, 277.67387724596193, 109.299348349523, 625.6152010368063, 414.1768340247917, 382.8620871638778, 440.10868900086246, 190.57990702113833, 899.9438683480786, 163.15548476668633, 161.1267414276663, 141.91716393278966, 191.61515888452067, 184.85710687202626, 201.18435388155805, 176.49952554904854, 164.32133074306623, 148.93173399804652, 138.6964517774369, 1429.1911388839644, 1113.3135596182, 439.9015886354058, 314.040188236785, 305.01399714602167, 218.9109607710013, 207.39214159860458, 159.17083524144613, 146.4483541069262, 124.31142730630658, 101.66812437878264, 86.21666672207398, 71.83706518753863, 62.0358923386827, 60.589403684716274, 57.036248041550444, 56.564786481084454, 53.96844413400662, 45.97102616091683, 45.35230288824874, 42.7334087573085, 42.45855470192908, 39.94598193756135, 37.81513043450016, 37.75064238758919, 35.02740436072087, 34.58215745347072, 34.19014185345841, 31.640250914266147, 30.278206960106342, 113.31304201822822, 1131.973987688528, 128.26729747964194, 240.14470538615768, 100.09932461679819, 388.67324369745467, 130.81642472254418, 84.27564282474711, 330.83974460975554, 168.58652580431954, 84.05617709966921, 54.84816480334972, 190.69859297398085, 138.16573028297705, 197.39966163207941, 1458.9865365707058, 103.22428365044932, 800.7159960673185, 232.8822648921434, 265.24969592242354, 436.0115351968841, 245.8757313259152, 289.96850032722324, 151.44429723018888, 231.72734542677586, 261.42592844903794, 177.11050638430598, 203.8234438980253, 164.3964713955893, 162.07075524292472, 147.33287241691264, 317.31310032377814, 296.7520158295848, 207.7988696214253, 192.84965637913533, 188.27149943639205, 177.7385867943175, 164.3120781654444, 156.80056274848238, 156.27005990283885, 147.40657261483616, 145.7844144841131, 131.8539770272597, 118.86224644531026, 116.17896437641055, 114.45786513156968, 109.19820406512325, 104.57053320812821, 87.88008721725608, 79.37762344955081, 80.55782988871253, 74.2608834570392, 138.29293797338067, 160.57607557065785, 71.03842710392298, 68.27481598133349, 62.559112135644604, 60.9266310514567, 59.04930007447149, 57.06285875086015, 56.23854391698585, 224.74738550735555, 246.3298393354313, 143.69466085303057, 108.12344231900909, 126.36085718505048, 121.48590054933172, 507.7910867206971, 97.77379658961169, 270.0489671603955, 167.51969059234884, 170.039106121597, 154.26938559527886, 165.8878992816838, 146.90500084152254, 121.2094629707508, 173.94965689173182, 123.30127409771292, 119.94508839554926, 307.63878938260706, 158.02149081657018, 128.62909663974563, 122.45950177750264, 112.04431318329252, 110.00464866062333, 103.68820329779305, 96.82885957506227, 95.09012261569781, 76.67737988444131, 72.22470406125275, 69.54276634981582, 69.37501948838248, 67.23277771770867, 65.68903506126293, 63.39561146052105, 62.60437202422993, 59.97167630681902, 58.1484438640997, 57.4598930309151, 54.632548595384456, 52.437516826748244, 52.001538563826436, 50.72413427213689, 50.60159374224351, 47.98050967407892, 47.06347737095274, 43.59695081068983, 111.8484203598964, 43.01469034218353, 137.7256488359147, 2342.2475753950343, 175.0378866479844, 125.47916799350642, 257.4195890602852, 400.4264340758292, 297.610655763274, 126.21369696428208, 115.26112400763103, 241.0875279275078, 207.94166045215064, 284.5321910367728, 727.1127517078156, 338.7485480188936, 183.8803265016196, 196.86566764428431, 96.05925758701949, 186.6609017943526, 184.81475707945975, 134.5630871453566, 123.11811728743186, 138.2422750714292, 107.0440697655859, 294.532899442197, 228.7244044248336, 157.25131375429294, 132.06712566230925, 119.53230442838982, 111.09089433264596, 103.09161745332754, 100.01397903801656, 99.6909039164717, 87.47745729172625, 85.49274262295553, 73.96334654969627, 71.45888083350697, 64.54962682668437, 60.83891433040344, 60.002845753083704, 59.9725143919066, 57.64995904156031, 56.27433344920836, 54.282933432783544, 50.71832606964792, 50.46405501236353, 48.868374227653426, 39.64764042981507, 39.072956164141516, 35.454118572342146, 34.05097635579298, 33.73711790015361, 33.41287853893, 33.01641463839928, 226.96320710269242, 352.6106429323998, 128.1015530423671, 232.63229299768557, 131.75576518154148, 87.85703277037767, 554.1705737087652, 272.64808324133344, 102.91169657581383, 135.31972790600057, 102.48713532055403, 345.76902597154395, 113.42952119206593, 100.02481563645837, 95.86968590223425, 138.7279437033161, 191.66203739220384, 126.39658377306394, 96.40285766003076, 112.52751608115031, 107.08872179612035, 92.00479917489133], \"Total\": [2922.0, 4868.0, 2435.0, 2080.0, 9582.0, 1430.0, 2455.0, 1914.0, 2401.0, 1228.0, 1114.0, 1324.0, 4620.0, 1450.0, 2412.0, 2658.0, 3376.0, 1625.0, 3597.0, 2215.0, 770.0, 1063.0, 709.0, 944.0, 1029.0, 816.0, 921.0, 852.0, 4733.0, 1135.0, 162.46930246471192, 156.12735604339426, 152.70361841974756, 141.4777134879918, 120.40059598670055, 116.98328082745736, 105.35755831804639, 97.9740631793072, 97.2939520403355, 86.89018334791167, 83.12319639902712, 80.60788547858098, 80.5985679622186, 79.811567970145, 79.36152117578993, 79.33543350853205, 78.01395268593032, 76.23171993181958, 75.97700485778516, 75.64432268241346, 73.23632578884067, 70.27102449484109, 65.71767822959514, 63.868896904237516, 62.13802949817033, 62.08062741004385, 61.26961871708941, 58.82588349795589, 58.32617518490071, 57.05738337172123, 438.2897632396939, 719.1551949676935, 422.5350232926798, 818.5439457055779, 186.51553314310772, 115.56454362708077, 399.8966706845223, 266.3106767235975, 308.11215643048945, 271.7188700941416, 1851.4208546071568, 250.54728201507413, 4733.654273005533, 546.2396435603029, 469.46392671091473, 587.5046460855517, 370.9902739577797, 239.93065111445, 149.91707895517195, 655.6928576372062, 260.79935613964165, 189.90768961265601, 1096.1827701683787, 473.18117964491046, 4620.722503477777, 1353.3244630343181, 1363.8492775652937, 663.9966732225615, 1468.6199463341625, 1135.1207112313236, 790.9975867780412, 392.20676422494745, 1111.1537940207877, 765.2941627374352, 2412.7759043086876, 824.6486901642667, 1152.9090258171175, 2658.3726468440314, 2922.389435613057, 1590.3846339884412, 1729.3399227167727, 932.6738160330165, 1341.2656041097982, 9582.270426636138, 3597.011345811286, 944.7181410538192, 644.8512685547038, 475.0977708449013, 405.8226778457961, 286.9785575716831, 239.25746503879932, 168.1088409865695, 166.37449434291557, 159.74174028095146, 154.90167512043234, 136.84081233510923, 133.83352474784468, 111.84077660159203, 110.92826082872315, 108.61685998963908, 108.38283582594832, 104.55917546327856, 104.40483254246865, 93.35337326291784, 89.46318651825555, 83.47186855163189, 82.16582668987279, 75.35341684455062, 70.56860804264723, 69.71699116418628, 66.59504198900449, 65.03623789918761, 63.47518614088828, 63.28542144580337, 60.03484197672261, 613.8753908974619, 295.28796202726363, 283.4385537444833, 667.17078731851, 215.51702150469376, 123.78852758855798, 101.32468498544327, 228.00241381161854, 492.2428911820122, 258.48088344698044, 2215.8582417440143, 580.039705879917, 920.3077415820487, 494.1791576597752, 386.7784261510849, 200.58811392246943, 413.302099176079, 1625.4586242622765, 2401.1274338433054, 1584.7631922678283, 435.2166248920378, 1409.117581733114, 367.94891184948847, 3376.2284879123927, 734.8218187819937, 2658.3726468440314, 2277.0998296123153, 1397.2554063956159, 1096.1827701683787, 715.1134544384261, 3597.011345811286, 4620.722503477777, 9582.270426636138, 4733.654273005533, 1646.6360290714074, 1023.086825578809, 1509.3124718617973, 852.2744438333016, 249.1713927831991, 212.05478714471818, 197.98111227458517, 181.89684422165152, 155.81730804980583, 154.75765222572986, 138.56862117617968, 133.93744140203682, 129.23442023983495, 115.78992472736361, 114.90012384744962, 103.69547046204717, 98.39134458116716, 99.43006157697768, 87.64264008091743, 87.04368903532495, 79.89426733244898, 79.61874108896453, 77.5371267781955, 74.74608732466055, 71.13575651747593, 69.12726742736591, 61.869645802471645, 61.13795799182325, 59.70721395698145, 56.204311333698776, 51.13777652862577, 49.15866396569376, 47.41912478619724, 1914.6370118246605, 1029.6117249019378, 495.48055515509196, 369.39551622388956, 403.4238567481794, 2455.413130012629, 219.15705142791813, 292.21855221875387, 4868.5080913560005, 184.84323845940773, 154.1374159098159, 193.5607333050225, 317.11790537353784, 255.38088575305318, 1240.9402953820647, 9582.270426636138, 1609.419040599249, 1180.4967907172886, 480.2149589595159, 503.91792943137483, 789.7626891598203, 1729.3399227167727, 1152.9090258171175, 1590.3846339884412, 1297.148883267352, 2412.7759043086876, 3597.011345811286, 4620.722503477777, 1646.6360290714074, 449.90938462594, 1397.2554063956159, 604.3369718801881, 838.435100645539, 1851.4208546071568, 2277.0998296123153, 4733.654273005533, 3376.2284879123927, 671.1110837913577, 271.62048081041166, 269.25035499133816, 168.33406212640767, 155.71643085186716, 143.2362078008934, 117.03303502258119, 115.93046110139753, 1324.2979412169336, 95.2673176041163, 85.67807883528344, 85.42954496577727, 78.7678942640382, 74.77865707496412, 73.74767703376453, 65.5407861284796, 65.23996168042106, 63.97533980845196, 62.74511785069062, 61.71677621357351, 58.18167958253562, 55.194996750542465, 55.041414647898826, 54.40108455005498, 52.85763153127689, 51.960388060504485, 51.557346123943084, 41.57748797042676, 39.60932625396622, 38.55949251068761, 218.11871695399557, 283.78167496858316, 204.0180773264115, 253.25642061260544, 1450.5992421227916, 285.53689809986554, 571.0995231035047, 921.7571232315072, 129.82955555340166, 193.62210127646304, 176.5014709802748, 147.11092726555583, 187.05011299364386, 458.0331649057422, 166.72170935273084, 3376.2284879123927, 558.1376536709419, 547.934289699499, 222.23161980560872, 151.1031937012916, 304.9400231006486, 3597.011345811286, 352.9618510032636, 1001.7510017297238, 860.0563978819886, 586.2633084628281, 205.74022127152338, 2277.0998296123153, 1509.3124718617973, 838.435100645539, 567.9478211893983, 2006.081228425072, 9582.270426636138, 859.7353628487651, 1490.1142996601784, 4733.654273005533, 4620.722503477777, 824.6486901642667, 2080.5928511911015, 558.9476616287425, 407.7349745519006, 395.3618075448085, 335.21507977818277, 186.21342064934257, 153.81732617674285, 125.58106330903004, 113.17853652951074, 109.8370076568289, 106.36378594228715, 104.10168808171308, 92.80511853018339, 89.55102199765491, 82.95463652696111, 82.62315352634252, 81.60566296117143, 75.15731484881084, 74.8552103895925, 67.207296808092, 67.11305438572441, 65.40096014176656, 59.506876547972645, 78.85404642124135, 57.26084557574687, 53.714091341946755, 49.69815723054113, 47.24048324843937, 46.65096821000435, 43.284484373476054, 2435.1122359405467, 225.50792433149456, 1063.43236925081, 213.35982252842516, 93.7617138007691, 145.1089903646749, 594.6937026315233, 261.28509692541405, 2658.3726468440314, 126.47977712427611, 195.17936912927044, 1490.1142996601784, 301.53868573640216, 222.17493862101287, 321.5204879727232, 9582.270426636138, 3597.011345811286, 734.8218187819937, 283.5664055944256, 469.07681234096765, 921.7571232315072, 4733.654273005533, 4868.5080913560005, 1625.4586242622765, 1584.7631922678283, 2215.8582417440143, 2006.081228425072, 354.0357249856352, 248.03436915760506, 228.07684202311316, 213.54564775298937, 162.21985208371885, 133.9580135033579, 122.87028193114756, 102.36250628438077, 99.79466450732866, 90.27924450018448, 78.33436495066283, 77.88700455943005, 74.80874480135004, 74.78799099265926, 71.22504480262828, 71.11269098097455, 70.67861604366871, 67.60339648008755, 66.68183763684901, 65.69275950634386, 60.96087475757024, 60.60073666542795, 60.4474877026691, 60.439153827251886, 58.16315934927996, 57.22761671480572, 56.53222424623048, 56.72235826019887, 56.07263717366849, 51.62452156576311, 599.3640466037149, 365.7935044434475, 105.77199224477768, 290.3026942000283, 395.0545784877678, 801.0073483785958, 315.7403171761891, 91.83866352368176, 122.09613072225255, 246.4466634218522, 1341.2656041097982, 334.7576059675413, 1135.1207112313236, 193.90525781877818, 206.20287687426355, 1509.3124718617973, 406.032373652921, 216.6226024929744, 4733.654273005533, 2215.8582417440143, 848.9617241290185, 2401.1274338433054, 397.3581594263947, 1646.6360290714074, 9582.270426636138, 645.3828338874138, 965.2158742735977, 487.17579003054357, 1490.1142996601784, 439.0747318602214, 2277.0998296123153, 567.8073191571781, 4868.5080913560005, 709.8745145220413, 226.48665744490194, 136.56588622194013, 133.17829092072998, 123.9390234752294, 114.68710342109958, 109.64306615046317, 104.11608293316564, 82.13966430038364, 74.5141918737804, 70.96814219885759, 70.07510142540784, 66.84484509780175, 65.29337314838484, 64.45132571768083, 59.83942128685082, 59.66180475122131, 58.639359824249304, 48.134963446686704, 47.8458692446235, 46.054061637982464, 44.962670541047, 42.03444599480732, 41.52392913195232, 42.771241817913065, 40.6877849892893, 40.63377123022332, 40.09895040101588, 37.46104324167785, 36.919612178312754, 693.6960568890311, 701.6804540030986, 208.22215422241388, 276.2016429731423, 236.59469256917754, 59.30403848735438, 225.43525860810973, 259.3350393570007, 595.1240828907218, 186.46398750596546, 139.29305995427143, 465.8623367292569, 297.9548856708665, 193.592322417349, 4620.722503477777, 216.40402729235436, 450.28528867307926, 2006.081228425072, 352.7794388014946, 982.5511076487652, 520.515884936492, 635.5104809015796, 210.71852466877374, 1363.8492775652937, 1468.6199463341625, 1729.3399227167727, 704.5620862906806, 715.1134544384261, 330.7225751366336, 661.9895924727199, 414.55713947540437, 1353.3244630343181, 3376.2284879123927, 1584.7631922678283, 1111.1537940207877, 357.64141797903784, 356.49594818642373, 342.98314655816347, 340.40649266099535, 330.50273018854483, 277.72951063422585, 145.94302210310676, 135.7338235819767, 128.59947094466753, 122.2323424983516, 115.4736311012765, 105.38315029655774, 104.32790317144074, 101.92323136278657, 100.8102073563097, 98.65792052582579, 88.05012875298159, 81.13455698660921, 80.8984840317122, 75.78177081975967, 73.48303557761491, 63.41590111001721, 59.18894398150191, 57.09599075554105, 49.52040879547984, 46.791717335636555, 46.63599497770871, 45.979915256437, 45.83779874316174, 45.463675481102875, 232.23289716280846, 770.4733928742082, 158.8887275223379, 419.0168569696834, 171.20039080284175, 816.2362280416594, 155.48131516603405, 500.31388629441864, 143.40262086910664, 2412.7759043086876, 1353.3244630343181, 1240.9402953820647, 1590.3846339884412, 379.36176490760283, 9582.270426636138, 330.7225751366336, 352.00102036912165, 266.1705634515008, 859.7353628487651, 1297.148883267352, 2455.413130012629, 2277.0998296123153, 2006.081228425072, 3597.011345811286, 965.2158742735977, 1430.1437335771072, 1114.2660240814114, 440.8540429708399, 314.9926456447272, 305.9664634752503, 219.8634384790777, 208.34463841604173, 160.12330568497754, 147.40080843522472, 125.26394159478033, 102.62057612550542, 87.1691185764809, 72.78952053261493, 62.988379583441386, 61.541894916476025, 57.988710899265385, 57.51741030829649, 54.92097277069234, 46.92348235138307, 46.3049582231079, 43.685873849641744, 43.41101173091309, 40.898474404170074, 38.76766083962161, 38.70316360909268, 35.98001791643167, 35.53466551792916, 35.14262904134216, 32.59280113955064, 31.230686806907176, 118.03864675023665, 1228.2564279446804, 135.2680568093138, 259.9730026845371, 107.422634218848, 461.23131699600447, 146.16379100141722, 91.29891492109729, 445.139787794648, 236.53082197927534, 105.33615600145805, 59.618398866303146, 334.529728816371, 220.7042476593503, 385.54398324845386, 9582.270426636138, 147.0766852393654, 4868.5080913560005, 604.3369718801881, 802.8700230945988, 2401.1274338433054, 822.1610093208061, 1297.148883267352, 315.38391953644714, 1001.7510017297238, 2412.7759043086876, 704.5620862906806, 1609.419040599249, 2277.0998296123153, 3376.2284879123927, 1584.7631922678283, 318.26729785751564, 297.70622021128344, 208.75360697418722, 193.80390148380107, 189.22569442696957, 178.69279488776047, 165.26628047433758, 157.75475929780347, 157.22425433226172, 148.36078954115862, 146.73864611972274, 132.8081763600582, 119.81644965238978, 117.13316942391388, 115.41210627536286, 110.15240654586908, 105.52475083381275, 88.83429707776604, 80.33183308921278, 81.57025676289692, 75.21510487084242, 140.1399348676127, 162.72554846535468, 71.9926694496075, 69.2290542468603, 63.513324515926875, 61.88084400710747, 60.003565230435264, 58.01706501897172, 57.19275201433038, 248.66666878789067, 304.49661878814334, 165.69500382023392, 120.57621762383006, 151.53072995135207, 154.96259785190782, 1625.4586242622765, 124.19284421020419, 1397.2554063956159, 489.92064615549793, 537.6819760279313, 475.8415943034426, 730.927081648684, 701.6399519760371, 238.62525120028033, 9582.270426636138, 1468.6199463341625, 384.33269350980044, 308.59368514231625, 158.97639565985708, 129.58398946488674, 123.41438720096374, 112.99922161818837, 110.95952313119211, 104.64309132740034, 97.78373612925645, 96.04501265006236, 77.63225514106169, 73.17957666390157, 70.49769414048797, 70.32989794592953, 68.1876654235883, 66.64391043731894, 64.35049112699524, 63.559290205018065, 60.92655735892958, 59.103341437863136, 58.41478824525439, 55.58742959685456, 53.392431926064475, 52.9564511618354, 51.67904724147564, 51.556524143000125, 48.93542043192076, 48.018381274901955, 44.551846248587935, 114.32992036660691, 43.9696108456412, 144.1603026522104, 2922.389435613057, 202.43095672998084, 150.52379264544035, 373.02626445895504, 667.8965622223338, 469.07681234096765, 180.8973989535139, 166.41069430784614, 535.5147319797921, 460.50882552054543, 1297.148883267352, 9582.270426636138, 2412.7759043086876, 645.3828338874138, 838.435100645539, 179.25246301767328, 1509.3124718617973, 2455.413130012629, 1135.1207112313236, 789.7626891598203, 4733.654273005533, 1397.2554063956159, 295.49187805575656, 229.68337657226047, 158.2102776104946, 133.0260981173063, 120.49128580182524, 112.04986128346818, 104.05059658321568, 100.97294456003641, 100.64991366024576, 88.4364389856078, 86.45171332773161, 74.92231611172967, 72.41786332934566, 65.50859669075845, 61.7979047836145, 60.96182285128056, 60.93147943353832, 58.60895172642845, 57.2333751305059, 55.2419349959671, 51.67730830977372, 51.42306475110412, 49.82735000127527, 40.60660001393895, 40.03195208744075, 36.413132312455545, 35.00996870925679, 34.696098020198995, 34.371850695383905, 33.97538393220248, 244.37029677302633, 392.9145669812263, 153.78650379765, 326.5243663708745, 193.33514319402389, 120.56407362793988, 2401.1274338433054, 1409.117581733114, 213.6392411947292, 449.90938462594, 283.5664055944256, 9582.270426636138, 445.139787794648, 308.7096552460876, 275.86304000902095, 1111.1537940207877, 4868.5080913560005, 1001.7510017297238, 338.0579337991241, 3376.2284879123927, 2215.8582417440143, 333.1943904070262], \"Category\": [\"Default\", \"Default\", \"Default\", \"Default\", \"Default\", \"Default\", \"Default\", \"Default\", \"Default\", \"Default\", \"Default\", \"Default\", \"Default\", \"Default\", \"Default\", \"Default\", \"Default\", \"Default\", \"Default\", \"Default\", \"Default\", \"Default\", \"Default\", \"Default\", \"Default\", \"Default\", \"Default\", \"Default\", \"Default\", \"Default\", \"Topic1\", \"Topic1\", \"Topic1\", \"Topic1\", \"Topic1\", \"Topic1\", \"Topic1\", \"Topic1\", \"Topic1\", \"Topic1\", \"Topic1\", \"Topic1\", \"Topic1\", \"Topic1\", \"Topic1\", \"Topic1\", \"Topic1\", \"Topic1\", \"Topic1\", \"Topic1\", \"Topic1\", \"Topic1\", \"Topic1\", \"Topic1\", \"Topic1\", \"Topic1\", \"Topic1\", \"Topic1\", \"Topic1\", \"Topic1\", \"Topic1\", \"Topic1\", \"Topic1\", \"Topic1\", \"Topic1\", \"Topic1\", \"Topic1\", \"Topic1\", \"Topic1\", \"Topic1\", \"Topic1\", \"Topic1\", \"Topic1\", \"Topic1\", \"Topic1\", \"Topic1\", \"Topic1\", \"Topic1\", \"Topic1\", \"Topic1\", \"Topic1\", \"Topic1\", \"Topic1\", \"Topic1\", \"Topic1\", \"Topic1\", \"Topic1\", \"Topic1\", \"Topic1\", \"Topic1\", \"Topic1\", \"Topic1\", \"Topic1\", \"Topic1\", \"Topic1\", \"Topic1\", \"Topic1\", \"Topic1\", \"Topic1\", \"Topic1\", \"Topic1\", \"Topic1\", \"Topic1\", \"Topic1\", \"Topic1\", \"Topic2\", \"Topic2\", \"Topic2\", \"Topic2\", \"Topic2\", \"Topic2\", \"Topic2\", \"Topic2\", \"Topic2\", \"Topic2\", \"Topic2\", \"Topic2\", \"Topic2\", \"Topic2\", \"Topic2\", \"Topic2\", \"Topic2\", \"Topic2\", \"Topic2\", \"Topic2\", \"Topic2\", \"Topic2\", \"Topic2\", \"Topic2\", \"Topic2\", \"Topic2\", \"Topic2\", \"Topic2\", \"Topic2\", \"Topic2\", \"Topic2\", \"Topic2\", \"Topic2\", \"Topic2\", \"Topic2\", \"Topic2\", \"Topic2\", \"Topic2\", \"Topic2\", \"Topic2\", \"Topic2\", \"Topic2\", \"Topic2\", \"Topic2\", \"Topic2\", \"Topic2\", \"Topic2\", \"Topic2\", \"Topic2\", \"Topic2\", \"Topic2\", \"Topic2\", \"Topic2\", \"Topic2\", \"Topic2\", \"Topic2\", \"Topic2\", \"Topic2\", \"Topic2\", \"Topic2\", \"Topic2\", \"Topic2\", \"Topic2\", \"Topic2\", \"Topic2\", \"Topic2\", \"Topic2\", \"Topic3\", \"Topic3\", \"Topic3\", \"Topic3\", \"Topic3\", \"Topic3\", \"Topic3\", \"Topic3\", \"Topic3\", \"Topic3\", \"Topic3\", \"Topic3\", \"Topic3\", \"Topic3\", \"Topic3\", \"Topic3\", \"Topic3\", \"Topic3\", \"Topic3\", \"Topic3\", \"Topic3\", \"Topic3\", \"Topic3\", \"Topic3\", \"Topic3\", \"Topic3\", \"Topic3\", \"Topic3\", \"Topic3\", \"Topic3\", \"Topic3\", \"Topic3\", \"Topic3\", \"Topic3\", \"Topic3\", \"Topic3\", \"Topic3\", \"Topic3\", \"Topic3\", \"Topic3\", \"Topic3\", \"Topic3\", \"Topic3\", \"Topic3\", \"Topic3\", \"Topic3\", \"Topic3\", \"Topic3\", \"Topic3\", \"Topic3\", \"Topic3\", \"Topic3\", \"Topic3\", \"Topic3\", \"Topic3\", \"Topic3\", \"Topic3\", \"Topic3\", \"Topic3\", \"Topic3\", \"Topic3\", \"Topic3\", \"Topic3\", \"Topic3\", \"Topic3\", \"Topic3\", \"Topic3\", \"Topic4\", \"Topic4\", \"Topic4\", \"Topic4\", \"Topic4\", \"Topic4\", \"Topic4\", \"Topic4\", \"Topic4\", \"Topic4\", \"Topic4\", \"Topic4\", \"Topic4\", \"Topic4\", \"Topic4\", \"Topic4\", \"Topic4\", \"Topic4\", \"Topic4\", \"Topic4\", \"Topic4\", \"Topic4\", \"Topic4\", \"Topic4\", \"Topic4\", \"Topic4\", \"Topic4\", \"Topic4\", \"Topic4\", \"Topic4\", \"Topic4\", \"Topic4\", \"Topic4\", \"Topic4\", \"Topic4\", \"Topic4\", \"Topic4\", \"Topic4\", \"Topic4\", \"Topic4\", \"Topic4\", \"Topic4\", \"Topic4\", \"Topic4\", \"Topic4\", \"Topic4\", \"Topic4\", \"Topic4\", \"Topic4\", \"Topic4\", \"Topic4\", \"Topic4\", \"Topic4\", \"Topic4\", \"Topic4\", \"Topic4\", \"Topic4\", \"Topic4\", \"Topic4\", \"Topic4\", \"Topic4\", \"Topic4\", \"Topic4\", \"Topic4\", \"Topic4\", \"Topic4\", \"Topic4\", \"Topic4\", \"Topic5\", \"Topic5\", \"Topic5\", \"Topic5\", \"Topic5\", \"Topic5\", \"Topic5\", \"Topic5\", \"Topic5\", \"Topic5\", \"Topic5\", \"Topic5\", \"Topic5\", \"Topic5\", \"Topic5\", \"Topic5\", \"Topic5\", \"Topic5\", \"Topic5\", \"Topic5\", \"Topic5\", \"Topic5\", \"Topic5\", \"Topic5\", \"Topic5\", \"Topic5\", \"Topic5\", \"Topic5\", \"Topic5\", \"Topic5\", \"Topic5\", \"Topic5\", \"Topic5\", \"Topic5\", \"Topic5\", \"Topic5\", \"Topic5\", \"Topic5\", \"Topic5\", \"Topic5\", \"Topic5\", \"Topic5\", \"Topic5\", \"Topic5\", \"Topic5\", \"Topic5\", \"Topic5\", \"Topic5\", \"Topic5\", \"Topic5\", \"Topic5\", \"Topic5\", \"Topic5\", \"Topic5\", \"Topic5\", \"Topic5\", \"Topic5\", \"Topic6\", \"Topic6\", \"Topic6\", \"Topic6\", \"Topic6\", \"Topic6\", \"Topic6\", \"Topic6\", \"Topic6\", \"Topic6\", \"Topic6\", \"Topic6\", \"Topic6\", \"Topic6\", \"Topic6\", \"Topic6\", \"Topic6\", \"Topic6\", \"Topic6\", \"Topic6\", \"Topic6\", \"Topic6\", \"Topic6\", \"Topic6\", \"Topic6\", \"Topic6\", \"Topic6\", \"Topic6\", \"Topic6\", \"Topic6\", \"Topic6\", \"Topic6\", \"Topic6\", \"Topic6\", \"Topic6\", \"Topic6\", \"Topic6\", \"Topic6\", \"Topic6\", \"Topic6\", \"Topic6\", \"Topic6\", \"Topic6\", \"Topic6\", \"Topic6\", \"Topic6\", \"Topic6\", \"Topic6\", \"Topic6\", \"Topic6\", \"Topic6\", \"Topic6\", \"Topic6\", \"Topic6\", \"Topic6\", \"Topic6\", \"Topic6\", \"Topic6\", \"Topic6\", \"Topic6\", \"Topic6\", \"Topic6\", \"Topic6\", \"Topic7\", \"Topic7\", \"Topic7\", \"Topic7\", \"Topic7\", \"Topic7\", \"Topic7\", \"Topic7\", \"Topic7\", \"Topic7\", \"Topic7\", \"Topic7\", \"Topic7\", \"Topic7\", \"Topic7\", \"Topic7\", \"Topic7\", \"Topic7\", \"Topic7\", \"Topic7\", \"Topic7\", \"Topic7\", \"Topic7\", \"Topic7\", \"Topic7\", \"Topic7\", \"Topic7\", \"Topic7\", \"Topic7\", \"Topic7\", \"Topic7\", \"Topic7\", \"Topic7\", \"Topic7\", \"Topic7\", \"Topic7\", \"Topic7\", \"Topic7\", \"Topic7\", \"Topic7\", \"Topic7\", \"Topic7\", \"Topic7\", \"Topic7\", \"Topic7\", \"Topic7\", \"Topic7\", \"Topic7\", \"Topic7\", \"Topic7\", \"Topic7\", \"Topic7\", \"Topic7\", \"Topic7\", \"Topic7\", \"Topic7\", \"Topic7\", \"Topic7\", \"Topic7\", \"Topic7\", \"Topic7\", \"Topic7\", \"Topic7\", \"Topic7\", \"Topic7\", \"Topic8\", \"Topic8\", \"Topic8\", \"Topic8\", \"Topic8\", \"Topic8\", \"Topic8\", \"Topic8\", \"Topic8\", \"Topic8\", \"Topic8\", \"Topic8\", \"Topic8\", \"Topic8\", \"Topic8\", \"Topic8\", \"Topic8\", \"Topic8\", \"Topic8\", \"Topic8\", \"Topic8\", \"Topic8\", \"Topic8\", \"Topic8\", \"Topic8\", \"Topic8\", \"Topic8\", \"Topic8\", \"Topic8\", \"Topic8\", \"Topic8\", \"Topic8\", \"Topic8\", \"Topic8\", \"Topic8\", \"Topic8\", \"Topic8\", \"Topic8\", \"Topic8\", \"Topic8\", \"Topic8\", \"Topic8\", \"Topic8\", \"Topic8\", \"Topic8\", \"Topic8\", \"Topic8\", \"Topic8\", \"Topic8\", \"Topic8\", \"Topic8\", \"Topic8\", \"Topic8\", \"Topic8\", \"Topic8\", \"Topic9\", \"Topic9\", \"Topic9\", \"Topic9\", \"Topic9\", \"Topic9\", \"Topic9\", \"Topic9\", \"Topic9\", \"Topic9\", \"Topic9\", \"Topic9\", \"Topic9\", \"Topic9\", \"Topic9\", \"Topic9\", \"Topic9\", \"Topic9\", \"Topic9\", \"Topic9\", \"Topic9\", \"Topic9\", \"Topic9\", \"Topic9\", \"Topic9\", \"Topic9\", \"Topic9\", \"Topic9\", \"Topic9\", \"Topic9\", \"Topic9\", \"Topic9\", \"Topic9\", \"Topic9\", \"Topic9\", \"Topic9\", \"Topic9\", \"Topic9\", \"Topic9\", \"Topic9\", \"Topic9\", \"Topic9\", \"Topic9\", \"Topic9\", \"Topic9\", \"Topic9\", \"Topic9\", \"Topic9\", \"Topic9\", \"Topic9\", \"Topic9\", \"Topic9\", \"Topic9\", \"Topic9\", \"Topic9\", \"Topic9\", \"Topic9\", \"Topic9\", \"Topic9\", \"Topic9\", \"Topic9\", \"Topic10\", \"Topic10\", \"Topic10\", \"Topic10\", \"Topic10\", \"Topic10\", \"Topic10\", \"Topic10\", \"Topic10\", \"Topic10\", \"Topic10\", \"Topic10\", \"Topic10\", \"Topic10\", \"Topic10\", \"Topic10\", \"Topic10\", \"Topic10\", \"Topic10\", \"Topic10\", \"Topic10\", \"Topic10\", \"Topic10\", \"Topic10\", \"Topic10\", \"Topic10\", \"Topic10\", \"Topic10\", \"Topic10\", \"Topic10\", \"Topic10\", \"Topic10\", \"Topic10\", \"Topic10\", \"Topic10\", \"Topic10\", \"Topic10\", \"Topic10\", \"Topic10\", \"Topic10\", \"Topic10\", \"Topic10\", \"Topic10\", \"Topic10\", \"Topic10\", \"Topic10\", \"Topic10\", \"Topic10\", \"Topic11\", \"Topic11\", \"Topic11\", \"Topic11\", \"Topic11\", \"Topic11\", \"Topic11\", \"Topic11\", \"Topic11\", \"Topic11\", \"Topic11\", \"Topic11\", \"Topic11\", \"Topic11\", \"Topic11\", \"Topic11\", \"Topic11\", \"Topic11\", \"Topic11\", \"Topic11\", \"Topic11\", \"Topic11\", \"Topic11\", \"Topic11\", \"Topic11\", \"Topic11\", \"Topic11\", \"Topic11\", \"Topic11\", \"Topic11\", \"Topic11\", \"Topic11\", \"Topic11\", \"Topic11\", \"Topic11\", \"Topic11\", \"Topic11\", \"Topic11\", \"Topic11\", \"Topic11\", \"Topic11\", \"Topic11\", \"Topic11\", \"Topic11\", \"Topic11\", \"Topic11\", \"Topic11\", \"Topic11\", \"Topic11\", \"Topic11\", \"Topic11\", \"Topic11\", \"Topic11\", \"Topic12\", \"Topic12\", \"Topic12\", \"Topic12\", \"Topic12\", \"Topic12\", \"Topic12\", \"Topic12\", \"Topic12\", \"Topic12\", \"Topic12\", \"Topic12\", \"Topic12\", \"Topic12\", \"Topic12\", \"Topic12\", \"Topic12\", \"Topic12\", \"Topic12\", \"Topic12\", \"Topic12\", \"Topic12\", \"Topic12\", \"Topic12\", \"Topic12\", \"Topic12\", \"Topic12\", \"Topic12\", \"Topic12\", \"Topic12\", \"Topic12\", \"Topic12\", \"Topic12\", \"Topic12\", \"Topic12\", \"Topic12\", \"Topic12\", \"Topic12\", \"Topic12\", \"Topic12\", \"Topic12\", \"Topic12\", \"Topic12\", \"Topic12\", \"Topic12\", \"Topic12\", \"Topic12\", \"Topic12\", \"Topic12\", \"Topic12\", \"Topic12\", \"Topic12\"], \"logprob\": [30.0, 29.0, 28.0, 27.0, 26.0, 25.0, 24.0, 23.0, 22.0, 21.0, 20.0, 19.0, 18.0, 17.0, 16.0, 15.0, 14.0, 13.0, 12.0, 11.0, 10.0, 9.0, 8.0, 7.0, 6.0, 5.0, 4.0, 3.0, 2.0, 1.0, -5.9553, -5.9954, -6.0177, -6.0945, -6.257, -6.2861, -6.3916, -6.465, -6.472, -6.5863, -6.6311, -6.6622, -6.6623, -6.6723, -6.678, -6.6783, -6.6953, -6.7187, -6.7221, -6.7266, -6.7593, -6.8012, -6.8692, -6.8981, -6.926, -6.9269, -6.9403, -6.9817, -6.9903, -7.0127, -5.0304, -4.5587, -5.0738, -4.4426, -5.8655, -6.3358, -5.1624, -5.5479, -5.4484, -5.5781, -3.8773, -5.6691, -3.1636, -5.0536, -5.1813, -4.9952, -5.3902, -5.7678, -6.157, -4.9709, -5.7103, -5.973, -4.6339, -5.2737, -3.6213, -4.5587, -4.565, -5.0907, -4.5823, -4.7898, -5.0614, -5.5069, -4.9993, -5.187, -4.7146, -5.1982, -5.0946, -4.7884, -4.79, -5.0305, -5.0572, -5.2004, -5.1699, -5.1059, -5.178, -3.9408, -4.3231, -4.6294, -4.7872, -5.1346, -5.3171, -5.6717, -5.6821, -5.7231, -5.754, -5.8788, -5.9012, -6.0821, -6.0904, -6.1116, -6.1138, -6.1501, -6.1515, -6.2645, -6.3075, -6.3776, -6.3936, -6.4812, -6.5477, -6.56, -6.6065, -6.6305, -6.6552, -6.6582, -6.7118, -4.4049, -5.1489, -5.1917, -4.3969, -5.4806, -6.0205, -6.2093, -5.4626, -4.7683, -5.3663, -3.5195, -4.6925, -4.2969, -4.9171, -5.1261, -5.6496, -5.1077, -4.0844, -3.8764, -4.2056, -5.1732, -4.5295, -5.326, -4.3975, -5.11, -4.6406, -4.7104, -4.9489, -5.029, -5.1467, -4.7524, -4.7238, -4.6768, -4.824, -5.0475, -5.1282, -5.1336, -3.9642, -5.1967, -5.3587, -5.4276, -5.5128, -5.6684, -5.6753, -5.7865, -5.8208, -5.8568, -5.9675, -5.9753, -6.0788, -6.1318, -6.1213, -6.2487, -6.2556, -6.3423, -6.3458, -6.3726, -6.4098, -6.4599, -6.489, -6.6015, -6.6136, -6.6377, -6.6992, -6.7954, -6.8356, -6.8724, -3.2009, -3.8261, -4.5637, -4.8685, -4.7848, -3.0763, -5.4123, -5.1724, -2.6169, -5.6207, -5.7809, -5.5877, -5.1797, -5.4028, -4.2013, -2.664, -4.0118, -4.2805, -4.9554, -4.9933, -4.739, -4.3273, -4.6012, -4.498, -4.6074, -4.3052, -4.1606, -4.0798, -4.6464, -5.1931, -4.8176, -5.1171, -5.1099, -4.9687, -4.9819, -4.9156, -5.1271, -3.867, -4.7736, -4.7824, -5.2542, -5.3326, -5.4167, -5.6202, -5.6297, -3.1957, -5.8278, -5.9351, -5.938, -6.0201, -6.0728, -6.0869, -6.2065, -6.2111, -6.231, -6.2507, -6.2675, -6.3274, -6.381, -6.3839, -6.3958, -6.4251, -6.4425, -6.4504, -6.6701, -6.7198, -6.7473, -5.022, -4.7729, -5.1202, -4.917, -3.2426, -4.8303, -4.1883, -3.756, -5.5885, -5.2367, -5.3318, -5.5141, -5.3081, -4.5669, -5.4289, -2.9601, -4.4674, -4.5007, -5.2188, -5.5131, -5.0007, -3.2411, -4.9144, -4.249, -4.4045, -4.6802, -5.3027, -3.967, -4.2175, -4.6225, -4.8418, -4.4924, -3.9946, -4.833, -4.723, -4.5758, -4.6987, -4.9133, -2.6539, -3.9692, -4.2852, -4.3161, -4.4816, -5.0718, -5.264, -5.4682, -5.573, -5.6032, -5.6357, -5.6574, -5.7734, -5.8094, -5.8868, -5.8908, -5.9034, -5.9867, -5.9908, -6.1, -6.1015, -6.1277, -6.2236, -5.9423, -6.2627, -6.3278, -6.4069, -6.4588, -6.4715, -6.548, -2.6295, -5.0036, -3.6166, -5.0907, -5.8428, -5.4794, -4.2998, -5.0111, -3.1466, -5.6308, -5.3331, -3.9875, -5.108, -5.3223, -5.1658, -3.3778, -3.9384, -4.8495, -5.3591, -5.2274, -5.1453, -4.856, -4.8653, -5.0811, -5.1027, -5.1212, -5.1888, -4.3206, -4.6776, -4.7618, -4.8279, -5.1043, -5.2969, -5.384, -5.5682, -5.5938, -5.695, -5.8386, -5.8444, -5.8852, -5.8855, -5.9349, -5.9365, -5.9428, -5.9879, -6.0018, -6.0169, -6.0928, -6.0989, -6.1014, -6.1016, -6.1406, -6.1571, -6.1695, -6.1663, -6.1778, -6.262, -3.8266, -4.3555, -5.5973, -4.7329, -4.4721, -3.8856, -4.7195, -5.7552, -5.5674, -5.0531, -3.865, -4.8547, -4.01, -5.2491, -5.2552, -4.1546, -4.9171, -5.2913, -3.856, -4.3349, -4.7681, -4.4302, -5.1728, -4.7104, -4.2162, -5.0457, -4.9456, -5.1443, -4.983, -5.2164, -5.1356, -5.2063, -5.1606, -3.5651, -4.7104, -5.2191, -5.2444, -5.3168, -5.395, -5.4404, -5.4925, -5.7321, -5.8307, -5.8801, -5.893, -5.9408, -5.9647, -5.9778, -6.0532, -6.0563, -6.0738, -6.2748, -6.281, -6.3199, -6.3444, -6.4133, -6.4258, -6.3963, -6.4466, -6.448, -6.4615, -6.5313, -6.5463, -3.8083, -3.8294, -4.9482, -4.6955, -4.9321, -6.1269, -5.0388, -4.9427, -4.3089, -5.2286, -5.4602, -4.5528, -4.8917, -5.2203, -3.0481, -5.1677, -4.6763, -3.7054, -4.8559, -4.2071, -4.6147, -4.5615, -5.2267, -4.2764, -4.2723, -4.2871, -4.6889, -4.69, -5.0126, -4.767, -4.9972, -4.8037, -4.7282, -4.8678, -4.9917, -4.1021, -4.1053, -4.1441, -4.1516, -4.1812, -4.3557, -5.0023, -5.0753, -5.1297, -5.1809, -5.2382, -5.3304, -5.3406, -5.3641, -5.3752, -5.397, -5.5119, -5.5946, -5.5976, -5.6637, -5.6949, -5.8444, -5.9144, -5.951, -6.096, -6.1538, -6.1572, -6.1717, -6.1748, -6.1832, -4.5723, -3.4024, -4.9679, -4.0451, -4.9133, -3.5546, -5.0638, -4.3525, -5.2849, -3.5402, -3.9527, -4.0313, -3.8919, -4.7289, -3.1766, -4.8843, -4.8968, -5.0237, -4.7235, -4.7594, -4.6747, -4.8056, -4.8771, -4.9755, -5.0467, -2.6665, -2.9162, -3.8448, -4.1818, -4.211, -4.5427, -4.5967, -4.8613, -4.9447, -5.1085, -5.3096, -5.4745, -5.6569, -5.8036, -5.8272, -5.8876, -5.8959, -5.9429, -6.1033, -6.1169, -6.1763, -6.1828, -6.2438, -6.2986, -6.3003, -6.3752, -6.388, -6.3994, -6.4769, -6.5209, -5.2012, -2.8996, -5.0772, -4.4501, -5.3252, -3.9686, -5.0575, -5.4972, -4.1297, -4.8039, -5.4998, -5.9268, -4.6806, -5.0029, -4.6461, -2.6458, -5.2944, -3.2458, -4.4808, -4.3507, -3.8537, -4.4265, -4.2616, -4.9111, -4.4858, -4.3652, -4.7546, -4.6141, -4.829, -4.8433, -4.9386, -3.9769, -4.0439, -4.4002, -4.4749, -4.4989, -4.5565, -4.635, -4.6818, -4.6852, -4.7436, -4.7546, -4.8551, -4.9588, -4.9816, -4.9966, -5.0436, -5.0869, -5.2608, -5.3626, -5.3478, -5.4292, -4.8074, -4.658, -5.4736, -5.5132, -5.6007, -5.6271, -5.6584, -5.6926, -5.7072, -4.3218, -4.2301, -4.7691, -5.0535, -4.8976, -4.937, -3.5067, -5.1541, -4.1382, -4.6157, -4.6007, -4.6981, -4.6255, -4.747, -4.9393, -4.578, -4.9221, -4.9497, -3.9817, -4.6479, -4.8537, -4.9028, -4.9917, -5.0101, -5.0692, -5.1377, -5.1558, -5.371, -5.4308, -5.4687, -5.4711, -5.5025, -5.5257, -5.5612, -5.5738, -5.6168, -5.6476, -5.6595, -5.71, -5.751, -5.7594, -5.7842, -5.7866, -5.8398, -5.8591, -5.9356, -4.9935, -5.9491, -4.7854, -1.9518, -4.5456, -4.8785, -4.1599, -3.7181, -4.0148, -4.8727, -4.9634, -4.2255, -4.3734, -4.0598, -3.1215, -3.8854, -4.4963, -4.4281, -5.1457, -4.4813, -4.4913, -4.8086, -4.8975, -4.7816, -5.0374, -3.7018, -3.9546, -4.3293, -4.5038, -4.6036, -4.6768, -4.7515, -4.7818, -4.7851, -4.9158, -4.9387, -5.0836, -5.118, -5.2197, -5.2789, -5.2928, -5.2933, -5.3328, -5.3569, -5.3929, -5.4609, -5.4659, -5.498, -5.7071, -5.7217, -5.8189, -5.8593, -5.8686, -5.8782, -5.8901, -3.9624, -3.5218, -4.5343, -3.9377, -4.5062, -4.9114, -3.0697, -3.779, -4.7533, -4.4795, -4.7574, -3.5414, -4.656, -4.7817, -4.8242, -4.4546, -4.1314, -4.5477, -4.8186, -4.664, -4.7135, -4.8653], \"loglift\": [30.0, 29.0, 28.0, 27.0, 26.0, 25.0, 24.0, 23.0, 22.0, 21.0, 20.0, 19.0, 18.0, 17.0, 16.0, 15.0, 14.0, 13.0, 12.0, 11.0, 10.0, 9.0, 8.0, 7.0, 6.0, 5.0, 4.0, 3.0, 2.0, 1.0, 1.738, 1.7378, 1.7376, 1.7371, 1.7359, 1.7357, 1.7348, 1.7341, 1.734, 1.7329, 1.7324, 1.732, 1.732, 1.7319, 1.7318, 1.7318, 1.7316, 1.7313, 1.7313, 1.7312, 1.7308, 1.7302, 1.7293, 1.7289, 1.7284, 1.7284, 1.7282, 1.7276, 1.7274, 1.7271, 1.6705, 1.6471, 1.6637, 1.6337, 1.6898, 1.6982, 1.6302, 1.6513, 1.6049, 1.601, 1.3828, 1.5911, 1.1577, 1.4272, 1.4509, 1.4127, 1.4774, 1.5357, 1.6167, 1.3272, 1.5097, 1.5643, 1.1503, 1.3507, 0.7242, 1.0148, 1.0007, 1.1948, 0.9095, 0.9595, 1.0491, 1.3052, 0.7713, 0.9565, 0.2807, 0.8707, 0.6392, 0.1099, 0.0137, 0.3816, 0.2711, 0.7454, 0.4126, -1.4898, -0.5821, 1.9922, 1.9917, 1.9909, 1.9907, 1.9898, 1.9892, 1.9875, 1.9874, 1.9872, 1.987, 1.9862, 1.986, 1.9846, 1.9845, 1.9843, 1.9843, 1.984, 1.984, 1.9829, 1.9824, 1.9817, 1.9815, 1.9804, 1.9796, 1.9794, 1.9787, 1.9784, 1.978, 1.978, 1.9771, 1.9592, 1.947, 1.9452, 1.8839, 1.9302, 1.9447, 1.9562, 1.8918, 1.8166, 1.8627, 1.5609, 1.7282, 1.6622, 1.6638, 1.6999, 1.8329, 1.6519, 1.3059, 1.1238, 1.21, 1.5348, 1.0036, 1.5499, 0.2618, 1.0741, 0.2578, 0.3428, 0.5927, 0.7552, 1.0647, -0.1564, -0.3783, -1.0606, -0.5026, 0.3298, 0.725, 0.3308, 2.0717, 2.069, 2.0683, 2.068, 2.0676, 2.0667, 2.0666, 2.0659, 2.0657, 2.0654, 2.0645, 2.0645, 2.0636, 2.0631, 2.0631, 2.0619, 2.0618, 2.0608, 2.0607, 2.0604, 2.0599, 2.0593, 2.0589, 2.0572, 2.0571, 2.0567, 2.0557, 2.0539, 2.0532, 2.0524, 2.0256, 2.0208, 2.0146, 2.0035, 1.999, 1.9014, 1.9817, 1.9339, 1.6764, 1.9436, 1.965, 1.9305, 1.8449, 1.8383, 1.4589, 0.9521, 1.3884, 1.4297, 1.6542, 1.5681, 1.3731, 1.0011, 1.1325, 0.914, 1.0084, 0.69, 0.4353, 0.2657, 0.731, 1.4816, 0.724, 1.2626, 0.9424, 0.2914, 0.0713, -0.5942, -0.4678, 2.4079, 2.4058, 2.4058, 2.4037, 2.4032, 2.4027, 2.4012, 2.4011, 2.3995, 2.3993, 2.3981, 2.3981, 2.3972, 2.3965, 2.3963, 2.3947, 2.3946, 2.3943, 2.394, 2.3938, 2.3928, 2.3919, 2.3919, 2.3917, 2.3911, 2.3908, 2.3907, 2.3861, 2.385, 2.3843, 2.3768, 2.3628, 2.3454, 2.3325, 2.2615, 2.2991, 2.248, 2.2015, 2.3291, 2.2812, 2.2787, 2.2785, 2.2443, 2.0899, 2.2386, 1.6992, 1.9918, 1.9769, 2.1613, 2.2528, 2.063, 1.3549, 2.003, 1.6254, 1.6223, 1.7298, 2.1545, 1.0861, 1.2469, 1.4298, 1.6, 0.6875, -0.3784, 1.1942, 0.7542, -0.2545, -0.3532, 1.1555, 2.4895, 2.4886, 2.488, 2.4879, 2.4875, 2.4852, 2.4841, 2.4827, 2.4818, 2.4816, 2.4813, 2.4811, 2.48, 2.4796, 2.4787, 2.4787, 2.4785, 2.4775, 2.4775, 2.476, 2.476, 2.4756, 2.4741, 2.4739, 2.4735, 2.4724, 2.4709, 2.4697, 2.4696, 2.468, 2.3566, 2.3618, 2.1979, 2.3302, 2.4003, 2.3269, 2.096, 2.2071, 1.7517, 2.313, 2.1768, 1.4897, 1.9669, 2.058, 1.845, 0.2384, 0.6576, 1.3347, 1.7773, 1.4056, 0.8122, -0.5347, -0.572, 0.3092, 0.3129, -0.0408, -0.0089, 2.5938, 2.5926, 2.5923, 2.592, 2.5906, 2.5894, 2.5887, 2.5871, 2.5869, 2.5859, 2.5843, 2.5842, 2.5837, 2.5837, 2.583, 2.583, 2.5829, 2.5823, 2.5821, 2.5819, 2.5807, 2.5806, 2.5806, 2.5806, 2.58, 2.5797, 2.5795, 2.5794, 2.5794, 2.5779, 2.5613, 2.5263, 2.5253, 2.38, 2.3327, 2.2123, 2.3094, 2.5086, 2.4116, 2.2236, 1.7174, 2.1157, 1.7393, 2.2674, 2.1998, 1.3098, 1.8603, 2.1144, 0.4653, 0.7455, 1.2717, 0.5699, 1.6262, 0.6669, -0.6, 1.2682, 0.9659, 1.4508, 0.4942, 1.4828, -0.0825, 1.2357, -0.8673, 2.6536, 2.6507, 2.648, 2.6478, 2.6472, 2.6466, 2.6462, 2.6458, 2.6433, 2.6421, 2.6414, 2.6413, 2.6406, 2.6403, 2.6401, 2.6389, 2.6389, 2.6386, 2.635, 2.6348, 2.6341, 2.6335, 2.632, 2.6318, 2.6316, 2.6313, 2.6312, 2.6309, 2.6292, 2.6288, 2.4335, 2.401, 2.497, 2.4672, 2.3854, 2.5742, 2.327, 2.283, 2.0862, 2.327, 2.387, 2.0871, 2.1952, 2.2978, 1.2974, 2.2389, 1.9976, 1.4744, 2.0621, 1.6865, 1.9143, 1.7679, 2.2066, 1.2893, 1.2194, 1.0412, 1.5373, 1.5214, 1.9699, 1.5216, 1.7594, 0.7698, -0.0689, 0.5478, 0.779, 2.8022, 2.8022, 2.8021, 2.8021, 2.802, 2.8014, 2.7983, 2.7978, 2.7974, 2.797, 2.7966, 2.7958, 2.7957, 2.7955, 2.7954, 2.7952, 2.794, 2.7931, 2.793, 2.7922, 2.7918, 2.7897, 2.7886, 2.7881, 2.7855, 2.7843, 2.7842, 2.7839, 2.7839, 2.7837, 2.7638, 2.7344, 2.7477, 2.7008, 2.7277, 2.5245, 2.6735, 2.2161, 2.5333, 1.4551, 1.6208, 1.6289, 1.5201, 2.1164, 0.4395, 2.0983, 2.0234, 2.176, 1.3037, 0.8565, 0.303, 0.2475, 0.3027, -0.3795, 0.8648, 2.8518, 2.8516, 2.8503, 2.8495, 2.8494, 2.8481, 2.8479, 2.8465, 2.846, 2.8449, 2.8432, 2.8415, 2.8393, 2.8373, 2.8369, 2.8359, 2.8358, 2.835, 2.832, 2.8317, 2.8304, 2.8303, 2.8289, 2.8276, 2.8276, 2.8257, 2.8253, 2.825, 2.8228, 2.8215, 2.8116, 2.7709, 2.7993, 2.7732, 2.7819, 2.6813, 2.7416, 2.7724, 2.5557, 2.5139, 2.6268, 2.7691, 2.2905, 2.3841, 2.1831, 0.9703, 2.4984, 1.0475, 1.8989, 1.745, 1.1465, 1.6454, 1.3543, 2.1189, 1.3885, 0.6301, 1.4717, 0.7861, 0.2241, -0.184, 0.477, 3.044, 3.0438, 3.0425, 3.0421, 3.042, 3.0417, 3.0412, 3.041, 3.041, 3.0406, 3.0405, 3.0398, 3.039, 3.0389, 3.0387, 3.0383, 3.038, 3.0362, 3.0351, 3.0345, 3.0343, 3.0338, 3.0337, 3.0337, 3.0332, 3.0319, 3.0315, 3.031, 3.0305, 3.0302, 2.9459, 2.835, 2.9046, 2.938, 2.8654, 2.8037, 1.8836, 2.8079, 1.4034, 1.9739, 1.8958, 1.9207, 1.564, 1.4834, 2.3697, -0.9619, 0.5696, 1.8826, 3.0701, 3.0672, 3.0658, 3.0654, 3.0647, 3.0645, 3.064, 3.0634, 3.0632, 3.0608, 3.0601, 3.0595, 3.0595, 3.0591, 3.0588, 3.0582, 3.058, 3.0574, 3.0569, 3.0567, 3.0559, 3.0551, 3.055, 3.0545, 3.0545, 3.0535, 3.0531, 3.0515, 3.0512, 3.0512, 3.0275, 2.8519, 2.9278, 2.8912, 2.7022, 2.5616, 2.6182, 2.7132, 2.7059, 2.2751, 2.2781, 1.5561, 0.4946, 1.1099, 1.8176, 1.6242, 2.4494, 0.9831, 0.4865, 0.9407, 1.2146, -0.4603, 0.5042, 3.3934, 3.3925, 3.3906, 3.3894, 3.3887, 3.3881, 3.3874, 3.3871, 3.3871, 3.3858, 3.3855, 3.3838, 3.3833, 3.3819, 3.381, 3.3808, 3.3808, 3.3802, 3.3798, 3.3792, 3.3779, 3.3778, 3.3772, 3.3728, 3.3724, 3.37, 3.3689, 3.3686, 3.3684, 3.368, 3.3228, 3.2884, 3.2139, 3.0576, 3.0132, 3.0802, 1.9304, 1.7541, 2.6662, 2.1953, 2.379, 0.0748, 2.0295, 2.2697, 2.3397, 1.316, 0.1619, 1.3266, 2.142, -0.0047, 0.3669, 2.1098]}, \"token.table\": {\"Topic\": [8, 8, 11, 12, 9, 5, 6, 1, 9, 12, 1, 5, 2, 7, 9, 1, 2, 3, 4, 5, 6, 11, 3, 1, 8, 1, 3, 6, 11, 7, 12, 1, 2, 3, 11, 12, 3, 9, 1, 3, 6, 11, 5, 5, 2, 2, 2, 3, 4, 5, 7, 8, 12, 1, 2, 3, 4, 5, 6, 8, 10, 11, 12, 11, 4, 8, 2, 5, 6, 7, 9, 12, 12, 1, 3, 5, 6, 8, 9, 10, 11, 12, 2, 3, 4, 5, 6, 7, 8, 10, 11, 1, 10, 10, 2, 4, 5, 1, 2, 3, 4, 5, 7, 8, 9, 10, 11, 1, 3, 4, 5, 7, 8, 9, 9, 4, 5, 10, 12, 5, 11, 5, 11, 6, 2, 11, 1, 2, 8, 10, 1, 6, 11, 4, 3, 7, 11, 12, 1, 11, 11, 1, 5, 7, 3, 3, 6, 2, 3, 4, 5, 9, 10, 12, 4, 7, 7, 3, 6, 11, 3, 6, 8, 1, 2, 6, 7, 8, 10, 7, 1, 6, 7, 9, 10, 2, 1, 6, 11, 12, 1, 5, 8, 1, 2, 3, 7, 8, 10, 11, 2, 8, 3, 8, 11, 4, 7, 8, 2, 7, 12, 2, 1, 4, 1, 2, 3, 6, 7, 8, 10, 11, 9, 4, 2, 6, 4, 3, 4, 5, 5, 10, 1, 3, 8, 11, 7, 1, 3, 5, 7, 8, 7, 1, 2, 3, 5, 6, 7, 9, 2, 4, 5, 6, 7, 10, 2, 2, 1, 5, 6, 1, 3, 3, 6, 8, 2, 8, 3, 8, 6, 11, 1, 11, 7, 11, 11, 5, 4, 7, 5, 11, 7, 10, 2, 1, 2, 3, 4, 5, 6, 7, 8, 9, 10, 11, 9, 10, 12, 4, 1, 10, 6, 1, 2, 12, 10, 12, 4, 8, 9, 1, 4, 7, 2, 8, 12, 2, 4, 7, 9, 1, 3, 8, 9, 2, 5, 6, 7, 8, 10, 11, 12, 3, 1, 2, 5, 7, 10, 1, 9, 9, 1, 2, 12, 1, 2, 1, 2, 3, 6, 11, 10, 9, 5, 3, 3, 9, 9, 1, 2, 3, 5, 10, 1, 2, 5, 6, 7, 9, 11, 12, 1, 2, 5, 6, 7, 9, 11, 3, 1, 5, 3, 11, 8, 7, 2, 11, 2, 4, 7, 12, 1, 8, 2, 4, 6, 8, 4, 7, 7, 5, 12, 1, 2, 7, 2, 1, 2, 5, 6, 7, 8, 10, 11, 12, 1, 2, 3, 5, 6, 7, 8, 10, 12, 1, 2, 3, 4, 5, 6, 8, 10, 12, 1, 9, 12, 1, 12, 3, 9, 12, 2, 4, 9, 2, 1, 7, 1, 2, 5, 6, 7, 10, 12, 5, 1, 6, 5, 10, 2, 4, 9, 1, 3, 5, 9, 11, 12, 1, 1, 7, 5, 10, 12, 5, 8, 1, 2, 6, 7, 10, 11, 9, 2, 5, 2, 4, 4, 1, 3, 4, 5, 6, 8, 1, 3, 5, 6, 7, 8, 10, 11, 9, 3, 4, 5, 6, 8, 9, 11, 5, 7, 6, 1, 3, 4, 7, 8, 9, 11, 2, 10, 2, 6, 3, 4, 5, 6, 8, 2, 9, 3, 1, 3, 4, 5, 7, 8, 9, 10, 1, 2, 3, 5, 7, 8, 1, 2, 3, 8, 6, 8, 1, 2, 3, 5, 7, 9, 10, 12, 2, 7, 4, 5, 5, 4, 12, 2, 4, 5, 7, 3, 8, 11, 11, 2, 5, 8, 9, 10, 6, 6, 5, 6, 7, 3, 6, 7, 8, 2, 9, 5, 1, 5, 1, 2, 4, 5, 1, 2, 4, 6, 7, 10, 9, 4, 1, 2, 3, 5, 7, 8, 10, 11, 5, 10, 10, 7, 3, 9, 1, 2, 3, 3, 1, 7, 11, 6, 8, 1, 2, 3, 4, 7, 8, 10, 11, 2, 1, 3, 5, 6, 11, 2, 10, 10, 10, 2, 4, 6, 3, 4, 8, 9, 10, 11, 8, 8, 12, 3, 3, 4, 1, 2, 6, 1, 8, 9, 10, 9, 2, 3, 7, 8, 8, 3, 12, 1, 2, 3, 4, 5, 6, 7, 8, 10, 11, 12, 4, 9, 3, 1, 2, 3, 4, 7, 8, 9, 11, 2, 2, 3, 12, 6, 8, 1, 6, 2, 5, 10, 5, 6, 3, 9, 3, 4, 2, 4, 5, 6, 9, 12, 2, 4, 7, 1, 2, 7, 8, 9, 12, 4, 1, 2, 8, 12, 5, 1, 10, 2, 5, 12, 2, 6, 7, 2, 5, 6, 7, 11, 1, 2, 5, 6, 1, 5, 11, 5, 9, 12, 2, 5, 6, 1, 2, 3, 6, 7, 8, 9, 10, 12, 1, 9, 4, 7, 1, 4, 6, 11, 1, 3, 6, 7, 8, 10, 9, 1, 2, 3, 4, 6, 7, 8, 10, 12, 1, 7, 8, 9, 1, 4, 1, 2, 4, 6, 7, 9, 10, 5, 6, 8, 11, 2, 5, 3, 8, 3, 3, 2, 2, 4, 5, 6, 9, 11, 12, 2, 4, 6, 12, 1, 12, 3, 1, 7, 7, 1, 7, 8, 1, 2, 3, 4, 5, 6, 7, 8, 10, 11, 12, 7, 7, 1, 5, 9, 4, 1, 2, 3, 6, 7, 9, 9, 10, 6, 10, 6, 10, 2, 5, 6, 7, 11, 8, 10, 6, 1, 3, 4, 5, 7, 8, 11, 3, 7, 6, 7, 9, 12, 4, 1, 3, 4, 5, 7, 10, 12, 10, 2, 4, 7, 3, 3, 11, 11, 1, 2, 3, 5, 11, 6, 3, 4, 5, 9, 10, 3, 4, 5, 8, 9, 10, 11, 1, 2, 5, 6, 7, 10, 11, 1, 2, 3, 4, 5, 6, 7, 8, 9, 10, 11, 12, 2, 5, 8, 1, 2, 3, 4, 5, 6, 7, 8, 9, 10, 12, 9, 6, 1, 5, 11, 10, 1, 6, 9, 1, 2, 6, 11, 1, 7, 7, 7, 7, 3, 6, 1, 2, 3, 6, 7, 8, 10, 1, 6, 1, 3, 5, 9, 10, 8, 3, 2, 6, 11, 11, 5, 2, 2, 5, 3, 8, 4, 2, 6, 7, 9, 1, 2, 7, 1, 2, 5, 11, 4, 8, 3, 1, 1, 5, 6, 11, 12, 7, 10, 10, 1, 12, 5, 8, 2, 4, 5, 11, 11, 1, 1, 2, 3, 5, 1, 4, 7, 9, 1, 2, 3, 4, 5, 6, 7, 8, 9, 11, 1, 2, 4, 5, 7, 8, 9, 10, 2, 3, 4, 5, 6, 7, 9, 10, 11, 12, 2, 6, 10, 7, 2, 10, 1, 2, 3, 4, 5, 6, 7, 8, 9, 10, 11, 12, 1, 2, 3, 4, 2, 4, 5, 6, 10, 12, 1, 4, 9, 2, 4, 5, 6, 7, 9, 5, 1, 1, 2, 3, 5, 9, 11, 10, 1, 2, 4, 7, 6, 5, 7, 8, 11, 1, 4, 4, 11, 10, 1, 2, 11, 1, 3, 1, 2, 3, 10, 2, 7, 11, 9, 2, 9, 1, 8, 9, 12, 8, 2, 5, 1, 3, 4, 7, 9, 10, 3, 8, 9, 10, 1, 2, 3, 5, 7, 9, 10, 10, 1, 10, 10, 4, 12, 6, 6, 3, 10, 1, 3, 8, 9, 11, 12, 1, 2, 3, 11, 12, 9, 11, 11, 2, 9, 1, 2, 3, 7, 5, 4, 5, 1, 5, 6, 2, 5, 6, 5, 4, 9, 1, 2, 3, 4, 6, 7, 1, 3, 6, 3, 5, 9, 1, 2, 3, 4, 5, 6, 7, 8, 9, 10, 11, 12, 1, 2, 3, 5, 6, 7, 8, 9, 10, 12, 9, 8, 4, 8, 1, 2, 6, 10, 12, 8, 1, 6, 11, 4, 11, 6, 1, 2, 3, 6, 7, 11, 3, 4, 8, 10, 2, 10, 2, 10, 12, 1, 1, 7, 8, 11, 8, 6, 8, 2, 3, 5, 9, 10, 11, 12, 7, 10, 4, 6, 3, 1, 6, 1, 10, 5, 6, 9, 12, 1, 5, 1, 6, 11, 11, 1, 2, 3, 4, 5, 6, 7, 8, 11, 12, 3, 7, 11, 11, 3, 4, 5, 1, 7, 8, 11, 10, 9, 2, 12, 11, 1, 2, 6, 5, 12, 1, 2, 7, 10, 10, 2, 11, 4, 12, 1, 2, 3, 5, 7, 8, 11, 12, 1, 2, 3, 5, 6, 7, 8, 11, 12, 7, 1, 3, 8, 11, 4, 2, 3, 8, 12, 4, 7, 5, 8, 3, 9, 12, 3, 9, 7, 5, 11, 1, 2, 3, 4, 6, 7, 10, 11, 12, 3, 1, 2, 3, 4, 5, 6, 7, 8, 1, 1, 2, 9, 8, 9, 2, 6, 9, 12, 3, 5, 7, 9, 10, 1, 2, 3, 6, 7, 8, 9, 10, 11, 12, 12, 10, 2, 1, 8, 3, 6, 11, 2, 3, 9, 12, 1, 2, 3, 4, 5, 6, 7, 8, 9, 12, 12, 6, 7, 8, 6, 1, 2, 3, 7, 8, 10, 12, 1, 12, 1, 2, 5, 6, 7, 8, 4, 1, 2, 3, 4, 5, 6, 7, 8, 11, 7, 1, 6, 11], \"Freq\": [0.9776727747263131, 0.1439402532876099, 0.14087769470702244, 0.7135761492768745, 0.991194698876083, 0.9981974208793142, 0.9761883855726158, 0.987140782140413, 0.920054746243094, 0.065718196160221, 0.8127348427316295, 0.18338632348816256, 0.2735112591023421, 0.718637425876742, 0.9910042836504087, 0.007288086599079818, 0.18949025157607527, 0.03644043299539909, 0.3127251704332431, 0.05366681950231502, 0.276284737437844, 0.1238974721843569, 0.9777507626287023, 0.9864875696834937, 0.9958983614115235, 0.30388875455147313, 0.49635163243407276, 0.04178470375082755, 0.15574298670762998, 0.981968215437924, 0.9600879595474286, 0.07126437293470048, 0.5053291899006034, 0.0745036626135505, 0.022675027751950152, 0.32392896788500214, 0.15610388398805045, 0.8433945954354392, 0.273994523030771, 0.08384531852307746, 0.040425421430769486, 0.5988951323076961, 0.9785789055890041, 0.9913246322731484, 0.9937719285999893, 0.9965901369776079, 0.03690408811602253, 0.07380817623204507, 0.22142452869613521, 0.13970833358208531, 0.023724056646014485, 0.5034772021543075, 0.990630409788619, 0.28594639536747374, 0.14400923534811177, 0.14090112235498706, 0.04869377022562053, 0.004144150657499619, 0.195811118566857, 0.14400923534811177, 0.029009054602497336, 0.007252263650624334, 0.0010360376643749048, 0.9790135070712972, 0.9809938318711002, 0.9986088251803513, 0.5122744231665618, 0.004925715607370786, 0.4777944139149663, 0.002462857803685393, 0.990496602765647, 0.9850615413816787, 0.9833956652068775, 0.004105294312499826, 0.12931677084374452, 0.2032120684687414, 0.3181603092187365, 0.010263235781249566, 0.20937000993749114, 0.02668441303124887, 0.036947648812498436, 0.06157941468749739, 0.2461969360973083, 0.2597950226840782, 0.030774617012163538, 0.009303953980421536, 0.041509948528034545, 0.10234349378463689, 0.04079425976030981, 0.19323596728567805, 0.07657869814654648, 0.8954925436143324, 0.1038429279771054, 0.9919178452735827, 0.030809625612210578, 0.9242887683663173, 0.03851203201526322, 0.0756046602347728, 0.08025725471075883, 0.20820360280037434, 0.2966028978441087, 0.03256816133190213, 0.03489445856989514, 0.2233245348473289, 0.04536279614086368, 0.003489445856989514, 0.0011631486189965046, 0.0064467243345796375, 0.5415248441046896, 0.018534332461916457, 0.07252564876402093, 0.0008058405418224547, 0.30863692751800015, 0.0515737946766371, 0.9818318828870237, 0.11701970040800157, 0.14510442850592195, 0.2527625528812834, 0.48212116568096647, 0.017493233561143573, 0.97962107942404, 0.4574553599964496, 0.5355574946299898, 0.9785485263011465, 0.9820390779711736, 0.9894323302747605, 0.14759179815830595, 0.7113440763695401, 0.04355167814507389, 0.09678150698905308, 0.9900579485253713, 0.9891891676100486, 0.9954933517072726, 0.9783495457759815, 0.867944634903079, 0.1291584278129582, 0.9808845939471977, 0.9847126732815614, 0.9925734665348002, 0.9913524940977114, 0.9919850052751056, 0.9124681105151802, 0.022530076802843954, 0.06383521760805787, 0.9930726504770803, 0.9930009010757274, 0.9760537987982388, 0.058896871476169906, 0.0559021152994155, 0.4562011909255872, 0.02994756176754402, 0.2315944776690071, 0.040928334415643496, 0.12577975942368488, 0.9895871749316983, 0.9753905167458349, 0.9924235043257617, 0.9931779493835621, 0.9974448191347803, 0.984792225277541, 0.9785726164929148, 0.9952785999071136, 0.9799127353602815, 0.11338529290678868, 0.07653507271208236, 0.0680311757440732, 0.5527533029205949, 0.1162199252294584, 0.07086580806674293, 0.9863580732303124, 0.44059068798168743, 0.003147076342726339, 0.4122670008971504, 0.04091199245544241, 0.10070644296724285, 0.9992398356476799, 0.035539176726988135, 0.9322199433771503, 0.03007161107668227, 0.9935428294311348, 0.047438413764000695, 0.8380786431640123, 0.11068963211600162, 0.7455311901217111, 0.02556106937560152, 0.07881329724143803, 0.09159383192923878, 0.021300891146334603, 0.0021300891146334602, 0.034081425834135363, 0.9549999873478189, 0.04063829733394974, 0.8426280590872943, 0.08185995160780385, 0.07534373655444633, 0.8768893133760005, 0.11555905680148844, 0.9896839198754138, 0.06744903217430857, 0.9274241923967429, 0.9712914522423396, 0.9865443724370018, 0.9792781684679346, 0.9917488611226071, 0.22617596430547393, 0.000847100989908142, 0.5252026137430481, 0.017789120788070982, 0.12960645145594574, 0.012706514848622131, 0.013553615838530273, 0.07369778612200836, 0.9727621615223235, 0.9866972469049392, 0.1894574218525962, 0.8060552129728639, 0.9983444115017729, 0.04228602851585993, 0.9549594773165033, 0.9894171929195968, 0.09249329679812734, 0.9048257295468979, 0.17725221481008205, 0.0006843714857532125, 0.020188958829719772, 0.801399009817012, 0.9859721021895097, 0.8804867392024794, 0.11339601944274356, 0.19952102014713063, 0.7752816782859933, 0.022802402302529216, 0.9987680716744282, 0.11509810747446053, 0.17463161134056082, 0.6032728391764828, 0.015875601030960074, 0.011906700773220055, 0.0019844501288700093, 0.07739355502593036, 0.09389275663512223, 0.010205734416861113, 0.028576056367211115, 0.2735136823718778, 0.25106106665478334, 0.3429126764065334, 0.9934040293177794, 0.9858112948309631, 0.892730613107896, 0.09502454705350154, 0.010002583900368584, 0.12661755976500055, 0.8692124373056794, 0.912587565387012, 0.08213288088483109, 0.00456293782693506, 0.9938555441117218, 0.9863625729865374, 0.07009329794006997, 0.9228950895442545, 0.766982631007229, 0.2303479188833592, 0.15944323205124214, 0.8304335002668861, 0.041620334375095755, 0.9572676906272024, 0.9868602987531345, 0.9871780989158553, 0.9919739722195731, 0.9941349127396648, 0.9983045610639446, 0.9929402777416214, 0.9844028449480485, 0.9877646607367714, 0.9947443017562884, 0.36076609204411997, 0.09327545631134715, 0.16404360993967781, 0.06319358061000782, 0.009738736737843671, 0.005193992926849958, 0.25731906625102496, 0.00021641637195208156, 0.015798395152501955, 0.019044640731783177, 0.011686484085412405, 0.9462692302916754, 0.044356370169922284, 0.9784500716986635, 0.9861105613009252, 0.9863956174859211, 0.9949662468664179, 0.9858301372893981, 0.09753781788118922, 0.05852269072871353, 0.832322712586148, 0.9847300138277197, 0.007135724737882027, 0.7728192329984982, 0.09234946809416016, 0.12637295633937706, 0.9772627781489771, 0.9279132960639468, 0.06712564269398764, 0.11576953784304124, 0.8747031748140893, 0.9959226445418362, 0.033998008470011803, 0.6657943325377312, 0.0028331673725009838, 0.2974825741126033, 0.055964866790690876, 0.38176034132221276, 0.5556511774218594, 0.005996235727574023, 0.002987236084180151, 0.005974472168360302, 0.6183578694252913, 0.11351497119884574, 0.20910652589261058, 0.04480854126270227, 0.2654190343530681, 0.7299023444709372, 0.9888068648439089, 0.5768101188537496, 0.0602412656766318, 0.04066285433172647, 0.2123504615101271, 0.10843427821793725, 0.9927792536044682, 0.9968412764448987, 0.9899097730864235, 0.8581214622278942, 0.13969419152547116, 0.9842225378721536, 0.9867005912166148, 0.9943469750968854, 0.08677020376059325, 0.061978716971852324, 0.3005967773134838, 0.2649590150546687, 0.28510209807052067, 0.9838449354962813, 0.9803193986228975, 0.9885751387893847, 0.9951042664783726, 0.06709338184291352, 0.9225340003400611, 0.9891533763811349, 0.6450679158988029, 0.2014243689960689, 0.05354318669515755, 0.08413929337810472, 0.015298053341473586, 0.36883205477253633, 0.3034286962227552, 0.07076428957845174, 0.039670889612162336, 0.12222922745368936, 0.028949027554821167, 0.06433117234404703, 0.0021443724114682343, 0.1823616306903463, 0.45685059037996795, 0.11358163849225722, 0.02776440052032954, 0.12178475682780913, 0.09275833810201006, 0.005048072821878098, 0.9836928686852787, 0.983167250124266, 0.9914820508590463, 0.9295434410416591, 0.06940591026444387, 0.9868750336968914, 0.9940088867832269, 0.3004614589703237, 0.6910613556317446, 0.044998097069837484, 0.7784670793081885, 0.08999619413967497, 0.08099657472570748, 0.9966234011264796, 0.9899180325504421, 0.05253261522352814, 0.8965566331482137, 0.03151956913411688, 0.014008697392940838, 0.8457206955675354, 0.14995047793750627, 0.9892803983618739, 0.9867056981863322, 0.9970247016459832, 0.10042406123518405, 0.8963222181886576, 0.001498866585599762, 0.9796885061924698, 0.16532695960842567, 0.35488287019394815, 0.10831766319172716, 0.03563081026043657, 0.034205577850019105, 0.029929880618766714, 0.209509164331367, 0.009976626872922239, 0.05130836677502865, 0.19523222247119748, 0.17642372319651564, 0.06394889753391825, 0.47773588157691865, 0.0022570199129618206, 0.00037616998549363677, 0.026331898984554573, 0.030469768824984575, 0.027460408941035484, 0.08120182460338388, 0.15837711244957514, 0.015435057569238256, 0.19126049596664796, 0.36775702382358977, 0.12213828163484186, 0.004026536757192589, 0.06039805135788883, 0.9799372822905403, 0.9825931622290753, 0.9980627534567118, 0.986893506416517, 0.9897550757333847, 0.9870884816174859, 0.1767785285457402, 0.7003149400081247, 0.11558596097221474, 0.25365909624556765, 0.26634205105784603, 0.4787815441635089, 0.9916318815260574, 0.9230004106188765, 0.07573336702513858, 0.16907143807603098, 0.2817857301267183, 0.11095313123739534, 0.25712947874063047, 0.17963840295578293, 0.0017611608132919894, 0.0017611608132919894, 0.9946863841866311, 0.9489826236841801, 0.048253353746653224, 0.09952211336929831, 0.8956990203236848, 0.08779989416459526, 0.8779989416459526, 0.025823498283704487, 0.28944115024990386, 0.009336811298383995, 0.16246051659188152, 0.07469449038707196, 0.4500343045821085, 0.013071535817737593, 0.9898314493652275, 0.3084812611452476, 0.6902268218124915, 0.9938468374189036, 0.9862115204617834, 0.9742217895048764, 0.9895869255280267, 0.9933312954264675, 0.014981135971212345, 0.2821447274578325, 0.6803932586925606, 0.0012484279976010288, 0.01872641996401543, 0.0012484279976010288, 0.9718181751332047, 0.11529528320157939, 0.8780179259197199, 0.9910647704208561, 0.9911731331039833, 0.9977156331931952, 0.9924587343412884, 0.09125181785469433, 0.6497129431254236, 0.012775254499657206, 0.18797874478067034, 0.058401163427004375, 0.7182921919200429, 0.010212685193175966, 0.08680782414199571, 0.08170148154540773, 0.025531712982939915, 0.006808456795450644, 0.0391486265738412, 0.030638055579527895, 0.9842998711207566, 0.32322120077194777, 0.37569991971647065, 0.03935903920839216, 0.014312377893960787, 0.01073428342047059, 0.0011926981578300655, 0.2349615370925229, 0.9884920654597668, 0.9978512754332103, 0.988611648830926, 0.23168334821387632, 0.2507485253477552, 0.004559064097231913, 0.004559064097231913, 0.25945219316974344, 0.10817415721613903, 0.14050206626923806, 0.9034992066803402, 0.09210428805964634, 0.9924823787250056, 0.9872650171404151, 0.1406381930242581, 0.09214226439520357, 0.024247964314527255, 0.6740934079438577, 0.06789430008067632, 0.9946520670156304, 0.967485954451559, 0.984033957420599, 0.03770550980714757, 0.12527959710116773, 0.22136783177099542, 0.16906664074817782, 0.004865227071890009, 0.14230789185278278, 0.29921146492123557, 0.996018133606416, 0.674160371803856, 0.07819414970765727, 0.06340066192512753, 0.004226710795008502, 0.17329514259534856, 0.004226710795008502, 0.01102621972758192, 0.03185352365745888, 0.20092222614704833, 0.755908619102005, 0.9866894008965011, 0.9953384649231919, 0.02092489664451442, 0.14348500556238458, 0.13451719271473556, 0.02690343854294711, 0.047828335187461525, 0.570950751300322, 0.05380687708589422, 0.9611916849028622, 0.9948226020525097, 0.9890967461758525, 0.812578477695021, 0.1866001310594708, 0.9924578825698799, 0.9899584974022434, 0.00906140501054685, 0.1114973352933011, 0.70833601245156, 0.12789400224819833, 0.04919000086469166, 0.9764301168456825, 0.9817225354154528, 0.988539527416195, 0.9911572699008084, 0.7183629550083228, 0.01821201857767579, 0.0667774014514779, 0.02630624905664281, 0.16795528243856564, 0.9900869742104857, 0.9970745184382812, 0.22255236556779642, 0.007179108566703111, 0.7681646166372328, 0.9950694899326639, 0.9905854713249503, 0.8291044091373049, 0.16654499048172935, 0.952587417742055, 0.042337218566313554, 0.9963752233969104, 0.14471880720294922, 0.8476387279029882, 0.06478730677086245, 0.07529335651748878, 0.8509900294767336, 0.007004033164417561, 0.2837078591198376, 0.07775696879580733, 0.1513108581972467, 0.004203079394367964, 0.15971701698598265, 0.3236371133663332, 0.9832309457711609, 0.9898616869868021, 0.1435067878411017, 0.14803858114134705, 0.26888640248122214, 0.003021195533496878, 0.32175732431741755, 0.009063586600490635, 0.024169564267975025, 0.0815722794044157, 0.006145316512562908, 0.9893959585226283, 0.9895380720039992, 0.9764212255413102, 0.09578295625805336, 0.8962548049860708, 0.028203779445659875, 0.017235642994569922, 0.9537055790328691, 0.995298847230756, 0.9286094135340733, 0.025097551717137116, 0.04335031660232774, 0.05034970148448885, 0.9440569028341659, 0.4825154778743115, 0.00665028989413293, 0.035468212768708964, 0.005911368794784827, 0.15147882536636118, 0.30591333513011476, 0.009605974291525344, 0.0014778421986962067, 0.994320771290038, 0.12882812669743796, 0.11096145219195387, 0.7466389240712829, 0.000940351289762321, 0.012224566766910172, 0.9840667613524343, 0.9935225793162956, 0.9939147093032348, 0.9963899690879094, 0.30954441750373596, 0.3070277962232178, 0.38000981335824496, 0.34460192331512807, 0.0007709215286691903, 0.14262048280380019, 0.2235672433140652, 0.06784109452288874, 0.21971263567071922, 0.9971335426593716, 0.997373305297806, 0.9923501960253541, 0.9921660324000634, 0.9339582773681977, 0.0649710105995268, 0.020628630935517787, 0.25785788669397236, 0.7220020827431226, 0.03756989454554057, 0.533492502546676, 0.13149463090939198, 0.29680216690977046, 0.9992002666933019, 0.1641269437107873, 0.11089658358836979, 0.7186098616526362, 0.9880735125790939, 0.9898011879550829, 0.9932931452169677, 0.9899030220131851, 0.19980128831842334, 0.18947720959072367, 0.26113846193593326, 0.06376636861226277, 0.03522332742391658, 0.14514440093648384, 0.005465688738193952, 0.017004364963270072, 0.06012257612013347, 0.018218962460646505, 0.004251091240817518, 0.07734541243880934, 0.921631651376128, 0.9858590754391066, 0.21249903932580552, 0.02423234658978484, 0.5045298828437254, 0.03479516433405003, 0.038523217655555386, 0.05405677316182772, 0.12675381293118224, 0.004349395541756253, 0.9986798993873243, 0.8390166874899342, 0.1340801486061396, 0.026409726240603254, 0.8272170412161334, 0.16380535469626403, 0.7898792506592691, 0.20705572590097346, 0.1895692160757744, 0.7326594026712362, 0.07172889256921193, 0.9860459871470632, 0.9879026178486217, 0.2832611810982946, 0.7144946209792805, 0.9881553013427994, 0.9837746886034913, 0.6318692445818631, 0.13326696794817475, 0.048251833222615, 0.041358714190812856, 0.07812201569375761, 0.06433577763015333, 0.09265191328567089, 0.8537212009893961, 0.046325956642835446, 0.07930491573886007, 0.7671888587781028, 0.00517205972209957, 0.07240883610939398, 0.037928437962063515, 0.03448039814733046, 0.9953991313058755, 0.7655187209363888, 0.14286088806207256, 0.0431278152640219, 0.045823303718023276, 0.9891692758963947, 0.9971114391605526, 0.9961229836480222, 0.14458694397897318, 0.49018500519700664, 0.35970410453305524, 0.42512142807444836, 0.006721287400386535, 0.5662684634825655, 0.39574140053376294, 0.16500878184800008, 0.11606549909647464, 0.32162728665288154, 0.990338045395392, 0.7286179329751673, 0.04759815642551344, 0.19039262570205376, 0.032952569833047764, 0.33163240648802716, 0.5936220076135686, 0.07295912942736597, 0.05585415069766796, 0.9309025116277995, 0.9983353922991286, 0.9855026849527307, 0.9846014343229407, 0.9958297345601013, 0.6967621633892194, 0.03186741677516585, 0.16851922091274144, 0.0005401257080536585, 0.037268673855702435, 0.05239219368120487, 0.004321005664429268, 0.008101885620804876, 0.0005401257080536585, 0.9883672005506081, 0.9849536921162408, 0.9815169190155744, 0.9750914995024528, 0.9953922609887772, 0.981079435284126, 0.9894636694715251, 0.9813319956025988, 0.4547271061825613, 0.320138336249217, 0.01698693212750947, 0.11498846363237182, 0.05749423181618591, 0.03397386425501894, 0.9968486704103982, 0.05748278287776083, 0.3718639287400824, 0.012064287764468322, 0.15470674897965261, 0.04399916714100212, 0.10999791785250529, 0.025547903501227036, 0.0312252153903886, 0.19373826821763837, 0.25284017616389637, 0.2869309864331858, 0.4573850377796328, 0.998863804464957, 0.02750795568481859, 0.9673631082494538, 0.4171473308609471, 0.03516649010164961, 0.284969833582333, 0.013339013486832611, 0.15643024907285516, 0.08973518163869211, 0.002425275179424111, 0.011932694154979448, 0.05727693194390135, 0.9021116781164462, 0.026251927140954784, 0.9953566282698129, 0.973741097399118, 0.9489013929916652, 0.04953323545811149, 0.9922287004227666, 0.9856174123369064, 0.9976893790872792, 0.419386320695262, 0.02082355117652741, 0.00458118125883603, 0.13160484343565323, 0.181581366259319, 0.011244717635324801, 0.2307249470359237, 0.44371092940871737, 0.03549687435269739, 0.2366458290179826, 0.2839749948215791, 0.09925821864950973, 0.8984141329045369, 0.9947547030555516, 0.8372488777274018, 0.1579714863636607, 0.9889073963823101, 0.9871147515212124, 0.8015037630362977, 0.19749283369779277, 0.14804983755975218, 0.09620747019876151, 0.0657999278043343, 0.17895586425572738, 0.08224990975541788, 0.010966654634055717, 0.3070663297535601, 0.08175142545386989, 0.014456044744891627, 0.014456044744891627, 0.0004984843015479871, 0.9911525300964306, 0.9771125151508213, 0.951849040783329, 0.03461269239212105, 0.9939527125169668, 0.9854901484885327, 0.6588450597993625, 0.1357342831531094, 0.051853546373097976, 0.07778031955964697, 0.036602503322186807, 0.038127607627277925, 0.9674964559762079, 0.9922133239717932, 0.9660239103110916, 0.03336870156514997, 0.9359755630856803, 0.056725791702162444, 0.7446123685489643, 0.0025854596130172373, 0.17839671329818937, 0.043952813421293035, 0.02844005574318961, 0.12673888479331188, 0.86906663858271, 0.989454553111337, 0.2559129353377279, 0.31376057674085067, 0.06665054335577188, 0.02703748456885086, 0.04652962460685962, 0.27666263279754366, 0.012575574218070167, 0.995044414776171, 0.9861252866067737, 0.09605125868900995, 0.8548562023321885, 0.043223066410054474, 0.9876897010183956, 0.984754441142912, 0.17398325722863703, 0.05117154624371677, 0.506598307812796, 0.003411436416247785, 0.18762900289362816, 0.05287726445184066, 0.023880054913734492, 0.9906083899438559, 0.050830846993154065, 0.28650113759777746, 0.6608010109110029, 0.9900183761937944, 0.9950258744029281, 0.9819389112968979, 0.9739207997119769, 0.4993694122493441, 0.024020300842373516, 0.1858412749383635, 0.16940633225673954, 0.12010150421186758, 0.9924802540006675, 0.2154769701491472, 0.283981209213905, 0.08843274497450551, 0.33006587913019664, 0.08095955525835011, 0.1060106206666652, 0.3124523556491185, 0.13018848152046603, 0.0595147344093559, 0.009299177251461859, 0.3161720265497032, 0.06509424076023301, 0.5528275179027997, 0.2900976084044395, 0.07115601715580591, 0.020981902494660715, 0.018245132604052798, 0.0018245132604052796, 0.04470057487992935, 0.032580733322351584, 0.17712071387969316, 0.07878613694314111, 0.49167288468276027, 0.0385045030173246, 0.009774219996705476, 0.06575384361420047, 0.010366596966202778, 0.047982534529281425, 0.0005923769694973016, 0.013920858783186586, 0.03346929877659754, 0.967187808322119, 0.029607790050677114, 0.9909418946942488, 0.09310088088500441, 0.19191077805069306, 0.1352597703423649, 0.26612798969958806, 0.018883669236109384, 0.06850819536821079, 0.053576922018728955, 0.07729129733849423, 0.07202143615632417, 0.001756620394056687, 0.02064028963016607, 0.984308540877257, 0.9800017852831037, 0.025582164123852086, 0.33896367464104016, 0.6352904090756601, 0.9923379380796665, 0.370904504319154, 0.11412446286743201, 0.5109663451110024, 0.2937996442051393, 0.3029097106921204, 0.32796239353131834, 0.07288053189584852, 0.520637328931978, 0.47645039695620134, 0.9930994101814673, 0.9830960326429578, 0.9725940357534137, 0.998504655580696, 0.9828003645905313, 0.4344214455159202, 0.03813103597004942, 0.1048603489176359, 0.006809113566080254, 0.2383189748128089, 0.0939657672119075, 0.08375209686278712, 0.37853852301797297, 0.6185873424927851, 0.12244824236017576, 0.4451159080390173, 0.004964117933520639, 0.3855464928367696, 0.04302235542384554, 0.988893685185003, 0.9926674951790121, 0.9917385513425959, 0.2985117547979595, 0.6965274278619055, 0.9825824008461002, 0.9925781748570609, 0.9979728145056775, 0.9872411916941441, 0.9834152327604215, 0.2301213171697981, 0.7600976839850907, 0.9881246880041932, 0.1446338349081696, 0.1446338349081696, 0.6973417040215321, 0.005165494103863201, 0.8685447570065111, 0.022081646364572317, 0.1104082318228616, 0.1712194219663041, 0.6413933902229805, 0.13317066152934764, 0.05163760345015521, 0.9883860392984061, 0.9860163532193014, 0.9958964650773517, 0.9828440640297949, 0.19136185181764465, 0.7539656961615199, 0.03827237036352893, 0.011481711109058677, 0.9723263333682661, 0.9876927281842245, 0.9952156163074696, 0.9976277949087452, 0.31551428774013784, 0.682752229208167, 0.9859520499461882, 0.9934265701761229, 0.16173152861229648, 0.23637684951027946, 0.5256274679899635, 0.07464532089798298, 0.9912004963678165, 0.9915946892538632, 0.16194402092911292, 0.398736118758236, 0.12247867129092574, 0.31436192298004273, 0.13079210750227974, 0.6593355556279307, 0.07704192633695929, 0.13437545291330108, 0.5564411442172346, 0.0823887798954903, 0.06950232970670848, 0.0697135829884918, 0.04858825481016095, 0.11872434436221936, 0.0010562664089165425, 0.009083891116682265, 0.01521023628839821, 0.02915295288609657, 0.13625484803676105, 0.03548303334290652, 0.13341620536932852, 0.011354570669730087, 0.32644390675474, 0.007096606668581304, 0.2512198760677782, 0.09651385069270574, 0.6489584815986275, 0.002256462036156563, 0.020759450732640378, 0.07942746367271102, 0.1570497577164968, 0.007671970922932314, 0.0009025848144626252, 0.030687883691729256, 0.003159046850619188, 0.04828828757375045, 0.8782080785736799, 0.09285019332937584, 0.02321254833234396, 0.9873611032149803, 0.158383715354008, 0.831514505608542, 0.039447853501322766, 0.047170449160311885, 0.3260187680902972, 0.06157204647031861, 0.10519427600352739, 0.04090888511248287, 0.003443860226305956, 0.09392346071743517, 0.1522603657630421, 0.018158535738704133, 0.07586928437952818, 0.036108352675813964, 0.05950988573712769, 0.05409989612466153, 0.8764183172195168, 0.9920749127683625, 0.5026273740869903, 0.04367997987781679, 0.11319882109180689, 0.0018456329525838079, 0.31252717997085816, 0.02522365035197871, 0.019606105755032393, 0.9361915498027967, 0.039212211510064786, 0.015855516349465373, 0.8624022153557035, 0.05997521401754293, 0.005514962208509695, 0.008961813588828254, 0.0461878084962687, 0.9703246003257656, 0.9819125378635344, 0.33133577016561194, 0.1465857203088702, 0.39031700673959524, 0.10842139076099867, 0.023419020404375712, 0.993854431102496, 0.9834208552450968, 0.004366496038363458, 0.20740856182226428, 0.7270215903875159, 0.05894769651790669, 0.9842378449884216, 0.9934837100080581, 0.9785895604183884, 0.9786881891588562, 0.9938582350178189, 0.14969250513605126, 0.8500395827368624, 0.13337880942792182, 0.8644922833291229, 0.9958519850341183, 0.9914822069976276, 0.8524931844470819, 0.1445748675378092, 0.09731576146817159, 0.8953050055071786, 0.16912430583619478, 0.5099748299060642, 0.007805737192439759, 0.31222948769759035, 0.9372809562311097, 0.046400047338173746, 0.00928000946763475, 0.982949941739817, 0.9925138283197221, 0.978031591220467, 0.9816854588508661, 0.99459365718425, 0.9929847458483807, 0.990364304376031, 0.9982065332850363, 0.965994090646079, 0.03257990187676489, 0.03956561461801896, 0.6580386431207365, 0.04581281692612722, 0.07080162615856025, 0.08121363000540735, 0.10412003846847095, 0.7946571156339012, 0.15136326012074308, 0.03784081503018577, 0.012613605010061923, 0.23713779180155486, 0.1526638144645203, 0.09261604744180899, 0.02035517526193604, 0.37962401863510714, 0.004071035052387208, 0.11297122270374502, 0.9857654816891913, 0.9838424223811136, 0.9931858300362058, 0.9908278356743234, 0.9742452827614893, 0.9775182568087493, 0.9897747623488975, 0.9808705773843611, 0.18719419685792418, 0.8078907443341992, 0.22149412638227345, 0.10857555214817326, 0.05428777607408663, 0.1368051957066983, 0.45167429693640077, 0.028229643558525048, 0.032624885159337376, 0.4494984177508705, 0.09424966823808575, 0.0724997447985275, 0.347998775032932, 0.9801984225254818, 0.9892055534726019, 0.9779481594903103, 0.03388720652197735, 0.9573135842458601, 0.03691834075898008, 0.013424851185083665, 0.31548400284946615, 0.6309680056989323, 0.9779806678879903, 0.32453681474341134, 0.6742966979901965, 0.09979006158873938, 0.8747030089877155, 0.025050180069601243, 0.1452944590627881, 0.8530190822395946, 0.9928484046732009, 0.9923795478893233, 0.3715379330920911, 0.625271155691568, 0.08883257127469961, 0.09327419983843459, 0.15101537116698932, 0.13102804263018192, 0.01776651425493992, 0.5174497276751252, 0.8698131326748259, 0.05192914224924333, 0.07464814198328729, 0.9425193282384671, 0.03229188276620015, 0.0201824267288751, 0.22956735965264577, 0.06707761642243554, 0.3423271458800159, 0.0005782553139865133, 0.058982042026624354, 0.034117063525204286, 0.19891982801136057, 0.008095574395811185, 0.0028912765699325663, 0.017347659419595398, 0.03700834009513685, 0.0034695318839190795, 0.005340445062864906, 0.028140037446634313, 0.6726906761877911, 0.04683159516666149, 0.03122106344444099, 0.009037676260232918, 0.0024648207982453413, 0.16452678828287653, 0.00020540173318711177, 0.03943713277192546, 0.9818118995967092, 0.9872718311106223, 0.9920857371628622, 0.9958681967256245, 0.06705074135918271, 0.054478727354335954, 0.20534289541249706, 0.5070712315288193, 0.15924551072805893, 0.9919630424581307, 0.9080098490136536, 0.06118289947412061, 0.029200929294466653, 0.9832663867477003, 0.9757803068751288, 0.9929170673537215, 0.2626737974892614, 0.21555742125800373, 0.20377832720018932, 0.2662075257066057, 0.024736097521410264, 0.027091916332973146, 0.9700727334678619, 0.9846165963526025, 0.983079968406426, 0.9822465544238452, 0.9827626434475525, 0.995027225085429, 0.20935183637467364, 0.7890953832583852, 0.9922361840055993, 0.9814680711025159, 0.9859605423863359, 0.5049549457910643, 0.4928602165505597, 0.9980761591344863, 0.9935384228069464, 0.9903985663322916, 0.9894910238397034, 0.7182380090204528, 0.027164826362346926, 0.06410899021513874, 0.12169842210331423, 0.02933801247133468, 0.014125709708420402, 0.024991640253359173, 0.9774818329720921, 0.982469554110689, 0.990251176939374, 0.9829657781549228, 0.9880095955618174, 0.9831186808523775, 0.991074465019442, 0.21295461264489715, 0.7808335796979562, 0.9992344243660216, 0.00048063223875229516, 0.9605936681919212, 0.9922864901562289, 0.34657374264586605, 0.6481379083247365, 0.21219969815452086, 0.7506168427256932, 0.0348387564134288, 0.9876133921474595, 0.09758100997060766, 0.11648559309881656, 0.19432799421497082, 0.34834474499479035, 0.1598549308635311, 0.00027800857541483665, 0.037253149105588114, 0.04142327773681066, 0.0027800857541483664, 0.0011120343016593466, 0.9813870461297474, 0.9846578684363055, 0.9810905747801316, 0.9838810674005519, 0.11897917837946455, 0.8781796499436668, 0.9965555409783627, 0.0026807763829992523, 0.17156968851195215, 0.1340388191499626, 0.6889595304308078, 0.9791450494630592, 0.9865879270597978, 0.9532385779092745, 0.04039146516564722, 0.9918557674266598, 0.9890793733295352, 0.9941790486143464, 0.9843531307052881, 0.9172187294137809, 0.07465733844065658, 0.10143930000873827, 0.12679912501092283, 0.7650213875659011, 0.004226637500364095, 0.9930090110595765, 0.9919424789801211, 0.9891195532050182, 0.989189782526757, 0.9832078131033878, 0.28705331224203956, 0.002412212707916299, 0.009648850831665196, 0.02170991437124669, 0.4076639476378545, 0.12543506081164754, 0.002412212707916299, 0.14232054976706163, 0.3779854798319148, 0.0809968885354103, 0.062097614543814565, 0.08639668110443766, 0.026998962845136767, 0.15299412278910834, 0.045898236836732505, 0.04049844426770515, 0.12509519451580037, 0.9873824769740019, 0.0626515173710831, 0.7909754068099242, 0.08223011654954657, 0.0626515173710831, 0.9796898337927954, 0.03556271673084257, 0.5534447791237375, 0.10891081998820536, 0.3000604224164842, 0.9953561621436734, 0.9823209556440747, 0.9820362242579197, 0.9808044182956106, 0.985943902034802, 0.7435866419397608, 0.25385284150813586, 0.07308451186777826, 0.9231727814877253, 0.9958563134791915, 0.995373002157179, 0.9787918449588754, 0.25114632079004445, 0.08255272581524609, 0.03604414789116379, 0.45462134920790453, 0.06278658019751111, 0.03953229123546996, 0.041857720131674075, 0.010464430032918519, 0.022091574513939095, 0.9904482084761622, 0.028171602043463684, 0.1338151097064525, 0.06514682972550977, 0.44546345731226955, 0.012325075894015363, 0.1972012143042458, 0.04577885332062849, 0.07042900510865921, 0.9870029315139011, 0.13290783080983337, 0.06645391540491669, 0.7974469848590002, 0.9984788924791694, 0.9960728419192814, 0.07622062137473246, 0.9146474564967895, 0.9935460858207609, 0.9711519676682902, 0.22779202766083667, 0.04271100518640687, 0.6406650777961032, 0.09016767761574784, 0.9903258024222596, 0.201114452714525, 0.053356895618139284, 0.17375194214112025, 0.13954880392436428, 0.13544442733835357, 0.009576878700691667, 0.004104376586010715, 0.22710883775925952, 0.053356895618139284, 0.9896099195005077, 0.9837573855066511, 0.9832749066396103, 0.9897156897879064, 0.034448177229565995, 0.9602429402741521, 0.10955717405588512, 0.6898044292407581, 0.1988259825458656, 0.5972489505507701, 0.02401000806234252, 0.1020425342649557, 0.27611509271693896, 0.2883430737494879, 0.28150103471136445, 0.10067571727524494, 0.0029323024449100467, 0.019548682966066978, 0.08503677090239135, 0.0459394049702574, 0.12022440024131191, 0.03225532689401051, 0.023458419559280373, 0.9804210830841911, 0.05580984417851327, 0.011681130176898128, 0.9318946074458728, 0.9920370040697887, 0.4758590341878371, 0.14371089476242846, 0.044726349900551715, 0.2551601600883934, 0.0014664377016574332, 0.03152841058563481, 0.04765922530386658, 0.06956655626518217, 0.928918133658609, 0.1416727535077748, 0.0021465568713299214, 0.0021465568713299214, 0.16313832222107402, 0.5666910140310992, 0.12450029853713543, 0.9913694461765435, 0.2639298278546036, 0.009692338311044766, 0.09617781862498267, 0.059645158837198564, 0.09468668965405272, 0.415279418403995, 0.000745564485464982, 0.013420160738369677, 0.046224998098828886, 0.9801913565493768, 0.45633913193082243, 0.42462444322520543, 0.11893008264606376], \"Term\": [\"abandon\", \"abuse\", \"abuse\", \"abuse\", \"abused\", \"academic\", \"academy\", \"accessible\", \"account\", \"account\", \"achieve\", \"achieve\", \"action\", \"action\", \"actively\", \"activity\", \"activity\", \"activity\", \"activity\", \"activity\", \"activity\", \"activity\", \"acute\", \"additionally\", \"adoption\", \"adult\", \"adult\", \"adult\", \"adult\", \"adventure\", \"advertising\", \"advocacy\", \"advocacy\", \"advocacy\", \"advocacy\", \"advocacy\", \"affordable\", \"affordable\", \"age\", \"age\", \"age\", \"age\", \"agent\", \"agreement\", \"agricultural\", \"agriculture\", \"aid\", \"aid\", \"aid\", \"aid\", \"aid\", \"aid\", \"alcohol\", \"also\", \"also\", \"also\", \"also\", \"also\", \"also\", \"also\", \"also\", \"also\", \"also\", \"amateur\", \"amount\", \"animal\", \"annual\", \"annual\", \"annual\", \"annual\", \"apartment\", \"apprentice\", \"apprenticeship\", \"approximately\", \"approximately\", \"approximately\", \"approximately\", \"approximately\", \"approximately\", \"approximately\", \"approximately\", \"approximately\", \"area\", \"area\", \"area\", \"area\", \"area\", \"area\", \"area\", \"area\", \"area\", \"art\", \"art\", \"artistic\", \"asset\", \"asset\", \"asset\", \"assist\", \"assist\", \"assist\", \"assist\", \"assist\", \"assist\", \"assist\", \"assist\", \"assist\", \"assist\", \"assistance\", \"assistance\", \"assistance\", \"assistance\", \"assistance\", \"assistance\", \"assistance\", \"assoc\", \"association\", \"association\", \"association\", \"association\", \"athlete\", \"athlete\", \"athletic\", \"athletic\", \"attendee\", \"attract\", \"autism\", \"awareness\", \"awareness\", \"awareness\", \"awareness\", \"back\", \"background\", \"band\", \"bank\", \"baptist\", \"baptist\", \"bar\", \"bargaining\", \"barrier\", \"baseball\", \"basketball\", \"become\", \"become\", \"become\", \"behavioral\", \"being\", \"belief\", \"benefit\", \"benefit\", \"benefit\", \"benefit\", \"benefit\", \"benefit\", \"benefit\", \"benevolent\", \"better\", \"biblical\", \"blood\", \"book\", \"booster\", \"box\", \"boy\", \"breast\", \"bring\", \"bring\", \"bring\", \"bring\", \"bring\", \"bring\", \"broad\", \"build\", \"build\", \"build\", \"build\", \"build\", \"business\", \"camp\", \"camp\", \"camp\", \"campaign\", \"campus\", \"campus\", \"campus\", \"can\", \"can\", \"can\", \"can\", \"can\", \"can\", \"can\", \"cancer\", \"cancer\", \"care\", \"care\", \"care\", \"carry\", \"carry\", \"cat\", \"catalyst\", \"catalyst\", \"cattle\", \"celebrate\", \"celebration\", \"cemetery\", \"center\", \"center\", \"center\", \"center\", \"center\", \"center\", \"center\", \"center\", \"certificate\", \"chamber\", \"chapter\", \"chapter\", \"charitable\", \"charity\", \"charity\", \"charter\", \"chattanooga\", \"chattanooga\", \"child\", \"child\", \"child\", \"child\", \"childcare\", \"choice\", \"choice\", \"christian\", \"christian\", \"christian\", \"church\", \"citizen\", \"citizen\", \"citizen\", \"citizen\", \"citizen\", \"citizen\", \"citizen\", \"city\", \"city\", \"city\", \"city\", \"city\", \"city\", \"civic\", \"civil\", \"class\", \"class\", \"class\", \"client\", \"client\", \"clinic\", \"clinic\", \"clinic\", \"clinical\", \"clothe\", \"clothing\", \"clothing\", \"club\", \"club\", \"co\", \"co\", \"coach\", \"coach\", \"coaching\", \"coalition\", \"collect\", \"collective\", \"college\", \"color\", \"combat\", \"commercial\", \"communication\", \"community\", \"community\", \"community\", \"community\", \"community\", \"community\", \"community\", \"community\", \"community\", \"community\", \"community\", \"complex\", \"complex\", \"component\", \"comprise\", \"computer\", \"concern\", \"concert\", \"condition\", \"condition\", \"condition\", \"conservation\", \"conservation\", \"construction\", \"construction\", \"construction\", \"contractor\", \"contribution\", \"contribution\", \"control\", \"control\", \"cooperative\", \"corporation\", \"corporation\", \"corporation\", \"corporation\", \"counseling\", \"counseling\", \"counseling\", \"counseling\", \"country\", \"country\", \"country\", \"country\", \"country\", \"country\", \"court\", \"court\", \"covenant\", \"create\", \"create\", \"create\", \"create\", \"create\", \"creative\", \"credit\", \"crime\", \"cultural\", \"cultural\", \"cure\", \"dance\", \"datum\", \"day\", \"day\", \"day\", \"day\", \"day\", \"death\", \"decent\", \"degree\", \"dental\", \"dependent\", \"dependent\", \"deposit\", \"design\", \"design\", \"design\", \"design\", \"design\", \"develop\", \"develop\", \"develop\", \"develop\", \"develop\", \"develop\", \"develop\", \"develop\", \"development\", \"development\", \"development\", \"development\", \"development\", \"development\", \"development\", \"developmentally\", \"difference\", \"dining\", \"disability\", \"disability\", \"disaster\", \"disciple\", \"disorder\", \"disorder\", \"distribution\", \"distribution\", \"distribution\", \"distribution\", \"diverse\", \"dog\", \"donation\", \"donation\", \"donation\", \"donation\", \"donor\", \"donor\", \"downtown\", \"dream\", \"drug\", \"economic\", \"economic\", \"economic\", \"economy\", \"educate\", \"educate\", \"educate\", \"educate\", \"educate\", \"educate\", \"educate\", \"educate\", \"educate\", \"education\", \"education\", \"education\", \"education\", \"education\", \"education\", \"education\", \"education\", \"education\", \"educational\", \"educational\", \"educational\", \"educational\", \"educational\", \"educational\", \"educational\", \"educational\", \"efficiency\", \"efficient\", \"elderly\", \"electric\", \"electrical\", \"electricity\", \"eligible\", \"eligible\", \"eligible\", \"employee\", \"employee\", \"employee\", \"employer\", \"empower\", \"empower\", \"encourage\", \"encourage\", \"encourage\", \"encourage\", \"encourage\", \"encourage\", \"encourage\", \"enforcement\", \"enrich\", \"enrich\", \"entertainment\", \"entertainment\", \"entity\", \"entity\", \"entity\", \"environment\", \"environment\", \"environment\", \"environment\", \"environment\", \"environment\", \"environmental\", \"equip\", \"equip\", \"equity\", \"especially\", \"establishment\", \"estate\", \"evangelism\", \"event\", \"event\", \"event\", \"event\", \"event\", \"event\", \"evidence\", \"excellence\", \"excellence\", \"exchange\", \"exclusively\", \"exempt\", \"exhibition\", \"expense\", \"expense\", \"expense\", \"expense\", \"expense\", \"experience\", \"experience\", \"experience\", \"experience\", \"experience\", \"experience\", \"experience\", \"experience\", \"extremely\", \"facility\", \"facility\", \"facility\", \"facility\", \"facility\", \"facility\", \"facility\", \"faculty\", \"faith\", \"fall\", \"family\", \"family\", \"family\", \"family\", \"family\", \"family\", \"family\", \"farm\", \"farm\", \"farmer\", \"feel\", \"fellowship\", \"fellowship\", \"fellowship\", \"fellowship\", \"fellowship\", \"festival\", \"fighting\", \"film\", \"financial\", \"financial\", \"financial\", \"financial\", \"financial\", \"financial\", \"financial\", \"fire\", \"focus\", \"focus\", \"focus\", \"focus\", \"focus\", \"focus\", \"food\", \"food\", \"food\", \"food\", \"football\", \"foreign\", \"form\", \"form\", \"form\", \"form\", \"form\", \"form\", \"form\", \"former\", \"forum\", \"forward\", \"foundation\", \"foundation\", \"fraternal\", \"fund\", \"fund\", \"funding\", \"funding\", \"funding\", \"funding\", \"furnish\", \"furniture\", \"game\", \"garden\", \"general\", \"general\", \"general\", \"general\", \"general\", \"germantown\", \"girl\", \"global\", \"global\", \"global\", \"golf\", \"goodwill\", \"gospel\", \"gospel\", \"government\", \"government\", \"grade\", \"graduate\", \"graduate\", \"grant\", \"grant\", \"grant\", \"grant\", \"great\", \"great\", \"great\", \"great\", \"great\", \"great\", \"grief\", \"ground\", \"group\", \"group\", \"group\", \"group\", \"group\", \"group\", \"group\", \"group\", \"guest\", \"guest\", \"habitat\", \"half\", \"handicapped\", \"handicapped\", \"health\", \"health\", \"health\", \"healthcare\", \"healthy\", \"healthy\", \"healthy\", \"heart\", \"heart\", \"help\", \"help\", \"help\", \"help\", \"help\", \"help\", \"help\", \"help\", \"heritage\", \"high\", \"high\", \"high\", \"high\", \"high\", \"highly\", \"historic\", \"historical\", \"history\", \"hold\", \"hold\", \"hold\", \"home\", \"home\", \"home\", \"home\", \"home\", \"home\", \"homeless\", \"hope\", \"horse\", \"hospice\", \"hospital\", \"hospital\", \"host\", \"host\", \"host\", \"house\", \"house\", \"house\", \"house\", \"housing\", \"human\", \"human\", \"human\", \"humanitarian\", \"hungry\", \"ill\", \"illness\", \"include\", \"include\", \"include\", \"include\", \"include\", \"include\", \"include\", \"include\", \"include\", \"include\", \"include\", \"income\", \"income\", \"indigent\", \"individual\", \"individual\", \"individual\", \"individual\", \"individual\", \"individual\", \"individual\", \"individual\", \"industry\", \"information\", \"information\", \"information\", \"inner\", \"inner\", \"inspire\", \"inspire\", \"institution\", \"institution\", \"institution\", \"instructional\", \"instrument\", \"insurance\", \"insurance\", \"intellectually\", \"intend\", \"interest\", \"interest\", \"interest\", \"interest\", \"interest\", \"interest\", \"investment\", \"investment\", \"investment\", \"issue\", \"issue\", \"issue\", \"issue\", \"issue\", \"issue\", \"jewish\", \"job\", \"job\", \"job\", \"job\", \"kindergarten\", \"labor\", \"land\", \"law\", \"law\", \"law\", \"leader\", \"leader\", \"leader\", \"leadership\", \"leadership\", \"leadership\", \"leadership\", \"league\", \"learn\", \"learn\", \"learn\", \"learn\", \"learning\", \"learning\", \"learning\", \"lease\", \"lease\", \"legal\", \"legislative\", \"lesson\", \"library\", \"life\", \"life\", \"life\", \"life\", \"life\", \"life\", \"life\", \"life\", \"life\", \"lifestyle\", \"light\", \"limited\", \"listen\", \"literacy\", \"literary\", \"literature\", \"little\", \"live\", \"live\", \"live\", \"live\", \"live\", \"live\", \"loan\", \"local\", \"local\", \"local\", \"local\", \"local\", \"local\", \"local\", \"local\", \"local\", \"love\", \"love\", \"love\", \"low\", \"maintenance\", \"maintenance\", \"make\", \"make\", \"make\", \"make\", \"make\", \"make\", \"make\", \"man\", \"man\", \"man\", \"man\", \"market\", \"math\", \"medical\", \"medical\", \"medication\", \"medicine\", \"meeting\", \"member\", \"member\", \"member\", \"member\", \"member\", \"member\", \"member\", \"membership\", \"membership\", \"membership\", \"membership\", \"mental\", \"mental\", \"mentally\", \"mentor\", \"mentor\", \"message\", \"mind\", \"ministry\", \"ministry\", \"mission\", \"mission\", \"mission\", \"mission\", \"mission\", \"mission\", \"mission\", \"mission\", \"mission\", \"mission\", \"mission\", \"missionary\", \"mobilize\", \"model\", \"model\", \"moderate\", \"monie\", \"more\", \"more\", \"more\", \"more\", \"more\", \"more\", \"mortgage\", \"museum\", \"music\", \"music\", \"musical\", \"musical\", \"national\", \"national\", \"national\", \"national\", \"national\", \"natural\", \"natural\", \"nbsp\", \"need\", \"need\", \"need\", \"need\", \"need\", \"need\", \"need\", \"needy\", \"neighbor\", \"neighborhood\", \"neighborhood\", \"neighborhood\", \"neuter\", \"next\", \"non\", \"non\", \"non\", \"non\", \"non\", \"non\", \"non\", \"none\", \"nonprofit\", \"nonprofit\", \"nonprofit\", \"nurse\", \"nursing\", \"occur\", \"offender\", \"offer\", \"offer\", \"offer\", \"offer\", \"offer\", \"old\", \"operate\", \"operate\", \"operate\", \"operate\", \"operate\", \"operation\", \"operation\", \"operation\", \"operation\", \"operation\", \"operation\", \"operation\", \"opportunity\", \"opportunity\", \"opportunity\", \"opportunity\", \"opportunity\", \"opportunity\", \"opportunity\", \"organization\", \"organization\", \"organization\", \"organization\", \"organization\", \"organization\", \"organization\", \"organization\", \"organization\", \"organization\", \"organization\", \"organization\", \"organizational\", \"organizational\", \"orphan\", \"other\", \"other\", \"other\", \"other\", \"other\", \"other\", \"other\", \"other\", \"other\", \"other\", \"other\", \"ownership\", \"pandemic\", \"parent\", \"parent\", \"parent\", \"park\", \"participant\", \"participant\", \"participant\", \"participate\", \"participate\", \"participate\", \"participate\", \"partner\", \"partner\", \"pastor\", \"pastoral\", \"path\", \"patient\", \"peace\", \"people\", \"people\", \"people\", \"people\", \"people\", \"people\", \"people\", \"performance\", \"performance\", \"person\", \"person\", \"person\", \"person\", \"person\", \"pet\", \"physically\", \"physician\", \"play\", \"play\", \"player\", \"police\", \"policy\", \"political\", \"pool\", \"poor\", \"poor\", \"portion\", \"possible\", \"possible\", \"possible\", \"possible\", \"potential\", \"potential\", \"potential\", \"practice\", \"practice\", \"practice\", \"practice\", \"prayer\", \"preach\", \"pregnancy\", \"preparation\", \"prepare\", \"prepare\", \"prepare\", \"prepare\", \"prescription\", \"presence\", \"preservation\", \"preserve\", \"prevention\", \"prevention\", \"priority\", \"prison\", \"private\", \"private\", \"private\", \"private\", \"proceed\", \"productive\", \"professional\", \"professional\", \"professional\", \"professional\", \"profit\", \"profit\", \"profit\", \"profit\", \"program\", \"program\", \"program\", \"program\", \"program\", \"program\", \"program\", \"program\", \"program\", \"program\", \"project\", \"project\", \"project\", \"project\", \"project\", \"project\", \"project\", \"project\", \"promote\", \"promote\", \"promote\", \"promote\", \"promote\", \"promote\", \"promote\", \"promote\", \"promote\", \"promote\", \"promotion\", \"promotion\", \"promotion\", \"prosperity\", \"protection\", \"protection\", \"provide\", \"provide\", \"provide\", \"provide\", \"provide\", \"provide\", \"provide\", \"provide\", \"provide\", \"provide\", \"provide\", \"provide\", \"provider\", \"provider\", \"provider\", \"provision\", \"public\", \"public\", \"public\", \"public\", \"public\", \"public\", \"purchase\", \"purchase\", \"purchase\", \"purpose\", \"purpose\", \"purpose\", \"purpose\", \"purpose\", \"purpose\", \"pursuant\", \"put\", \"quality\", \"quality\", \"quality\", \"quality\", \"quality\", \"race\", \"radio\", \"raise\", \"raise\", \"raise\", \"raise\", \"reading\", \"real\", \"rebuild\", \"recover\", \"recovery\", \"recreation\", \"recreation\", \"recreational\", \"recreational\", \"reduce\", \"refugee\", \"regard\", \"regard\", \"regardless\", \"regardless\", \"region\", \"region\", \"region\", \"region\", \"regional\", \"regional\", \"regional\", \"regulate\", \"regulatory\", \"rehabilitate\", \"release\", \"relief\", \"rental\", \"representation\", \"rescue\", \"research\", \"research\", \"resident\", \"resident\", \"resident\", \"resident\", \"resident\", \"resident\", \"residential\", \"residential\", \"residential\", \"residential\", \"resource\", \"resource\", \"resource\", \"resource\", \"resource\", \"resource\", \"resource\", \"response\", \"responsibility\", \"restoration\", \"restore\", \"retirement\", \"river\", \"root\", \"round\", \"rural\", \"rural\", \"safe\", \"safe\", \"safe\", \"safe\", \"safe\", \"safe\", \"safety\", \"safety\", \"safety\", \"safety\", \"safety\", \"salary\", \"same\", \"sanctuary\", \"saving\", \"saving\", \"schedule\", \"schedule\", \"schedule\", \"schedule\", \"scholar\", \"scholarship\", \"scholarship\", \"school\", \"school\", \"school\", \"science\", \"science\", \"scout\", \"secondary\", \"section\", \"section\", \"see\", \"see\", \"see\", \"see\", \"see\", \"see\", \"self\", \"self\", \"self\", \"senior\", \"senior\", \"senior\", \"serve\", \"serve\", \"serve\", \"serve\", \"serve\", \"serve\", \"serve\", \"serve\", \"serve\", \"serve\", \"serve\", \"serve\", \"service\", \"service\", \"service\", \"service\", \"service\", \"service\", \"service\", \"service\", \"service\", \"service\", \"severe\", \"sexual\", \"shall\", \"shelter\", \"show\", \"show\", \"show\", \"show\", \"show\", \"situation\", \"skill\", \"skill\", \"skill\", \"skilled\", \"snack\", \"soccer\", \"social\", \"social\", \"social\", \"social\", \"social\", \"social\", \"socially\", \"solely\", \"solid\", \"south\", \"southeast\", \"southern\", \"space\", \"space\", \"spay\", \"specialized\", \"speech\", \"spiritual\", \"spiritual\", \"sport\", \"spread\", \"stage\", \"stand\", \"state\", \"state\", \"state\", \"state\", \"state\", \"state\", \"state\", \"statement\", \"station\", \"step\", \"stimulate\", \"store\", \"strategic\", \"strength\", \"structure\", \"structure\", \"student\", \"student\", \"subsidize\", \"substance\", \"success\", \"success\", \"summer\", \"summer\", \"summer\", \"supervise\", \"support\", \"support\", \"support\", \"support\", \"support\", \"support\", \"support\", \"support\", \"support\", \"support\", \"surgical\", \"survivor\", \"swim\", \"swimming\", \"tax\", \"tax\", \"teacher\", \"team\", \"team\", \"team\", \"team\", \"television\", \"tenant\", \"tennessean\", \"tennessean\", \"tennis\", \"therapeutic\", \"therapy\", \"thousand\", \"thrive\", \"thrive\", \"together\", \"together\", \"together\", \"together\", \"tour\", \"tourism\", \"tournament\", \"toy\", \"trade\", \"train\", \"train\", \"train\", \"train\", \"train\", \"train\", \"train\", \"train\", \"training\", \"training\", \"training\", \"training\", \"training\", \"training\", \"training\", \"training\", \"training\", \"transformation\", \"transportation\", \"transportation\", \"transportation\", \"transportation\", \"trauma\", \"treatment\", \"treatment\", \"treatment\", \"treatment\", \"trust\", \"truth\", \"tuition\", \"underprivileged\", \"uninsured\", \"union\", \"union\", \"unit\", \"unit\", \"unite\", \"university\", \"unwanted\", \"use\", \"use\", \"use\", \"use\", \"use\", \"use\", \"use\", \"use\", \"use\", \"utility\", \"various\", \"various\", \"various\", \"various\", \"various\", \"various\", \"various\", \"various\", \"vehicle\", \"very\", \"very\", \"very\", \"veteran\", \"victim\", \"video\", \"video\", \"violence\", \"violent\", \"vision\", \"vision\", \"vision\", \"vision\", \"visitor\", \"volunteer\", \"volunteer\", \"volunteer\", \"volunteer\", \"volunteer\", \"volunteer\", \"volunteer\", \"volunteer\", \"volunteer\", \"vote\", \"wage\", \"want\", \"war\", \"water\", \"water\", \"week\", \"week\", \"week\", \"welfare\", \"welfare\", \"welfare\", \"welfare\", \"well\", \"well\", \"well\", \"well\", \"well\", \"well\", \"well\", \"well\", \"well\", \"well\", \"wildlife\", \"woman\", \"woman\", \"woman\", \"word\", \"work\", \"work\", \"work\", \"work\", \"work\", \"work\", \"work\", \"worker\", \"worker\", \"world\", \"world\", \"world\", \"world\", \"world\", \"world\", \"worship\", \"year\", \"year\", \"year\", \"year\", \"year\", \"year\", \"year\", \"year\", \"year\", \"ymca\", \"youth\", \"youth\", \"youth\"]}, \"R\": 30, \"lambda.step\": 0.01, \"plot.opts\": {\"xlab\": \"PC1\", \"ylab\": \"PC2\"}, \"topic.order\": [2, 5, 4, 8, 1, 7, 6, 11, 3, 10, 12, 9]};\n",
       "\n",
       "function LDAvis_load_lib(url, callback){\n",
       "  var s = document.createElement('script');\n",
       "  s.src = url;\n",
       "  s.async = true;\n",
       "  s.onreadystatechange = s.onload = callback;\n",
       "  s.onerror = function(){console.warn(\"failed to load library \" + url);};\n",
       "  document.getElementsByTagName(\"head\")[0].appendChild(s);\n",
       "}\n",
       "\n",
       "if(typeof(LDAvis) !== \"undefined\"){\n",
       "   // already loaded: just create the visualization\n",
       "   !function(LDAvis){\n",
       "       new LDAvis(\"#\" + \"ldavis_el795618026678836484369115919\", ldavis_el795618026678836484369115919_data);\n",
       "   }(LDAvis);\n",
       "}else if(typeof define === \"function\" && define.amd){\n",
       "   // require.js is available: use it to load d3/LDAvis\n",
       "   require.config({paths: {d3: \"https://d3js.org/d3.v5\"}});\n",
       "   require([\"d3\"], function(d3){\n",
       "      window.d3 = d3;\n",
       "      LDAvis_load_lib(\"https://cdn.jsdelivr.net/gh/bmabey/pyLDAvis@3.3.1/pyLDAvis/js/ldavis.v3.0.0.js\", function(){\n",
       "        new LDAvis(\"#\" + \"ldavis_el795618026678836484369115919\", ldavis_el795618026678836484369115919_data);\n",
       "      });\n",
       "    });\n",
       "}else{\n",
       "    // require.js not available: dynamically load d3 & LDAvis\n",
       "    LDAvis_load_lib(\"https://d3js.org/d3.v5.js\", function(){\n",
       "         LDAvis_load_lib(\"https://cdn.jsdelivr.net/gh/bmabey/pyLDAvis@3.3.1/pyLDAvis/js/ldavis.v3.0.0.js\", function(){\n",
       "                 new LDAvis(\"#\" + \"ldavis_el795618026678836484369115919\", ldavis_el795618026678836484369115919_data);\n",
       "            })\n",
       "         });\n",
       "}\n",
       "</script>"
      ],
      "text/plain": [
       "PreparedData(topic_coordinates=              x         y  topics  cluster       Freq\n",
       "topic                                                \n",
       "1      0.185123  0.090373       1        1  17.484173\n",
       "4      0.107843 -0.169311       2        1  13.626072\n",
       "3     -0.089720  0.171277       3        1  12.582677\n",
       "7     -0.054143 -0.078776       4        1   8.987502\n",
       "0      0.047325 -0.063157       5        1   8.288476\n",
       "6      0.091438 -0.065758       6        1   7.453428\n",
       "5      0.213296  0.025828       7        1   7.030259\n",
       "10    -0.037327  0.216432       8        1   6.051594\n",
       "2     -0.282379  0.002627       9        1   5.770052\n",
       "9      0.058005 -0.109689      10        1   4.749941\n",
       "11    -0.047502  0.190348      11        1   4.627345\n",
       "8     -0.191957 -0.210194      12        1   3.348483, topic_info=             Term         Freq        Total Category  logprob  loglift\n",
       "278         child  2922.000000  2922.000000  Default  30.0000  30.0000\n",
       "115       service  4868.000000  4868.000000  Default  29.0000  29.0000\n",
       "316        school  2435.000000  2435.000000  Default  28.0000  28.0000\n",
       "413       student  2080.000000  2080.000000  Default  27.0000  27.0000\n",
       "6         provide  9582.000000  9582.000000  Default  26.0000  26.0000\n",
       "..            ...          ...          ...      ...      ...      ...\n",
       "275       benefit   126.396584  1001.751002  Topic12  -4.5477   1.3266\n",
       "82     membership    96.402858   338.057934  Topic12  -4.8186   2.1420\n",
       "227  organization   112.527516  3376.228488  Topic12  -4.6640  -0.0047\n",
       "87        promote   107.088722  2215.858242  Topic12  -4.7135   0.3669\n",
       "767       welfare    92.004799   333.194390  Topic12  -4.8653   2.1098\n",
       "\n",
       "[761 rows x 6 columns], token_table=      Topic      Freq     Term\n",
       "term                          \n",
       "459       8  0.977673  abandon\n",
       "1240      8  0.143940    abuse\n",
       "1240     11  0.140878    abuse\n",
       "1240     12  0.713576    abuse\n",
       "4053      9  0.991195   abused\n",
       "...     ...       ...      ...\n",
       "266      11  0.046225     year\n",
       "3858      7  0.980191     ymca\n",
       "14        1  0.456339    youth\n",
       "14        6  0.424624    youth\n",
       "14       11  0.118930    youth\n",
       "\n",
       "[1482 rows x 3 columns], R=30, lambda_step=0.01, plot_opts={'xlab': 'PC1', 'ylab': 'PC2'}, topic_order=[2, 5, 4, 8, 1, 7, 6, 11, 3, 10, 12, 9])"
      ]
     },
     "execution_count": 29,
     "metadata": {},
     "output_type": "execute_result"
    }
   ],
   "source": [
    "# Visualize the topics\n",
    "pyLDAvis.enable_notebook()\n",
    "vis = pyLDAvis.gensim_models.prepare(lda_model, corpus, id2word)\n",
    "vis"
   ]
  },
  {
   "cell_type": "code",
   "execution_count": 30,
   "id": "e71a1f82",
   "metadata": {
    "scrolled": false
   },
   "outputs": [],
   "source": [
    "def get_readable_topic(input_doc):\n",
    "    if len(input_doc) > 1:\n",
    "        doc = lda_model.id2word.doc2bow(input_doc)\n",
    "        doc_topics, word_topics, phi_values = lda_model.get_document_topics(doc, per_word_topics=True)\n",
    "        return lda_model.id2word[word_topics[0][0]]\n",
    "    else:\n",
    "        return None\n",
    "\n",
    "index = 0\n",
    "for doc in data_lemmatized:\n",
    "    df_text.loc[index,\"topic_model_result\"] = get_readable_topic(doc)\n",
    "    index = index + 1"
   ]
  },
  {
   "cell_type": "code",
   "execution_count": 31,
   "id": "332b0333",
   "metadata": {
    "scrolled": true
   },
   "outputs": [
    {
     "data": {
      "text/html": [
       "<div>\n",
       "<style scoped>\n",
       "    .dataframe tbody tr th:only-of-type {\n",
       "        vertical-align: middle;\n",
       "    }\n",
       "\n",
       "    .dataframe tbody tr th {\n",
       "        vertical-align: top;\n",
       "    }\n",
       "\n",
       "    .dataframe thead th {\n",
       "        text-align: right;\n",
       "    }\n",
       "</style>\n",
       "<table border=\"1\" class=\"dataframe\">\n",
       "  <thead>\n",
       "    <tr style=\"text-align: right;\">\n",
       "      <th></th>\n",
       "      <th>nonprofit_id</th>\n",
       "      <th>description</th>\n",
       "      <th>topic_model_result</th>\n",
       "    </tr>\n",
       "  </thead>\n",
       "  <tbody>\n",
       "    <tr>\n",
       "      <th>0</th>\n",
       "      <td>602.0</td>\n",
       "      <td>Provide sound, supervised PROVIDE SOUND, SUPER...</td>\n",
       "      <td>baseball</td>\n",
       "    </tr>\n",
       "    <tr>\n",
       "      <th>1</th>\n",
       "      <td>640.0</td>\n",
       "      <td>PROVIDE FOOD, CLOTHNG AND FURNITURE FOR ECONOM...</td>\n",
       "      <td>community</td>\n",
       "    </tr>\n",
       "    <tr>\n",
       "      <th>3</th>\n",
       "      <td>710.0</td>\n",
       "      <td>MCU MEDICAL FOUNDATION INC Provide financial a...</td>\n",
       "      <td>community</td>\n",
       "    </tr>\n",
       "    <tr>\n",
       "      <th>4</th>\n",
       "      <td>778.0</td>\n",
       "      <td>TO PROMOTE EDUCATIONAL OPPORTUNITIES FOR WOMEN...</td>\n",
       "      <td>provide</td>\n",
       "    </tr>\n",
       "    <tr>\n",
       "      <th>5</th>\n",
       "      <td>1071.0</td>\n",
       "      <td>PROVIDE A SUPPORTIVE LIVING SERVICES HOME AND ...</td>\n",
       "      <td>youth</td>\n",
       "    </tr>\n",
       "    <tr>\n",
       "      <th>6</th>\n",
       "      <td>1134.0</td>\n",
       "      <td>RELIGIOUS YOUTH CAMP GROUP RETREATS AND SUMMER...</td>\n",
       "      <td>community</td>\n",
       "    </tr>\n",
       "    <tr>\n",
       "      <th>7</th>\n",
       "      <td>1567.0</td>\n",
       "      <td>TO PROVIDE ASSISTANCE TO CANCER PATIENTS IN NE...</td>\n",
       "      <td>None</td>\n",
       "    </tr>\n",
       "    <tr>\n",
       "      <th>8</th>\n",
       "      <td>1593.0</td>\n",
       "      <td>JACKSON AREA CHAMBER OF COMMERCE FOUNDATION INC</td>\n",
       "      <td>None</td>\n",
       "    </tr>\n",
       "    <tr>\n",
       "      <th>9</th>\n",
       "      <td>1667.0</td>\n",
       "      <td>WILSON COUNTY BLACK HISTORY COMMITTEE</td>\n",
       "      <td>provide</td>\n",
       "    </tr>\n",
       "    <tr>\n",
       "      <th>10</th>\n",
       "      <td>1739.0</td>\n",
       "      <td>PROMOTE AND ENCOURAGE THE SHOWING OF REINING H...</td>\n",
       "      <td>community</td>\n",
       "    </tr>\n",
       "  </tbody>\n",
       "</table>\n",
       "</div>"
      ],
      "text/plain": [
       "    nonprofit_id                                        description  \\\n",
       "0          602.0  Provide sound, supervised PROVIDE SOUND, SUPER...   \n",
       "1          640.0  PROVIDE FOOD, CLOTHNG AND FURNITURE FOR ECONOM...   \n",
       "3          710.0  MCU MEDICAL FOUNDATION INC Provide financial a...   \n",
       "4          778.0  TO PROMOTE EDUCATIONAL OPPORTUNITIES FOR WOMEN...   \n",
       "5         1071.0  PROVIDE A SUPPORTIVE LIVING SERVICES HOME AND ...   \n",
       "6         1134.0  RELIGIOUS YOUTH CAMP GROUP RETREATS AND SUMMER...   \n",
       "7         1567.0  TO PROVIDE ASSISTANCE TO CANCER PATIENTS IN NE...   \n",
       "8         1593.0    JACKSON AREA CHAMBER OF COMMERCE FOUNDATION INC   \n",
       "9         1667.0              WILSON COUNTY BLACK HISTORY COMMITTEE   \n",
       "10        1739.0  PROMOTE AND ENCOURAGE THE SHOWING OF REINING H...   \n",
       "\n",
       "   topic_model_result  \n",
       "0            baseball  \n",
       "1           community  \n",
       "3           community  \n",
       "4             provide  \n",
       "5               youth  \n",
       "6           community  \n",
       "7                None  \n",
       "8                None  \n",
       "9             provide  \n",
       "10          community  "
      ]
     },
     "execution_count": 31,
     "metadata": {},
     "output_type": "execute_result"
    }
   ],
   "source": [
    "df_text.head(10)"
   ]
  },
  {
   "cell_type": "code",
   "execution_count": 32,
   "id": "1bf348e0",
   "metadata": {},
   "outputs": [],
   "source": [
    "df_text.to_csv('output.csv')"
   ]
  },
  {
   "cell_type": "code",
   "execution_count": null,
   "id": "66eae43e",
   "metadata": {},
   "outputs": [],
   "source": []
  }
 ],
 "metadata": {
  "kernelspec": {
   "display_name": "Python 3 (ipykernel)",
   "language": "python",
   "name": "python3"
  },
  "language_info": {
   "codemirror_mode": {
    "name": "ipython",
    "version": 3
   },
   "file_extension": ".py",
   "mimetype": "text/x-python",
   "name": "python",
   "nbconvert_exporter": "python",
   "pygments_lexer": "ipython3",
   "version": "3.9.7"
  }
 },
 "nbformat": 4,
 "nbformat_minor": 5
}
