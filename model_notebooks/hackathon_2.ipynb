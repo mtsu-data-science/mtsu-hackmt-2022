{
 "cells": [
  {
   "cell_type": "code",
   "execution_count": 1,
   "id": "89ebad99",
   "metadata": {},
   "outputs": [
    {
     "name": "stderr",
     "output_type": "stream",
     "text": [
      "[nltk_data] Downloading package stopwords to\n",
      "[nltk_data]     C:\\Users\\John\\AppData\\Roaming\\nltk_data...\n",
      "[nltk_data]   Package stopwords is already up-to-date!\n"
     ]
    },
    {
     "data": {
      "text/plain": [
       "True"
      ]
     },
     "execution_count": 1,
     "metadata": {},
     "output_type": "execute_result"
    }
   ],
   "source": [
    "# Run in python console\n",
    "import nltk; nltk.download('stopwords')\n",
    "\n",
    "# Run in terminal or command prompt\n",
    "#python3 -m spacy download en"
   ]
  },
  {
   "cell_type": "code",
   "execution_count": 2,
   "id": "62422e29",
   "metadata": {},
   "outputs": [
    {
     "name": "stdout",
     "output_type": "stream",
     "text": [
      "Requirement already satisfied: pyLDAvis in c:\\users\\john\\anaconda3\\envs\\hackmt\\lib\\site-packages (3.3.1)\n",
      "Requirement already satisfied: funcy in c:\\users\\john\\anaconda3\\envs\\hackmt\\lib\\site-packages (from pyLDAvis) (1.17)\n",
      "Requirement already satisfied: scipy in c:\\users\\john\\anaconda3\\envs\\hackmt\\lib\\site-packages (from pyLDAvis) (1.7.3)\n",
      "Requirement already satisfied: jinja2 in c:\\users\\john\\anaconda3\\envs\\hackmt\\lib\\site-packages (from pyLDAvis) (3.0.2)\n",
      "Requirement already satisfied: numexpr in c:\\users\\john\\anaconda3\\envs\\hackmt\\lib\\site-packages (from pyLDAvis) (2.8.1)\n",
      "Requirement already satisfied: scikit-learn in c:\\users\\john\\anaconda3\\envs\\hackmt\\lib\\site-packages (from pyLDAvis) (1.0.2)\n",
      "Requirement already satisfied: gensim in c:\\users\\john\\anaconda3\\envs\\hackmt\\lib\\site-packages (from pyLDAvis) (4.0.1)\n",
      "Requirement already satisfied: pandas>=1.2.0 in c:\\users\\john\\anaconda3\\envs\\hackmt\\lib\\site-packages (from pyLDAvis) (1.3.5)\n",
      "Requirement already satisfied: future in c:\\users\\john\\anaconda3\\envs\\hackmt\\lib\\site-packages (from pyLDAvis) (0.18.2)\n",
      "Requirement already satisfied: sklearn in c:\\users\\john\\anaconda3\\envs\\hackmt\\lib\\site-packages (from pyLDAvis) (0.0)\n",
      "Requirement already satisfied: numpy>=1.20.0 in c:\\users\\john\\anaconda3\\envs\\hackmt\\lib\\site-packages (from pyLDAvis) (1.21.2)\n",
      "Requirement already satisfied: setuptools in c:\\users\\john\\anaconda3\\envs\\hackmt\\lib\\site-packages (from pyLDAvis) (58.0.4)\n",
      "Requirement already satisfied: joblib in c:\\users\\john\\anaconda3\\envs\\hackmt\\lib\\site-packages (from pyLDAvis) (1.1.0)\n",
      "Requirement already satisfied: pytz>=2017.3 in c:\\users\\john\\anaconda3\\envs\\hackmt\\lib\\site-packages (from pandas>=1.2.0->pyLDAvis) (2021.3)\n",
      "Requirement already satisfied: python-dateutil>=2.7.3 in c:\\users\\john\\anaconda3\\envs\\hackmt\\lib\\site-packages (from pandas>=1.2.0->pyLDAvis) (2.8.2)\n",
      "Requirement already satisfied: six>=1.5 in c:\\users\\john\\anaconda3\\envs\\hackmt\\lib\\site-packages (from python-dateutil>=2.7.3->pandas>=1.2.0->pyLDAvis) (1.16.0)\n",
      "Requirement already satisfied: smart-open>=1.8.1 in c:\\users\\john\\anaconda3\\envs\\hackmt\\lib\\site-packages (from gensim->pyLDAvis) (1.9.0)\n",
      "Requirement already satisfied: boto>=2.32 in c:\\users\\john\\anaconda3\\envs\\hackmt\\lib\\site-packages (from smart-open>=1.8.1->gensim->pyLDAvis) (2.49.0)\n",
      "Requirement already satisfied: boto3 in c:\\users\\john\\anaconda3\\envs\\hackmt\\lib\\site-packages (from smart-open>=1.8.1->gensim->pyLDAvis) (1.18.21)\n",
      "Requirement already satisfied: bz2file in c:\\users\\john\\anaconda3\\envs\\hackmt\\lib\\site-packages (from smart-open>=1.8.1->gensim->pyLDAvis) (0.98)\n",
      "Requirement already satisfied: requests in c:\\users\\john\\anaconda3\\envs\\hackmt\\lib\\site-packages (from smart-open>=1.8.1->gensim->pyLDAvis) (2.27.1)\n",
      "Requirement already satisfied: s3transfer<0.6.0,>=0.5.0 in c:\\users\\john\\anaconda3\\envs\\hackmt\\lib\\site-packages (from boto3->smart-open>=1.8.1->gensim->pyLDAvis) (0.5.0)\n",
      "Requirement already satisfied: botocore<1.22.0,>=1.21.21 in c:\\users\\john\\anaconda3\\envs\\hackmt\\lib\\site-packages (from boto3->smart-open>=1.8.1->gensim->pyLDAvis) (1.21.41)\n",
      "Requirement already satisfied: jmespath<1.0.0,>=0.7.1 in c:\\users\\john\\anaconda3\\envs\\hackmt\\lib\\site-packages (from boto3->smart-open>=1.8.1->gensim->pyLDAvis) (0.10.0)\n",
      "Requirement already satisfied: urllib3<1.27,>=1.25.4 in c:\\users\\john\\anaconda3\\envs\\hackmt\\lib\\site-packages (from botocore<1.22.0,>=1.21.21->boto3->smart-open>=1.8.1->gensim->pyLDAvis) (1.26.7)\n",
      "Requirement already satisfied: MarkupSafe>=2.0 in c:\\users\\john\\anaconda3\\envs\\hackmt\\lib\\site-packages (from jinja2->pyLDAvis) (2.0.1)\n",
      "Requirement already satisfied: packaging in c:\\users\\john\\anaconda3\\envs\\hackmt\\lib\\site-packages (from numexpr->pyLDAvis) (21.3)\n",
      "Requirement already satisfied: pyparsing!=3.0.5,>=2.0.2 in c:\\users\\john\\anaconda3\\envs\\hackmt\\lib\\site-packages (from packaging->numexpr->pyLDAvis) (3.0.4)\n",
      "Requirement already satisfied: charset-normalizer~=2.0.0 in c:\\users\\john\\anaconda3\\envs\\hackmt\\lib\\site-packages (from requests->smart-open>=1.8.1->gensim->pyLDAvis) (2.0.4)\n",
      "Requirement already satisfied: certifi>=2017.4.17 in c:\\users\\john\\anaconda3\\envs\\hackmt\\lib\\site-packages (from requests->smart-open>=1.8.1->gensim->pyLDAvis) (2021.10.8)\n",
      "Requirement already satisfied: idna<4,>=2.5 in c:\\users\\john\\anaconda3\\envs\\hackmt\\lib\\site-packages (from requests->smart-open>=1.8.1->gensim->pyLDAvis) (3.3)\n",
      "Requirement already satisfied: threadpoolctl>=2.0.0 in c:\\users\\john\\anaconda3\\envs\\hackmt\\lib\\site-packages (from scikit-learn->pyLDAvis) (3.0.0)\n",
      "Note: you may need to restart the kernel to use updated packages.\n"
     ]
    }
   ],
   "source": [
    "pip install pyLDAvis"
   ]
  },
  {
   "cell_type": "code",
   "execution_count": 3,
   "id": "763fdaa8",
   "metadata": {},
   "outputs": [
    {
     "name": "stdout",
     "output_type": "stream",
     "text": [
      "Requirement already satisfied: gensim in c:\\users\\john\\anaconda3\\envs\\hackmt\\lib\\site-packages (4.0.1)\n",
      "Requirement already satisfied: numpy>=1.11.3 in c:\\users\\john\\anaconda3\\envs\\hackmt\\lib\\site-packages (from gensim) (1.21.2)\n",
      "Requirement already satisfied: smart-open>=1.8.1 in c:\\users\\john\\anaconda3\\envs\\hackmt\\lib\\site-packages (from gensim) (1.9.0)\n",
      "Requirement already satisfied: scipy>=0.18.1 in c:\\users\\john\\anaconda3\\envs\\hackmt\\lib\\site-packages (from gensim) (1.7.3)\n",
      "Requirement already satisfied: requests in c:\\users\\john\\anaconda3\\envs\\hackmt\\lib\\site-packages (from smart-open>=1.8.1->gensim) (2.27.1)\n",
      "Requirement already satisfied: bz2file in c:\\users\\john\\anaconda3\\envs\\hackmt\\lib\\site-packages (from smart-open>=1.8.1->gensim) (0.98)\n",
      "Requirement already satisfied: boto>=2.32 in c:\\users\\john\\anaconda3\\envs\\hackmt\\lib\\site-packages (from smart-open>=1.8.1->gensim) (2.49.0)\n",
      "Requirement already satisfied: boto3 in c:\\users\\john\\anaconda3\\envs\\hackmt\\lib\\site-packages (from smart-open>=1.8.1->gensim) (1.18.21)\n",
      "Requirement already satisfied: jmespath<1.0.0,>=0.7.1 in c:\\users\\john\\anaconda3\\envs\\hackmt\\lib\\site-packages (from boto3->smart-open>=1.8.1->gensim) (0.10.0)\n",
      "Requirement already satisfied: s3transfer<0.6.0,>=0.5.0 in c:\\users\\john\\anaconda3\\envs\\hackmt\\lib\\site-packages (from boto3->smart-open>=1.8.1->gensim) (0.5.0)\n",
      "Requirement already satisfied: botocore<1.22.0,>=1.21.21 in c:\\users\\john\\anaconda3\\envs\\hackmt\\lib\\site-packages (from boto3->smart-open>=1.8.1->gensim) (1.21.41)\n",
      "Requirement already satisfied: urllib3<1.27,>=1.25.4 in c:\\users\\john\\anaconda3\\envs\\hackmt\\lib\\site-packages (from botocore<1.22.0,>=1.21.21->boto3->smart-open>=1.8.1->gensim) (1.26.7)\n",
      "Requirement already satisfied: python-dateutil<3.0.0,>=2.1 in c:\\users\\john\\anaconda3\\envs\\hackmt\\lib\\site-packages (from botocore<1.22.0,>=1.21.21->boto3->smart-open>=1.8.1->gensim) (2.8.2)\n",
      "Requirement already satisfied: six>=1.5 in c:\\users\\john\\anaconda3\\envs\\hackmt\\lib\\site-packages (from python-dateutil<3.0.0,>=2.1->botocore<1.22.0,>=1.21.21->boto3->smart-open>=1.8.1->gensim) (1.16.0)\n",
      "Requirement already satisfied: certifi>=2017.4.17 in c:\\users\\john\\anaconda3\\envs\\hackmt\\lib\\site-packages (from requests->smart-open>=1.8.1->gensim) (2021.10.8)\n",
      "Requirement already satisfied: charset-normalizer~=2.0.0 in c:\\users\\john\\anaconda3\\envs\\hackmt\\lib\\site-packages (from requests->smart-open>=1.8.1->gensim) (2.0.4)\n",
      "Requirement already satisfied: idna<4,>=2.5 in c:\\users\\john\\anaconda3\\envs\\hackmt\\lib\\site-packages (from requests->smart-open>=1.8.1->gensim) (3.3)\n",
      "Note: you may need to restart the kernel to use updated packages.\n"
     ]
    }
   ],
   "source": [
    "pip install gensim"
   ]
  },
  {
   "cell_type": "code",
   "execution_count": 4,
   "id": "e6465744",
   "metadata": {},
   "outputs": [],
   "source": [
    "#pip install spacy==2.2.0"
   ]
  },
  {
   "cell_type": "code",
   "execution_count": 33,
   "id": "bfc66902",
   "metadata": {},
   "outputs": [],
   "source": [
    "import re\n",
    "import numpy as np\n",
    "import pandas as pd\n",
    "from pprint import pprint\n",
    "\n",
    "# Gensim\n",
    "import gensim\n",
    "import gensim.corpora as corpora\n",
    "from gensim.utils import simple_preprocess\n",
    "from gensim.models import CoherenceModel\n",
    "\n",
    "import nltk\n",
    "from nltk.stem import WordNetLemmatizer\n",
    "\n",
    "# spacy for lemmatization\n",
    "import spacy\n",
    "\n",
    "# Plotting tools\n",
    "import pyLDAvis\n",
    "import pyLDAvis.gensim_models  # don't skip this\n",
    "import matplotlib.pyplot as plt\n",
    "%matplotlib inline\n",
    "\n",
    "# Enable logging for gensim - optional\n",
    "import logging\n",
    "logging.basicConfig(format='%(asctime)s : %(levelname)s : %(message)s', level=logging.ERROR)\n",
    "\n",
    "import warnings\n",
    "warnings.filterwarnings(\"ignore\",category=DeprecationWarning)"
   ]
  },
  {
   "cell_type": "code",
   "execution_count": 6,
   "id": "90584ef1",
   "metadata": {},
   "outputs": [],
   "source": [
    "# NLTK Stop words\n",
    "from nltk.corpus import stopwords\n",
    "stop_words = stopwords.words('english')\n",
    "stop_words.extend(['from', 'subject', 're', 'edu', 'use'])"
   ]
  },
  {
   "cell_type": "code",
   "execution_count": 7,
   "id": "fe546cbb",
   "metadata": {},
   "outputs": [],
   "source": [
    "#import data\n",
    "df_id = pd.read_csv(\"dataset/nonprofit.txt\", sep = \"|\", encoding = \"cp1252\")\n",
    "df_text = pd.read_csv(\"dataset/nonprofit_text.txt\", sep = \"|\", encoding = \"cp1252\")"
   ]
  },
  {
   "cell_type": "code",
   "execution_count": 8,
   "id": "fc607cea",
   "metadata": {},
   "outputs": [],
   "source": [
    "#merge sets\n",
    "df_merge = pd.merge(df_id, df_text, how='inner', on='nonprofit_id')"
   ]
  },
  {
   "cell_type": "code",
   "execution_count": 9,
   "id": "eadf2dc8",
   "metadata": {},
   "outputs": [],
   "source": [
    "#filter by TN entries\n",
    "df_text = df_merge.loc[(df_merge[\"stabbrv\"]=='TN')]"
   ]
  },
  {
   "cell_type": "code",
   "execution_count": 10,
   "id": "b2d46add",
   "metadata": {},
   "outputs": [],
   "source": [
    "# removes the empty descriptions\n",
    "df_text = df_text[df_text[\"description\"].str.len() > 0]\n",
    "\n",
    "# combines all by nonprofit_id to a single description\n",
    "df_text = df_text.groupby(['nonprofit_id'], as_index = False).agg({'description': ' '.join})"
   ]
  },
  {
   "cell_type": "code",
   "execution_count": 11,
   "id": "ab849bfe",
   "metadata": {},
   "outputs": [],
   "source": [
    "df_text = df_text[df_text[\"description\"].str.len() > 10]"
   ]
  },
  {
   "cell_type": "code",
   "execution_count": 12,
   "id": "77ce2a7e",
   "metadata": {},
   "outputs": [
    {
     "name": "stdout",
     "output_type": "stream",
     "text": [
      "<class 'pandas.core.frame.DataFrame'>\n",
      "Int64Index: 10096 entries, 0 to 10159\n",
      "Data columns (total 2 columns):\n",
      " #   Column        Non-Null Count  Dtype \n",
      "---  ------        --------------  ----- \n",
      " 0   nonprofit_id  10096 non-null  int64 \n",
      " 1   description   10096 non-null  object\n",
      "dtypes: int64(1), object(1)\n",
      "memory usage: 236.6+ KB\n"
     ]
    }
   ],
   "source": [
    "df_text.info()"
   ]
  },
  {
   "cell_type": "code",
   "execution_count": 13,
   "id": "b70edf5c",
   "metadata": {},
   "outputs": [],
   "source": [
    "#create sample set\n",
    "#df_text = df_text.sample(n = 250000)\n",
    "#df_text.head()"
   ]
  },
  {
   "cell_type": "code",
   "execution_count": 14,
   "id": "1178b972",
   "metadata": {},
   "outputs": [],
   "source": [
    "data = df_text.description.values.tolist()"
   ]
  },
  {
   "cell_type": "code",
   "execution_count": 15,
   "id": "c33742d7",
   "metadata": {},
   "outputs": [
    {
     "name": "stdout",
     "output_type": "stream",
     "text": [
      "[['provide', 'sound', 'supervised', 'provide', 'sound', 'supervised', 'recreational', 'sports', 'program', 'for', 'youth', 'of', 'our', 'community', 'in', 'which', 'they', 'receive', 'sports', 'training', 'beneficial', 'healthy', 'recreation', 'football', 'program', 'baseball', 'program', 'powell', 'recreation', 'commission', 'inc']]\n"
     ]
    }
   ],
   "source": [
    "def sent_to_words(sentences):\n",
    "    for sentence in sentences:\n",
    "        yield(gensim.utils.simple_preprocess(str(sentence).encode('utf-8'), deacc=True))  # deacc=True removes punctuations\n",
    "\n",
    "data_words = list(sent_to_words(data))\n",
    "print(data_words[:1])"
   ]
  },
  {
   "cell_type": "code",
   "execution_count": 16,
   "id": "c1cfff78",
   "metadata": {},
   "outputs": [
    {
     "name": "stdout",
     "output_type": "stream",
     "text": [
      "['provide', 'sound', 'supervised', 'provide', 'sound', 'supervised', 'recreational', 'sports', 'program', 'for', 'youth', 'of', 'our', 'community', 'in', 'which', 'they', 'receive', 'sports', 'training', 'beneficial', 'healthy', 'recreation', 'football', 'program', 'baseball', 'program', 'powell', 'recreation', 'commission', 'inc']\n"
     ]
    }
   ],
   "source": [
    "# Build the bigram and trigram models\n",
    "bigram = gensim.models.Phrases(data_words, min_count=5, threshold=100) # higher threshold fewer phrases.\n",
    "trigram = gensim.models.Phrases(bigram[data_words], threshold=100)  \n",
    "\n",
    "# Faster way to get a sentence clubbed as a trigram/bigram\n",
    "bigram_mod = gensim.models.phrases.Phraser(bigram)\n",
    "trigram_mod = gensim.models.phrases.Phraser(trigram)\n",
    "\n",
    "# See trigram example\n",
    "print(trigram_mod[bigram_mod[data_words[0]]])"
   ]
  },
  {
   "cell_type": "code",
   "execution_count": 49,
   "id": "f3d7c944",
   "metadata": {},
   "outputs": [],
   "source": [
    "# Define functions for stopwords, bigrams, trigrams and lemmatization\n",
    "def remove_stopwords(texts):\n",
    "    return [[word for word in simple_preprocess(str(doc)) if word not in stop_words] for doc in texts]\n",
    "\n",
    "def make_bigrams(texts):\n",
    "    return [bigram_mod[doc] for doc in texts]\n",
    "\n",
    "def make_trigrams(texts):\n",
    "    return [trigram_mod[bigram_mod[doc]] for doc in texts]\n",
    "\n",
    "def lemmatization(texts):\n",
    "    \"\"\"https://spacy.io/api/annotation\"\"\"\n",
    "    texts_out = []\n",
    "    for sent in texts:\n",
    "        doc = nlp(\" \".join(sent)) \n",
    "        texts_out.append([token.lemma_ for token in doc if(len(token) > 3)])\n",
    "    return texts_out"
   ]
  },
  {
   "cell_type": "code",
   "execution_count": 50,
   "id": "c421f544",
   "metadata": {},
   "outputs": [],
   "source": [
    "#python3 -m spacy download en"
   ]
  },
  {
   "cell_type": "code",
   "execution_count": 51,
   "id": "7a03ba73",
   "metadata": {},
   "outputs": [
    {
     "name": "stdout",
     "output_type": "stream",
     "text": [
      "[['provide', 'sound', 'supervised', 'provide', 'sound', 'supervised', 'recreational', 'sports', 'program', 'youth', 'community', 'receive', 'sports', 'training', 'beneficial', 'healthy', 'recreation', 'football', 'program', 'baseball', 'program', 'powell', 'recreation', 'commission', 'inc']]\n"
     ]
    }
   ],
   "source": [
    "# Remove Stop Words\n",
    "data_words_nostops = remove_stopwords(data_words)\n",
    "\n",
    "print(data_words_nostops[:1])"
   ]
  },
  {
   "cell_type": "code",
   "execution_count": 52,
   "id": "ccc8a3ac",
   "metadata": {},
   "outputs": [
    {
     "name": "stdout",
     "output_type": "stream",
     "text": [
      "['jackson', 'area', 'chamber', 'commerce', 'foundation', 'inc']\n"
     ]
    }
   ],
   "source": [
    "print(data_words_nostops[7])"
   ]
  },
  {
   "cell_type": "code",
   "execution_count": 53,
   "id": "1fd7561d",
   "metadata": {},
   "outputs": [
    {
     "name": "stdout",
     "output_type": "stream",
     "text": [
      "[['provide', 'sound', 'supervised', 'provide', 'sound', 'supervised', 'recreational', 'sports', 'program', 'youth', 'community', 'receive', 'sports', 'training', 'beneficial', 'healthy', 'recreation', 'football', 'program', 'baseball', 'program', 'powell', 'recreation', 'commission', 'inc']]\n"
     ]
    }
   ],
   "source": [
    "# Form Bigrams\n",
    "data_words_bigrams = make_bigrams(data_words_nostops)\n",
    "\n",
    "print(data_words_bigrams[:1])"
   ]
  },
  {
   "cell_type": "code",
   "execution_count": 54,
   "id": "f95f4789",
   "metadata": {},
   "outputs": [
    {
     "name": "stdout",
     "output_type": "stream",
     "text": [
      "['jackson', 'area', 'chamber', 'commerce', 'foundation', 'inc']\n"
     ]
    }
   ],
   "source": [
    "print(data_words_bigrams[7])"
   ]
  },
  {
   "cell_type": "code",
   "execution_count": 55,
   "id": "a65032bd",
   "metadata": {},
   "outputs": [
    {
     "name": "stdout",
     "output_type": "stream",
     "text": [
      "[['provide', 'sound', 'supervise', 'provide', 'sound', 'supervise', 'recreational', 'sport', 'program', 'youth', 'community', 'receive', 'sport', 'training', 'beneficial', 'healthy', 'recreation', 'football', 'program', 'baseball', 'program', 'powell', 'recreation', 'commission']]\n"
     ]
    }
   ],
   "source": [
    "# Initialize spacy 'en' model, keeping only tagger component (for efficiency)\n",
    "# python3 -m spacy download en\n",
    "nlp = spacy.load('en_core_web_sm', disable=['parser', 'ner'])\n",
    "\n",
    "# Do lemmatization keeping only noun, adj, vb, adv\n",
    "data_lemmatized = lemmatization(data_words_bigrams)\n",
    "\n",
    "print(data_lemmatized[:1])\n"
   ]
  },
  {
   "cell_type": "code",
   "execution_count": 56,
   "id": "b94bdd0f",
   "metadata": {},
   "outputs": [
    {
     "name": "stdout",
     "output_type": "stream",
     "text": [
      "['jackson', 'area', 'chamber', 'commerce', 'foundation']\n"
     ]
    }
   ],
   "source": [
    "print(data_lemmatized[7])"
   ]
  },
  {
   "cell_type": "code",
   "execution_count": 57,
   "id": "00760f70",
   "metadata": {},
   "outputs": [
    {
     "name": "stdout",
     "output_type": "stream",
     "text": [
      "[[(0, 1), (1, 1), (2, 1), (3, 1), (4, 1), (5, 1), (6, 1), (7, 3), (8, 2), (9, 1), (10, 2), (11, 1), (12, 2), (13, 2), (14, 2), (15, 1), (16, 1)], [(3, 2), (8, 2), (17, 1), (18, 1), (19, 1), (20, 1), (21, 1), (22, 1), (23, 1), (24, 2), (25, 1), (26, 2), (27, 1), (28, 1), (29, 1), (30, 1), (31, 1), (32, 1), (33, 1), (34, 1), (35, 1), (36, 1), (37, 1), (38, 1), (39, 1)]]\n"
     ]
    }
   ],
   "source": [
    "# Create Dictionary\n",
    "id2word = corpora.Dictionary(data_lemmatized)\n",
    "\n",
    "# Create Corpus\n",
    "texts = data_lemmatized\n",
    "\n",
    "# Term Document Frequency\n",
    "corpus = [id2word.doc2bow(text) for text in texts]\n",
    "\n",
    "# View\n",
    "print(corpus[:2])"
   ]
  },
  {
   "cell_type": "code",
   "execution_count": 58,
   "id": "9fe69a0e",
   "metadata": {
    "scrolled": true
   },
   "outputs": [],
   "source": [
    "# Build LDA model\n",
    "lda_model = gensim.models.ldamulticore.LdaMulticore(workers = 3, corpus=corpus,\n",
    "                                           id2word=id2word,\n",
    "                                           num_topics=12, \n",
    "                                           random_state=42,\n",
    "                                           chunksize=100,\n",
    "                                           passes=10,\n",
    "                                           per_word_topics=True)"
   ]
  },
  {
   "cell_type": "code",
   "execution_count": 59,
   "id": "86c9b8a5",
   "metadata": {
    "scrolled": false
   },
   "outputs": [
    {
     "name": "stdout",
     "output_type": "stream",
     "text": [
      "[(0,\n",
      "  '0.039*\"support\" + 0.028*\"music\" + 0.022*\"program\" + 0.019*\"youth\" + '\n",
      "  '0.017*\"activity\" + 0.017*\"provide\" + 0.014*\"fund\" + 0.013*\"event\" + '\n",
      "  '0.013*\"veteran\" + 0.013*\"organization\"'),\n",
      " (1,\n",
      "  '0.024*\"legal\" + 0.021*\"prevention\" + 0.021*\"education\" + 0.018*\"labor\" + '\n",
      "  '0.018*\"treatment\" + 0.017*\"advocacy\" + 0.017*\"abuse\" + 0.016*\"victim\" + '\n",
      "  '0.015*\"safety\" + 0.015*\"agreement\"'),\n",
      " (2,\n",
      "  '0.080*\"provide\" + 0.047*\"service\" + 0.034*\"housing\" + 0.024*\"home\" + '\n",
      "  '0.024*\"family\" + 0.023*\"individual\" + 0.020*\"assistance\" + '\n",
      "  '0.014*\"organization\" + 0.014*\"low_income\" + 0.011*\"support\"'),\n",
      " (3,\n",
      "  '0.108*\"county\" + 0.026*\"animal\" + 0.024*\"rescue\" + 0.022*\"tennessee\" + '\n",
      "  '0.018*\"public\" + 0.017*\"park\" + 0.013*\"emergency\" + 0.012*\"land\" + '\n",
      "  '0.010*\"united_way\" + 0.009*\"shelter\"'),\n",
      " (4,\n",
      "  '0.315*\"foundation\" + 0.046*\"family\" + 0.023*\"house\" + 0.023*\"charitable\" + '\n",
      "  '0.019*\"west\" + 0.018*\"habitat\" + 0.013*\"theatre\" + 0.011*\"diverse\" + '\n",
      "  '0.010*\"dance\" + 0.010*\"rebuild\"'),\n",
      " (5,\n",
      "  '0.015*\"education\" + 0.013*\"public\" + 0.012*\"tennessee\" + '\n",
      "  '0.011*\"professional\" + 0.011*\"promote\" + 0.011*\"program\" + 0.009*\"research\" '\n",
      "  '+ 0.009*\"organization\" + 0.008*\"provide\" + 0.008*\"support\"'),\n",
      " (6,\n",
      "  '0.137*\"school\" + 0.092*\"student\" + 0.046*\"high\" + 0.046*\"education\" + '\n",
      "  '0.032*\"college\" + 0.028*\"provide\" + 0.023*\"educational\" + '\n",
      "  '0.019*\"scholarship\" + 0.017*\"university\" + 0.016*\"academy\"'),\n",
      " (7,\n",
      "  '0.054*\"christian\" + 0.053*\"ministry\" + 0.041*\"church\" + 0.028*\"woman\" + '\n",
      "  '0.023*\"mission\" + 0.020*\"gospel\" + 0.019*\"ministries\" + 0.019*\"spiritual\" + '\n",
      "  '0.018*\"jesus_christ\" + 0.016*\"world\"'),\n",
      " (8,\n",
      "  '0.057*\"provide\" + 0.042*\"fund\" + 0.035*\"service\" + 0.033*\"organization\" + '\n",
      "  '0.029*\"member\" + 0.024*\"charitable\" + 0.024*\"purpose\" + 0.024*\"benefit\" + '\n",
      "  '0.019*\"financial\" + 0.018*\"trust\"'),\n",
      " (9,\n",
      "  '0.041*\"community\" + 0.030*\"program\" + 0.030*\"child\" + 0.017*\"life\" + '\n",
      "  '0.013*\"people\" + 0.012*\"help\" + 0.011*\"youth\" + 0.011*\"provide\" + '\n",
      "  '0.011*\"family\" + 0.010*\"serve\"'),\n",
      " (10,\n",
      "  '0.046*\"tennessee\" + 0.033*\"promote\" + 0.028*\"association\" + 0.027*\"member\" '\n",
      "  '+ 0.022*\"development\" + 0.020*\"community\" + 0.019*\"county\" + '\n",
      "  '0.017*\"organization\" + 0.016*\"business\" + 0.014*\"local\"'),\n",
      " (11,\n",
      "  '0.086*\"health\" + 0.086*\"care\" + 0.043*\"medical\" + 0.036*\"service\" + '\n",
      "  '0.034*\"provide\" + 0.030*\"patient\" + 0.025*\"center\" + 0.019*\"hospital\" + '\n",
      "  '0.014*\"community\" + 0.013*\"healthcare\"')]\n"
     ]
    }
   ],
   "source": [
    "# Print the Keyword in the 10 topics\n",
    "pprint(lda_model.print_topics())\n",
    "doc_lda = lda_model[corpus]"
   ]
  },
  {
   "cell_type": "code",
   "execution_count": 60,
   "id": "51b49546",
   "metadata": {},
   "outputs": [
    {
     "name": "stdout",
     "output_type": "stream",
     "text": [
      "\n",
      "Perplexity:  -8.346905469418031\n",
      "\n",
      "Coherence Score:  0.435584772591944\n"
     ]
    }
   ],
   "source": [
    "# Compute Perplexity\n",
    "print('\\nPerplexity: ', lda_model.log_perplexity(corpus))  # a measure of how good the model is. lower the better.\n",
    "\n",
    "# Compute Coherence Score\n",
    "coherence_model_lda = CoherenceModel(model=lda_model, texts=data_lemmatized, dictionary=id2word, coherence='c_v')\n",
    "coherence_lda = coherence_model_lda.get_coherence()\n",
    "print('\\nCoherence Score: ', coherence_lda)"
   ]
  },
  {
   "cell_type": "code",
   "execution_count": 61,
   "id": "b52826fb",
   "metadata": {
    "scrolled": false
   },
   "outputs": [
    {
     "name": "stderr",
     "output_type": "stream",
     "text": [
      "C:\\Users\\John\\anaconda3\\envs\\hackMT\\lib\\site-packages\\pyLDAvis\\_prepare.py:246: FutureWarning: In a future version of pandas all arguments of DataFrame.drop except for the argument 'labels' will be keyword-only\n",
      "  default_term_info = default_term_info.sort_values(\n"
     ]
    },
    {
     "data": {
      "text/html": [
       "\n",
       "<link rel=\"stylesheet\" type=\"text/css\" href=\"https://cdn.jsdelivr.net/gh/bmabey/pyLDAvis@3.3.1/pyLDAvis/js/ldavis.v1.0.0.css\">\n",
       "\n",
       "\n",
       "<div id=\"ldavis_el795618026670238242439615010\"></div>\n",
       "<script type=\"text/javascript\">\n",
       "\n",
       "var ldavis_el795618026670238242439615010_data = {\"mdsDat\": {\"x\": [0.1609457092846724, 0.15186369895378618, 0.10340145759004626, 0.11581606229825452, 0.047031876367085265, 0.03399693178982561, 0.08177617353185195, 0.013836059194528403, -0.05600637677385313, -0.1335282895206161, -0.16557572784746588, -0.3535575748681154], \"y\": [0.008832426633343545, -0.11084668137481282, 0.1357603902678204, -0.1807336990454536, 0.15402801105843156, 0.14660945926122054, 0.03330071979283716, -0.008432430063201159, 0.06134960723526793, -0.24474676624005948, -0.10665176998360501, 0.11153073245821117], \"topics\": [1, 2, 3, 4, 5, 6, 7, 8, 9, 10, 11, 12], \"cluster\": [1, 1, 1, 1, 1, 1, 1, 1, 1, 1, 1, 1], \"Freq\": [20.470279864695794, 17.444167888566724, 12.682649880447302, 10.005473543926495, 7.337625560326427, 6.450978283514713, 6.305038902709398, 5.471059371947832, 4.782487080367846, 3.660749765220559, 3.1142225976213713, 2.2752672606555437]}, \"tinfo\": {\"Term\": [\"foundation\", \"school\", \"care\", \"health\", \"county\", \"student\", \"family\", \"service\", \"provide\", \"education\", \"tennessee\", \"housing\", \"member\", \"medical\", \"christian\", \"fund\", \"ministry\", \"high\", \"child\", \"community\", \"promote\", \"association\", \"church\", \"patient\", \"youth\", \"charitable\", \"program\", \"organization\", \"center\", \"home\", \"empower\", \"healthy\", \"festival\", \"enrich\", \"nurture\", \"heritage\", \"law_enforcement\", \"worship\", \"crime\", \"sustainable\", \"golf\", \"possible\", \"connection\", \"teen\", \"disabilitie\", \"artistic\", \"franklin\", \"boys_girls\", \"go\", \"congregation\", \"neighbor\", \"film\", \"concert\", \"environmental\", \"interactive\", \"dream\", \"discover\", \"haiti\", \"deaf\", \"humanitarian\", \"equip\", \"sustain\", \"child\", \"life\", \"kid\", \"neighborhood\", \"young\", \"people\", \"positive\", \"choice\", \"come\", \"community\", \"help\", \"become\", \"inspire\", \"place\", \"youth\", \"build\", \"program\", \"work\", \"live\", \"skill\", \"partner\", \"focus\", \"experience\", \"create\", \"give\", \"grow\", \"need\", \"serve\", \"outreach\", \"opportunity\", \"volunteer\", \"family\", \"memphis\", \"mission\", \"resource\", \"center\", \"provide\", \"include\", \"support\", \"education\", \"local\", \"technology\", \"institute\", \"real_estate\", \"enrichment\", \"publication\", \"online\", \"consist\", \"technical\", \"collection\", \"understanding\", \"report\", \"southeast\", \"scientific\", \"equity\", \"educator\", \"forum\", \"stimulate\", \"peace\", \"role\", \"exchange\", \"audience\", \"cooperation\", \"video\", \"literature\", \"entrepreneur\", \"datum\", \"technique\", \"appropriate\", \"newsletter\", \"background\", \"production\", \"professional\", \"practice\", \"workforce\", \"research\", \"society\", \"seminar\", \"profession\", \"knowledge\", \"workshop\", \"conduct\", \"creative\", \"design\", \"annual\", \"information\", \"voice\", \"public\", \"among\", \"increase\", \"continue\", \"hold\", \"management\", \"education\", \"state\", \"promote\", \"conference\", \"training\", \"tennessee\", \"develop\", \"science\", \"resource\", \"program\", \"organization\", \"nashville\", \"include\", \"support\", \"educational\", \"also\", \"work\", \"business\", \"provide\", \"member\", \"development\", \"mission\", \"service\", \"housing\", \"low_income\", \"affordable\", \"elderly\", \"residential\", \"senior_citizens\", \"disability\", \"disabled\", \"rental\", \"unit\", \"cooperative\", \"needy\", \"household\", \"moderate_income\", \"temporary\", \"complex\", \"daycare\", \"self_sufficiency\", \"adequate\", \"apartment\", \"retirement\", \"mentally\", \"autism\", \"want\", \"computer\", \"food_bank\", \"homes\", \"assisted_live\", \"inclusive\", \"handicapped\", \"living\", \"homeless\", \"utility\", \"transportation\", \"person\", \"clothing\", \"independence\", \"home\", \"crisis\", \"client\", \"senior\", \"mental\", \"assistance\", \"individual\", \"food\", \"adult\", \"service\", \"provide\", \"family\", \"meal\", \"resident\", \"counseling\", \"assist\", \"facility\", \"need\", \"organization\", \"operate\", \"support\", \"program\", \"tennessee\", \"center\", \"community\", \"child\", \"live\", \"care\", \"serve\", \"chamber\", \"agriculture\", \"historic\", \"farm_bureau\", \"commerce\", \"fraternity\", \"rotary\", \"entertainment\", \"downtown\", \"industrial\", \"benevolent\", \"germantown\", \"garden\", \"commercial\", \"representation\", \"tennis\", \"farmer\", \"kingsport\", \"tourism\", \"sevier\", \"fraternal\", \"primary_exempt\", \"contractor\", \"northeast\", \"rock\", \"amateur\", \"promotion\", \"eastern\", \"hospitality\", \"star\", \"agricultural\", \"chapter\", \"association\", \"farm\", \"museum\", \"industry\", \"economic\", \"valley\", \"club\", \"business\", \"promote\", \"tennessee\", \"member\", \"development\", \"membership\", \"memphis\", \"local\", \"area\", \"county\", \"knoxville\", \"activity\", \"general\", \"community\", \"organization\", \"state\", \"social\", \"public\", \"leadership\", \"provide\", \"organize\", \"educational\", \"opportunity\", \"support\", \"purpose\", \"patient\", \"hospital\", \"healthcare\", \"recreation\", \"league\", \"baptist_memorial\", \"physician\", \"medicine\", \"health\", \"wellness\", \"security\", \"hospice\", \"pediatric\", \"methodist\", \"outpatient\", \"nurse\", \"johnson_city\", \"le_bonheur\", \"physicians\", \"treat\", \"uninsured\", \"best_possible\", \"inpatient\", \"nutritional\", \"acute\", \"theta\", \"year_round\", \"comprise\", \"delta\", \"furniture\", \"medical\", \"dental\", \"care\", \"clinic\", \"regardless\", \"covenant\", \"provider\", \"center\", \"services\", \"treatment\", \"service\", \"see_schedule\", \"quality\", \"provide\", \"improve\", \"serve\", \"system\", \"community\", \"support\", \"include\", \"mission\", \"facility\", \"need\", \"education\", \"trust\", \"credit_union\", \"union\", \"loan\", \"cemetery\", \"fire\", \"baptist\", \"volunteer_fire\", \"police\", \"eligible_participant\", \"wilson\", \"step\", \"officer\", \"tax_exempt\", \"fire_protection\", \"united_methodist\", \"deposit\", \"rescue_squad\", \"exempt\", \"collective_bargaine\", \"electricity\", \"prescription\", \"scout\", \"electric\", \"real_property\", \"ready\", \"next\", \"post_secondary\", \"dependent\", \"boy_scouts\", \"employee\", \"insurance\", \"fund\", \"charitable\", \"investment\", \"benefit\", \"memorial\", \"financial\", \"donor\", \"grant\", \"purpose\", \"rural\", \"income\", \"member\", \"provision\", \"organization\", \"provide\", \"department\", \"service\", \"expense\", \"local\", \"corporation\", \"assistance\", \"use\", \"make\", \"scholarship\", \"support\", \"veteran\", \"sport\", \"library\", \"girl\", \"athletic\", \"reduce\", \"soccer\", \"baseball\", \"football\", \"game\", \"basketball\", \"none\", \"athlete\", \"band\", \"boy\", \"fundraising\", \"christmas\", \"junior\", \"raise_funds\", \"choir\", \"multiple\", \"player\", \"secondary\", \"tournament\", \"clean_water\", \"military\", \"portion\", \"coffee\", \"auxiliary\", \"booster_club\", \"music\", \"book\", \"art\", \"recreational\", \"charity\", \"equipment\", \"post\", \"city\", \"chattanooga\", \"donate\", \"supply\", \"donation\", \"support\", \"youth\", \"team\", \"event\", \"activity\", \"raise\", \"fund\", \"program\", \"club\", \"organization\", \"provide\", \"expense\", \"nashville\", \"community\", \"student\", \"college\", \"academy\", \"teacher\", \"elementary\", \"grade\", \"schools\", \"school\", \"energy\", \"th_grade\", \"summer_camp\", \"math\", \"degree\", \"kindergarten\", \"maryville\", \"thru\", \"subject\", \"stem\", \"whole\", \"scholar\", \"parent_teacher\", \"field_trips\", \"liberal_arts\", \"syndrome\", \"college_preparatory\", \"tutoring\", \"prep\", \"bristol\", \"florida\", \"tutor\", \"academic\", \"prepare\", \"high\", \"graduate\", \"university\", \"scholarship\", \"learning\", \"charter\", \"achievement\", \"education\", \"instruction\", \"career\", \"educational\", \"campus\", \"success\", \"learn\", \"institution\", \"attend\", \"parent\", \"provide\", \"middle\", \"christian\", \"support\", \"program\", \"year\", \"child\", \"ministry\", \"church\", \"gospel\", \"ministries\", \"jesus_christ\", \"christ\", \"recovery\", \"bible\", \"retreat\", \"missionary\", \"spread\", \"biblical\", \"africa\", \"preach\", \"word\", \"disciple\", \"orphan\", \"sexual\", \"jesus\", \"prison\", \"pastor\", \"childcare\", \"catholic\", \"discipleship\", \"spiritual\", \"prayer\", \"symphony\", \"television\", \"veterans\", \"message\", \"christian\", \"addiction\", \"woman\", \"world\", \"international\", \"religious\", \"oak_ridge\", \"love\", \"mission\", \"hope\", \"training\", \"teaching\", \"alcohol\", \"teach\", \"outreach\", \"drug\", \"counseling\", \"group\", \"support\", \"provide\", \"people\", \"animal\", \"rescue\", \"park\", \"land\", \"united_way\", \"river\", \"natural\", \"conservation\", \"williamson\", \"wildlife\", \"adoption\", \"knox\", \"blount\", \"dog\", \"enhancement\", \"sanctuary\", \"credit\", \"conserve\", \"tree\", \"disaster\", \"beautification\", \"prosperity\", \"abandon\", \"parks\", \"cat\", \"stability\", \"riverfront\", \"sumner\", \"great_smoky\", \"roane\", \"county\", \"mountain\", \"authority\", \"water\", \"emergency\", \"restoration\", \"preservation\", \"shelter\", \"public\", \"tennessee\", \"friend\", \"agency\", \"preserve\", \"protect\", \"area\", \"cumberland\", \"education\", \"resident\", \"resource\", \"legal\", \"labor\", \"victim\", \"agreement\", \"lodge\", \"court\", \"horse\", \"blood\", \"domestic_violence\", \"substance_abuse\", \"indigent\", \"metropolitan\", \"violence\", \"shall\", \"law\", \"coordinator\", \"illness\", \"tennesseans\", \"cure\", \"survivor\", \"date\", \"mississippi\", \"prevention\", \"girls\", \"consultation\", \"division\", \"underserve\", \"located\", \"mobilize\", \"firefighter\", \"abuse\", \"fair\", \"case\", \"advocacy\", \"cancer\", \"safety\", \"treatment\", \"campaign\", \"justice\", \"affect\", \"awareness\", \"mid_south\", \"education\", \"research\", \"national\", \"tennessee\", \"free\", \"issue\", \"provide\", \"foundation\", \"habitat\", \"theatre\", \"dance\", \"rebuild\", \"nbsp\", \"humanity\", \"christ_centered\", \"sports\", \"soul\", \"anderson\", \"martin\", \"entertain\", \"residence\", \"contemporary\", \"john\", \"homeowner\", \"black\", \"ballet\", \"adolescent\", \"sorority\", \"pastoral\", \"white\", \"road\", \"lawrence\", \"financing\", \"brown\", \"warren\", \"claim\", \"ranch\", \"west\", \"diverse\", \"lease\", \"house\", \"family\", \"charitable\", \"entity\", \"children\", \"build\", \"legacy\", \"hope\"], \"Freq\": [2839.0, 2990.0, 2832.0, 2523.0, 2395.0, 1984.0, 2579.0, 4936.0, 9789.0, 3103.0, 3801.0, 1711.0, 2234.0, 1268.0, 1208.0, 1407.0, 1000.0, 1277.0, 2986.0, 5325.0, 2270.0, 1277.0, 780.0, 859.0, 1430.0, 828.0, 4719.0, 3685.0, 1797.0, 1493.0, 448.38900504435634, 357.2357321130381, 201.77987512066306, 172.98566599633466, 149.69182480766753, 147.9158510277979, 144.29587658407493, 142.81937563603842, 135.04211896387594, 133.61387479280032, 127.22663191793289, 125.18580655179831, 111.61681315982482, 111.11102635127196, 95.20860435523909, 95.12548132661732, 92.63152661524904, 91.81525112400053, 88.75893204327619, 84.73754338651274, 84.46662318779651, 84.24453458802803, 80.01996991719432, 78.49175854862023, 77.30085931824253, 74.4678774260286, 73.07286456211028, 70.26641871440364, 68.62025575879196, 68.59678700209967, 265.36246166161163, 110.28066300969019, 2430.8593854059413, 1368.087938201945, 160.06444044366384, 230.08224393710296, 415.7134093986498, 1076.659146406084, 177.45753604786782, 141.62794870023018, 138.78176003728578, 3297.8332712560014, 960.6274271112908, 239.02044313314855, 239.67807717934014, 325.56831769238374, 918.0797444304578, 479.46463551790185, 2439.5573278581096, 826.1061911006057, 679.8896457922685, 500.31548326249316, 368.0943267573194, 385.1296757728603, 424.9686087854715, 457.4084331834605, 310.6604508133216, 223.58093187943692, 768.2343950357474, 827.6381953519618, 346.6593091011171, 572.6854960193322, 430.4373332419227, 872.5372580448038, 545.9429302224645, 755.4253257336894, 438.12928067725113, 573.5196098387953, 898.7869846627895, 442.31417320768156, 521.8341045361915, 482.6225755872507, 421.4847352262723, 282.1085018613514, 198.81326708751047, 153.35559290886385, 145.83015617956312, 141.8008891448659, 121.75844957265316, 117.68658999898905, 109.663686226615, 108.28450383926811, 105.20759441228564, 104.52408213113065, 103.42200018536201, 103.32834317518648, 92.51327523209457, 90.88344410440567, 90.48456465576992, 88.21444817702762, 87.77597950948032, 87.52849469454422, 86.6133091952152, 86.42896637384938, 84.79822782592984, 88.25095377320854, 81.78337630640142, 80.54104573826154, 79.6687980794031, 75.7347218359792, 74.81886982444537, 73.95262077543012, 73.88976787149083, 148.7738434682611, 788.6007947300977, 310.4887200259667, 156.08573932346533, 640.4221868120596, 381.5702069798116, 174.17831751620784, 207.3236000685482, 204.69379987697283, 218.84520306979698, 325.06227438272185, 168.93354100691326, 335.1201844611623, 320.69830579747025, 367.9878767256052, 133.78143035726126, 918.6118538777547, 210.35899301241247, 275.9965046406707, 295.30656775382243, 251.08804415737472, 236.75859387292647, 1051.6045192373754, 489.8048830090703, 766.8206534464965, 264.1832905044211, 462.47874988121066, 851.1515678839196, 391.019840353564, 214.65822158085578, 368.0883835539818, 751.5400179733925, 616.829517784247, 372.092114337941, 428.66390362241094, 568.8659504419774, 414.0307646806002, 336.62608447009626, 359.849971491967, 322.4234321099103, 580.0641263882806, 397.2224511130272, 348.0346855466953, 336.39002672585207, 359.150663674585, 1710.9637327256755, 713.5079336052452, 467.88558067337505, 430.01709374172515, 338.8606302016938, 219.1999882063356, 207.4201695497019, 175.7626892482375, 137.81948317644952, 126.25005512256755, 102.92764144596927, 228.51277912580764, 86.7030206314346, 85.88699514174073, 79.99174956603474, 91.06800093561093, 72.94302215589491, 67.0426855432925, 65.61631362218927, 64.58620769566278, 64.39250308310599, 59.82297635958771, 59.79652865644459, 58.40421180210379, 57.87557300987498, 57.37967565676903, 57.04819777737532, 56.34832616274377, 56.127735971164, 54.700727670448714, 187.62969775006752, 323.67775697374464, 100.99576809412865, 262.3911308598156, 546.5965140991148, 156.1888550805741, 102.47374514725881, 1225.3646598327448, 186.89092524226984, 261.7166852379408, 268.13872468883517, 374.3806545077561, 985.2131631738273, 1144.4537912798637, 567.5698579622386, 559.7045796113491, 2344.9340232440186, 4006.8593939670104, 1217.2448763437947, 176.28474238723334, 323.1124183444391, 309.0201012678164, 432.92701833549535, 405.8550326313012, 478.8695161307881, 725.7505228450876, 309.2130936022753, 576.1986984340706, 509.52199538950424, 448.60208740577946, 365.1063499589506, 443.6493492272491, 397.79834997581037, 318.79498552246974, 332.11070929196563, 320.63502170644256, 231.5802288609629, 211.03705918746462, 205.40336104900427, 189.8340991457843, 185.3243033816736, 173.76325138380872, 141.95641623729787, 138.1102706113383, 135.89458762369475, 128.19442944205332, 117.16897349560753, 114.83730395979883, 111.73859035234638, 101.98860874939555, 97.6709632043442, 88.76669497025979, 85.59717899530695, 85.50868985372374, 84.21820938784285, 82.44170189728237, 65.91905378203593, 62.082806301259694, 57.91594971712608, 57.72920686076807, 56.03947510555153, 55.73352154950287, 276.55450804955126, 53.11540918030564, 52.85024574698553, 50.55023277322666, 100.92911571066429, 292.88076388351686, 1107.6293630751238, 222.24957119355946, 271.5431816978539, 505.128187977384, 513.2310150489782, 124.48088856240756, 545.856149064527, 640.5849634594979, 1286.0473496519076, 1822.8008530449158, 1086.8625109806467, 851.4158796102824, 211.34143751519653, 523.2853934033839, 559.8585101737912, 552.5122348635906, 744.4087592572183, 236.18980750885765, 494.9071117772475, 258.25860883678513, 789.6926491108715, 653.3710272235526, 346.7115109568585, 322.14764009380906, 416.3956690132947, 273.2821969121034, 534.555332154079, 239.882087412158, 294.70209629214355, 259.63215265782486, 251.35853767399328, 243.79143561987925, 858.7678808939793, 563.9684015722052, 389.2519558029396, 199.97595709511148, 151.76614092375323, 145.62294369695124, 140.72795559935565, 137.87015213393641, 2504.621420226807, 123.91561912974196, 118.7053732075274, 108.20907653624259, 96.20258098525754, 87.46754234886762, 87.01067994571532, 81.219139831216, 76.09352157730389, 73.52187947546913, 65.17626863019395, 64.95537332420264, 60.26861374261933, 56.32553322304108, 55.363525991147135, 53.38764186684787, 52.078453121777216, 51.48855902354935, 51.46042861636396, 47.30219844672888, 45.14181830412199, 43.54831248008779, 1236.3943581885026, 245.7368605371943, 2494.2888865719924, 262.1792591832077, 142.26725094009035, 111.09203117984416, 153.33017534976958, 734.6891135093077, 242.89606772626422, 247.72679635384364, 1043.4969411147285, 142.14523090776987, 360.10328732690874, 975.4909656481941, 241.6348742928767, 309.7605863917247, 176.89098569416365, 405.4192655487155, 320.3234326886539, 246.6826204998085, 195.5040195159509, 162.62083006179884, 158.80701160059837, 162.85454753705955, 464.23457773986337, 338.1295107238652, 322.19156293243555, 259.4634221635715, 170.92082254374353, 164.34917610327847, 139.61264098122484, 124.75857997685654, 108.82515793274864, 94.05837495579969, 74.19039172759669, 72.48972041576874, 71.31382791773403, 71.19590903672798, 70.1828127776565, 66.76212585081552, 65.86424015151813, 63.73310612493875, 63.062125479028836, 59.82160130712074, 59.75037721016171, 59.25844866990754, 57.51350580881904, 57.24251332450038, 51.72059675134927, 50.56021770738869, 49.66270915370144, 49.61900480768135, 118.9606819065911, 48.01920955279141, 303.1483347909668, 192.44170134695506, 1058.8922130703704, 620.4498336815209, 140.09159808821028, 608.6870719127619, 125.61281775349283, 486.0794216525418, 128.56462656705577, 376.7757342424759, 616.0249119326216, 182.74224084865725, 216.7653125099544, 739.4492398302879, 123.50554189881842, 847.2088752945039, 1453.2212186614925, 196.39518514386802, 889.9406726630937, 193.7151349844459, 294.6322562491982, 195.1361840076789, 247.04370243843897, 161.60319970334228, 167.8142593046999, 154.71472719314892, 142.61706012257824, 316.1683866857411, 299.4373039372528, 274.87055447807165, 244.3113683932995, 206.3166383060866, 185.3307456003769, 174.39171304687284, 145.8288912893638, 132.87843640161532, 119.67199539518494, 116.60116042019303, 105.75327698990415, 99.97090943009525, 93.61637243462037, 93.50790137893327, 92.40269939390346, 88.60222445302914, 87.57714221061912, 87.47207284810511, 70.5408823059935, 70.31033342192688, 70.10407239491875, 69.85676465728429, 64.61044821416006, 63.151493358875946, 61.7267876328091, 59.731549463354106, 57.183826400127316, 54.05962083292802, 50.63986850033231, 701.4081416415057, 177.7647762699271, 250.30197065874938, 177.14909302534372, 213.55676490412557, 192.30678238746495, 100.088552286488, 290.3013313037348, 227.0257051687263, 132.90529004089652, 193.90361611006577, 173.41947895232622, 967.2412913189593, 478.5067746624946, 216.5529948267954, 319.9975089914777, 422.67651448359385, 176.87377646593413, 347.9055106181011, 559.5832638044985, 238.85714232101495, 314.6969047760755, 412.2860949307789, 169.74106442501994, 189.99770609563666, 224.72409402607994, 1982.8646804928098, 685.7351497685796, 347.52605265991434, 306.47898978688806, 193.14263075827387, 192.965868598117, 144.20467778157453, 2967.7922216016686, 102.51545428077662, 77.3996376922176, 73.94402611423428, 67.35328385641598, 63.19427050330019, 62.01479159363369, 61.27375255471767, 60.68409873070406, 60.087523921621035, 59.30087387848125, 56.68717948205221, 55.536910756095665, 53.5020404035498, 50.01744027456617, 49.29436355934556, 48.955663445042894, 48.44814972548837, 47.00385498754397, 45.71713606905095, 45.2733014566634, 44.943300426214336, 43.869928176290934, 324.60107036910057, 266.6957773664049, 1002.1737896678343, 121.27505127807227, 367.4915330819666, 407.5310133600851, 241.87101993378872, 111.81513255488737, 83.56584249470866, 984.5759107407913, 138.41671942073685, 138.74362766746495, 493.5790666462253, 90.20118833534325, 136.64778817133825, 217.55053736090196, 109.23820903983143, 119.52268203661266, 149.20305954008367, 597.2932617339794, 159.39351997111862, 194.50341529864502, 229.26781545447525, 184.25570310902282, 135.9104060721314, 151.05109351839783, 999.2024267241383, 779.7578460092232, 376.05841901894365, 361.63373229615223, 344.9344131067674, 268.45673891387287, 255.93363211117847, 211.11343196609246, 155.40554328019405, 147.56509046034847, 143.78454520254908, 102.1674611222648, 91.51274328910455, 91.49679507698744, 89.88046007057636, 89.42817722898467, 104.53663804235863, 83.70574560886848, 83.45204486735453, 80.26267543928105, 78.05346498694387, 73.99194587171297, 71.73423031040778, 68.08670864075583, 355.2709328458208, 64.91497383154736, 64.68870912252972, 63.72880464037121, 63.598678325435564, 63.34776037521316, 1012.650212802769, 139.1649179199334, 531.7962064442256, 303.1626727585645, 234.98453269190813, 150.67009551951972, 94.5810965212016, 169.86860786516456, 439.61455410156435, 184.25428267206487, 259.41168091054453, 111.65420798641345, 109.92809362481086, 148.298082970325, 160.8857223508185, 123.89858653857301, 145.043872743898, 148.73635498614183, 185.43804333976558, 186.71340715624714, 123.85459025600146, 376.18649384127144, 347.2650396140659, 247.33168441200115, 168.92303734648445, 138.0975300636032, 135.39665006926023, 127.83212610445153, 124.85480695305978, 116.51979899583475, 113.10082430750474, 109.21239512872098, 87.10774446896649, 84.34216652218868, 79.34332284011774, 69.38760353722398, 68.39598170071736, 67.76439136426278, 66.82916284616314, 64.31068146558718, 62.36712073130951, 61.97700515522946, 61.393166464435296, 57.59595344447097, 56.82749168436664, 56.734266774783976, 54.990499222543576, 52.78593233414476, 51.570442639926654, 50.76018133793352, 50.127141734988676, 1563.698846690901, 107.0890714234563, 72.04348886262518, 118.3298856567468, 181.92884920090404, 89.86728268190585, 95.77062369170858, 135.99501512882884, 259.97497742062495, 313.6168465439163, 91.71171358824984, 113.04236831213952, 97.82625654071663, 92.62295169035492, 119.76037234960114, 73.65954233320195, 95.42628471439757, 78.80604267791992, 79.67018973025316, 292.453013626406, 227.1174325730203, 200.9727497470425, 178.73906662591548, 132.23236906438424, 133.94702906618306, 123.87769950242435, 114.19649833338472, 112.83065155175574, 105.78982906272981, 103.56060820290051, 93.92693963039518, 82.13288042561527, 78.7041281294681, 78.20914457685058, 69.10978620034945, 66.39111550193998, 65.48249112584462, 60.67958287538439, 54.95412708024572, 54.68346251800439, 52.8969559844191, 253.22025414254972, 51.128707839947715, 48.38703638816642, 46.57310786439812, 45.70194644561468, 45.225929482819474, 44.20297226685192, 42.20308801375393, 209.464575135267, 141.03447237917132, 66.25754368735761, 214.91325921225786, 168.029225431985, 185.67306836355516, 223.5914073326083, 80.52469137566253, 99.33358468395824, 95.21981019975547, 168.66755798305397, 94.56932068106039, 252.7031472026202, 145.05686890152418, 119.66822330467824, 170.2726217748198, 94.4982310925412, 93.20144964963328, 104.69601163499074, 2836.041558209392, 164.2184117369182, 115.1615083198524, 93.74117557316367, 86.98334855090823, 86.75767176291862, 85.05446684748048, 74.28847829459478, 68.170369092703, 67.9784562603516, 60.24209458482291, 57.88865596260196, 49.17595079260369, 49.04705786603591, 48.294489082888894, 47.943208201335096, 44.98843264938229, 43.88714282794925, 42.99834932491432, 40.4393733035551, 40.42816194416958, 37.2654693024466, 36.92221987677548, 36.35509099987723, 34.75714968853516, 32.25318934945205, 31.130293780503653, 30.593598130278195, 29.922835402199034, 29.35088011049805, 167.44594256916818, 102.62213911546452, 85.25961461417374, 210.9328281361852, 412.8763916687409, 206.65995953952518, 60.52460324503394, 54.858689727954136, 61.43701769134821, 41.249921908277656, 42.27278248916628], \"Total\": [2839.0, 2990.0, 2832.0, 2523.0, 2395.0, 1984.0, 2579.0, 4936.0, 9789.0, 3103.0, 3801.0, 1711.0, 2234.0, 1268.0, 1208.0, 1407.0, 1000.0, 1277.0, 2986.0, 5325.0, 2270.0, 1277.0, 780.0, 859.0, 1430.0, 828.0, 4719.0, 3685.0, 1797.0, 1493.0, 449.3852953510965, 358.2316777110053, 202.7758377859601, 173.98163396914134, 150.6877763802711, 148.91182528402413, 145.29185222794072, 143.8153524875383, 136.0381028987351, 134.6102063905433, 128.22263918620436, 126.2007162005009, 112.61279423760135, 112.10697054308585, 96.20455306438402, 96.1214321710839, 93.62753602180604, 92.81120213987397, 89.75706218478264, 85.73355064067074, 85.46256999770985, 85.24048749835744, 81.01593428483048, 79.48773145859445, 78.29681964779373, 75.46389380252462, 74.06881557125811, 71.27277145860539, 69.61620488998597, 69.59276430928092, 272.0505232151677, 114.13463009315316, 2986.932573575308, 1678.3758003444602, 170.82774333032452, 256.2731874710893, 492.62306743562726, 1450.0479331829117, 196.22128261640455, 152.59859962858008, 149.2367351840928, 5325.959277634955, 1363.1288580679718, 279.7291933812854, 282.10480769231464, 410.98561522216596, 1430.0968263048703, 663.1339092387415, 4719.974175248409, 1283.2809589207586, 1019.6682095116776, 703.1392952830722, 488.92380371722777, 524.3455356686774, 596.5030895141232, 670.8831713359039, 414.01994671871614, 266.86382686910736, 1567.591312102868, 1750.810181777149, 517.1156491290052, 1140.4499942963816, 777.9298292445918, 2579.992941939676, 1167.1102196023737, 2172.824916022804, 964.726231575363, 1797.7708038515161, 9789.082235980084, 1679.7573542876212, 3813.8061770703516, 3103.4784823611453, 1434.6923471986092, 283.10271524019686, 199.80753460470117, 154.34982109017494, 146.82442371527856, 142.79511228428825, 122.7526626798051, 118.6808616471708, 110.65792023049201, 109.2787272926321, 106.20361686923155, 105.5182975928514, 104.41624071423563, 104.32255626470321, 93.5075481007356, 91.87766932367047, 91.47876997566215, 89.20867715725412, 88.77022315017825, 88.52273067286217, 87.60753156536512, 87.42318085729775, 85.79245181972222, 89.29702165822228, 82.77761870780087, 81.5352447201382, 80.66301532801796, 76.7289446549252, 75.81311536051308, 74.94683690666918, 74.88400576781999, 154.77267547368098, 890.4313468810794, 335.8766530898238, 165.36276481035313, 786.5294595562987, 445.7849066026813, 188.9948220157556, 229.78813769356032, 233.77266362322106, 253.33060275471485, 400.3620330688567, 195.35633635938328, 459.1273962661258, 440.7752449029462, 525.6990331356651, 149.87729399282986, 1855.9211329710545, 273.2166480198432, 395.6559776920856, 457.38956281371196, 364.1401844608806, 338.81453051722093, 3103.4784823611453, 1018.7277636255611, 2270.8439097879577, 429.85995933889257, 1085.2630370403526, 3801.504893773425, 987.2839079077255, 310.42337748127693, 964.726231575363, 4719.974175248409, 3685.343911589176, 1126.6049965292475, 1679.7573542876212, 3813.8061770703516, 1597.261216195331, 977.3178605481621, 1283.2809589207586, 963.9179439674449, 9789.082235980084, 2234.988215302142, 1926.632044234459, 2172.824916022804, 4936.742163022245, 1711.9585950418393, 714.5028040066851, 468.8804508075043, 431.0119513502541, 339.8554995704754, 220.19485390008643, 208.41504476790087, 176.75755032860408, 138.81435868304123, 127.24494936232712, 103.92320055234299, 230.7255398541618, 87.69790642017274, 86.88185311607808, 80.98664313180885, 92.22792228052242, 73.93789071184442, 68.03758342092455, 66.61123839660311, 65.58108712679928, 65.38740024638608, 60.81785555899201, 60.791403508392676, 59.399181373716026, 58.87815384049786, 58.374559995645114, 58.04307202381506, 57.34319790437168, 57.12268317136301, 55.69558639926111, 194.5054028841922, 343.7911437075287, 104.14435321570463, 281.7702560540938, 618.4870001215234, 167.00324009821736, 107.32456005630345, 1493.2864687238534, 202.15802693892408, 297.5151976492255, 306.4342288576821, 445.4585096177849, 1326.2901101746245, 1672.765529558898, 779.371739079597, 803.9102168618459, 4936.742163022245, 9789.082235980084, 2579.992941939676, 219.92571218397475, 509.1110262566487, 499.8641019088385, 828.8632940720898, 889.0250612040763, 1567.591312102868, 3685.343911589176, 681.6282314048099, 3813.8061770703516, 4719.974175248409, 3801.504893773425, 1797.7708038515161, 5325.959277634955, 2986.932573575308, 1019.6682095116776, 2832.2995206341857, 1750.810181777149, 232.58360716045982, 212.04047201657812, 206.40676347458583, 190.83747421794808, 186.32768025051354, 174.7666353136485, 142.95980168314887, 139.11368177230412, 136.89799006599108, 129.19781549281566, 118.17241979576521, 115.84082598227563, 112.74200170690538, 102.99206539158699, 98.67437320851958, 89.77008387394469, 86.60056562461334, 86.51210689984784, 85.22158503259647, 83.4451272469171, 66.92243673402271, 63.08620731471194, 58.91939111531741, 58.73265467715849, 57.0445620805642, 56.73690769915872, 281.61835925230025, 54.118850776416856, 53.85371999984811, 51.55368742770752, 103.79077583072069, 318.8998697145836, 1277.4421755192354, 242.69053780868455, 305.6211073822038, 624.4413347655751, 638.9335955898999, 135.79686582575374, 785.6224998018362, 963.9179439674449, 2270.8439097879577, 3801.504893773425, 2234.988215302142, 1926.632044234459, 304.51424712030223, 1167.1102196023737, 1434.6923471986092, 1447.1197213801884, 2395.5097826058213, 376.08568189399944, 1514.4409997457203, 535.4966070293639, 5325.959277634955, 3685.343911589176, 1018.7277636255611, 921.5077308851185, 1855.9211329710545, 718.5218722569438, 9789.082235980084, 460.96294829144404, 1597.261216195331, 1140.4499942963816, 3813.8061770703516, 1336.4282022559378, 859.765276763301, 564.9649164849333, 390.24846782806964, 200.9725061717206, 152.76268688756196, 146.61945180495417, 141.72446370886183, 138.86667556110862, 2523.5477517299128, 124.91213946907527, 119.70194073041002, 109.20558402140288, 97.19909876301209, 88.4640588178786, 88.00719053703473, 82.2156606473576, 77.09006472146804, 74.51840583017886, 66.17278818480199, 65.95189958379488, 61.265123560830766, 57.32205791396732, 56.36003340569661, 54.38416515518506, 53.07495877661332, 52.485149273602296, 52.45701719806973, 48.29890611050084, 46.138359014804756, 44.544913821916325, 1268.556671073135, 256.4771370146197, 2832.2995206341857, 282.2214406659756, 157.18991096379472, 120.98146960626462, 206.65158923239215, 1797.7708038515161, 421.41333368912836, 472.2270912784414, 4936.742163022245, 225.9160094975179, 1209.054801823246, 9789.082235980084, 876.0206765168671, 1750.810181777149, 464.45074884817745, 5325.959277634955, 3813.8061770703516, 1679.7573542876212, 2172.824916022804, 889.0250612040763, 1567.591312102868, 3103.4784823611453, 465.233671082596, 339.12858698837556, 323.1910521601072, 260.4625143548785, 171.91990696725836, 165.3482757697025, 140.6117506837475, 125.75765936909322, 109.8242669112909, 95.05745992943237, 75.18949318762917, 73.48891090479133, 72.31292637239844, 72.19536257909087, 71.18189355886848, 67.7612332303877, 66.86332437035354, 64.73220680941162, 64.06122828981162, 60.820683838626024, 60.749525728634815, 60.257645515809095, 58.51262797473155, 58.241622285603185, 52.719737592626345, 51.55942679924517, 50.66189740737441, 50.618126845480575, 121.36704104372339, 49.018308934813774, 319.55954532302394, 215.9142786667602, 1407.7095702573863, 828.0224236856238, 159.25791917295672, 1019.3977156827051, 152.87714919566426, 828.2165972897274, 159.1368155096671, 623.7389808387317, 1336.4282022559378, 289.9739599750141, 375.3805139088005, 2234.988215302142, 171.67605579468628, 3685.343911589176, 9789.082235980084, 377.1007928448141, 4936.742163022245, 489.9243118294592, 1434.6923471986092, 620.4786796149489, 1326.2901101746245, 502.31392532193456, 738.8713664635923, 579.2694600270543, 3813.8061770703516, 317.1621517644715, 300.43118123227686, 275.8646992762507, 245.3051383195012, 207.31040235934228, 186.32456688651402, 175.38546896134972, 146.82265125272988, 133.87219191886092, 120.66576734603946, 117.5949207657627, 106.74705949788374, 100.9646754390592, 94.61013976490196, 94.50168822256562, 93.39648727415316, 89.59599303862302, 88.57092331010223, 88.46584789802358, 71.53466475318564, 71.30413671117928, 71.09783650989871, 70.85056416157694, 65.6042056147856, 64.14528833962036, 62.720553155789844, 60.740546138751455, 58.177603446696295, 55.05340290758812, 51.6336223194177, 729.9784239648346, 207.31065170368115, 325.84074647334387, 226.76150379055608, 287.71805104700024, 257.5469666169982, 120.73084331284947, 546.5693807653473, 397.84182437035605, 182.05757631581704, 322.75646080452333, 276.14690482200507, 3813.8061770703516, 1430.0968263048703, 402.4171535195248, 830.8238104550248, 1514.4409997457203, 314.5582334416688, 1407.7095702573863, 4719.974175248409, 785.6224998018362, 3685.343911589176, 9789.082235980084, 489.9243118294592, 1126.6049965292475, 5325.959277634955, 1984.1553444687556, 686.7345589281235, 348.5254525889566, 307.47839205531915, 194.1420304594491, 193.9652665295048, 145.20408999394118, 2990.095443107601, 103.51490613404299, 78.39905223550788, 74.94344967386851, 68.35269306843372, 64.19367863528892, 63.01418439764312, 62.273175608652636, 61.683531875116174, 61.08699860934884, 60.30030646885153, 57.68664702157277, 56.53631002811425, 54.50143066965451, 51.016909819777666, 50.29375933332024, 49.95515857198839, 49.44754016193654, 48.00325343793116, 46.716549051841255, 46.27271698120121, 45.94275612712646, 44.86932953024753, 348.46542521652646, 299.12782297934586, 1277.2075523781425, 133.13540624900332, 447.0122629129846, 579.2694600270543, 323.0059691730157, 132.09473958750277, 101.43898568942217, 3103.4784823611453, 210.34278060782867, 211.82148548562708, 1597.261216195331, 117.92725401437404, 235.38745714651387, 580.6080747783121, 183.00614140054589, 239.08394887409705, 388.97889569042593, 9789.082235980084, 563.5364451581366, 1208.056607562455, 3813.8061770703516, 4719.974175248409, 1049.8395732110002, 2986.932573575308, 1000.1940557780083, 780.7494845884438, 377.05004000834697, 362.6253582420842, 345.92603538574053, 269.44838074963485, 256.925286409379, 212.10505850134356, 156.39718204283952, 148.55671263223903, 144.77618266599708, 103.15908460151817, 92.50438310005337, 92.4884214448595, 90.87209402100551, 90.41980062075505, 105.6962195421128, 84.69740286021714, 84.44366863729186, 81.25430618363222, 79.04508653769196, 74.9836183545508, 72.72586367348332, 69.07833275178731, 360.5642361696663, 65.9066002610528, 65.68035094658262, 64.72044612986899, 64.59034280842245, 64.3394093834991, 1208.056607562455, 158.52834173236394, 762.2916867815906, 543.6729036266588, 471.9193995719568, 252.2065898107798, 117.6160343358304, 342.82570374898654, 2172.824916022804, 420.699378207466, 1085.2630370403526, 169.9336595464232, 167.5521468224727, 381.0754651420582, 517.1156491290052, 272.97011030624793, 499.8641019088385, 790.3377339838095, 3813.8061770703516, 9789.082235980084, 1450.0479331829117, 377.1844967402876, 348.263049099815, 248.32969335082447, 169.9210647607202, 139.095542095638, 136.3946750905915, 128.83013654525934, 125.85281109464304, 117.51781308449034, 114.09882797651738, 110.21041091613903, 88.1057591959008, 85.34018120673723, 80.34132405164574, 70.38566370643704, 69.39399581091695, 68.76247914367987, 67.82717344724168, 65.30870651071989, 63.365151137691306, 62.97504561148973, 62.391198104168375, 58.59396308412521, 57.825501893156805, 57.73226995964267, 55.98852089194058, 53.783955082492454, 52.56845705184341, 51.75820878705146, 51.12515738827411, 2395.5097826058213, 134.506968991658, 81.15294898974152, 163.63111642554438, 416.675235950508, 132.65156533573483, 158.51832430573836, 326.6847428491677, 1855.9211329710545, 3801.504893773425, 177.79315936327274, 476.6854438287391, 288.6804220468805, 329.84018126713966, 1447.1197213801884, 123.29264771416392, 3103.4784823611453, 509.1110262566487, 964.726231575363, 293.4532321850811, 228.11763320789547, 201.97294195941856, 179.7393268057996, 133.23258227766485, 135.00956738484902, 124.87789006463876, 115.19670549115847, 113.83083878168101, 106.79003461636078, 104.56081348222023, 94.927181425618, 83.1330822089434, 79.70434380911449, 79.20937634982387, 70.11002733133581, 67.39134663337809, 66.48309047272073, 61.67977261773168, 55.95432375988194, 55.683722314634885, 53.897188879885164, 258.09418458509515, 52.128962788951426, 49.387256485054905, 47.57334343427213, 46.70220544710161, 46.22616206645636, 45.203183596596034, 43.20330968316766, 236.22229471350533, 160.4603393652421, 70.38224871373285, 354.4030333486369, 268.7461249213006, 314.9503906070368, 472.2270912784414, 104.15338365120941, 157.96099694608188, 148.5343029828717, 436.8097963732116, 178.67911004287873, 3103.4784823611453, 786.5294595562987, 678.6800753077417, 3801.504893773425, 434.89152810244127, 489.5298102244216, 9789.082235980084, 2839.166465258663, 165.2199816105935, 116.16306541697817, 94.7427371288689, 87.98495449712273, 87.75922292074429, 86.05602518628334, 75.29005150794289, 69.17194982484413, 68.98004894488585, 61.24366690045046, 58.890225011206056, 50.177526650105996, 50.04867218304022, 49.296069375781244, 48.94477961666862, 45.98999670251751, 44.88872228669886, 43.99991101604106, 41.44097961092969, 41.429713690205865, 38.267074516718445, 37.923793593335574, 37.3566790512032, 35.758716112353746, 33.254837092648685, 32.13186076622851, 31.595161792990407, 30.924424240862894, 30.352452271766133, 186.3579993162747, 134.2187657650661, 109.99011287874407, 550.320172205573, 2579.992941939676, 828.0224236856238, 190.47144158279505, 164.30140282007355, 663.1339092387415, 108.60593243327139, 420.699378207466], \"Category\": [\"Default\", \"Default\", \"Default\", \"Default\", \"Default\", \"Default\", \"Default\", \"Default\", \"Default\", \"Default\", \"Default\", \"Default\", \"Default\", \"Default\", \"Default\", \"Default\", \"Default\", \"Default\", \"Default\", \"Default\", \"Default\", \"Default\", \"Default\", \"Default\", \"Default\", \"Default\", \"Default\", \"Default\", \"Default\", \"Default\", \"Topic1\", \"Topic1\", \"Topic1\", \"Topic1\", \"Topic1\", \"Topic1\", \"Topic1\", \"Topic1\", \"Topic1\", \"Topic1\", \"Topic1\", \"Topic1\", \"Topic1\", \"Topic1\", \"Topic1\", \"Topic1\", \"Topic1\", \"Topic1\", \"Topic1\", \"Topic1\", \"Topic1\", \"Topic1\", \"Topic1\", \"Topic1\", \"Topic1\", \"Topic1\", \"Topic1\", \"Topic1\", \"Topic1\", \"Topic1\", \"Topic1\", \"Topic1\", \"Topic1\", \"Topic1\", \"Topic1\", \"Topic1\", \"Topic1\", \"Topic1\", \"Topic1\", \"Topic1\", \"Topic1\", \"Topic1\", \"Topic1\", \"Topic1\", \"Topic1\", \"Topic1\", \"Topic1\", \"Topic1\", \"Topic1\", \"Topic1\", \"Topic1\", \"Topic1\", \"Topic1\", \"Topic1\", \"Topic1\", \"Topic1\", \"Topic1\", \"Topic1\", \"Topic1\", \"Topic1\", \"Topic1\", \"Topic1\", \"Topic1\", \"Topic1\", \"Topic1\", \"Topic1\", \"Topic1\", \"Topic1\", \"Topic1\", \"Topic1\", \"Topic1\", \"Topic1\", \"Topic1\", \"Topic2\", \"Topic2\", \"Topic2\", \"Topic2\", \"Topic2\", \"Topic2\", \"Topic2\", \"Topic2\", \"Topic2\", \"Topic2\", \"Topic2\", \"Topic2\", \"Topic2\", \"Topic2\", \"Topic2\", \"Topic2\", \"Topic2\", \"Topic2\", \"Topic2\", \"Topic2\", \"Topic2\", \"Topic2\", \"Topic2\", \"Topic2\", \"Topic2\", \"Topic2\", \"Topic2\", \"Topic2\", \"Topic2\", \"Topic2\", \"Topic2\", \"Topic2\", \"Topic2\", \"Topic2\", \"Topic2\", \"Topic2\", \"Topic2\", \"Topic2\", \"Topic2\", \"Topic2\", \"Topic2\", \"Topic2\", \"Topic2\", \"Topic2\", \"Topic2\", \"Topic2\", \"Topic2\", \"Topic2\", \"Topic2\", \"Topic2\", \"Topic2\", \"Topic2\", \"Topic2\", \"Topic2\", \"Topic2\", \"Topic2\", \"Topic2\", \"Topic2\", \"Topic2\", \"Topic2\", \"Topic2\", \"Topic2\", \"Topic2\", \"Topic2\", \"Topic2\", \"Topic2\", \"Topic2\", \"Topic2\", \"Topic2\", \"Topic2\", \"Topic2\", \"Topic2\", \"Topic2\", \"Topic2\", \"Topic2\", \"Topic3\", \"Topic3\", \"Topic3\", \"Topic3\", \"Topic3\", \"Topic3\", \"Topic3\", \"Topic3\", \"Topic3\", \"Topic3\", \"Topic3\", \"Topic3\", \"Topic3\", \"Topic3\", \"Topic3\", \"Topic3\", \"Topic3\", \"Topic3\", \"Topic3\", \"Topic3\", \"Topic3\", \"Topic3\", \"Topic3\", \"Topic3\", \"Topic3\", \"Topic3\", \"Topic3\", \"Topic3\", \"Topic3\", \"Topic3\", \"Topic3\", \"Topic3\", \"Topic3\", \"Topic3\", \"Topic3\", \"Topic3\", \"Topic3\", \"Topic3\", \"Topic3\", \"Topic3\", \"Topic3\", \"Topic3\", \"Topic3\", \"Topic3\", \"Topic3\", \"Topic3\", \"Topic3\", \"Topic3\", \"Topic3\", \"Topic3\", \"Topic3\", \"Topic3\", \"Topic3\", \"Topic3\", \"Topic3\", \"Topic3\", \"Topic3\", \"Topic3\", \"Topic3\", \"Topic3\", \"Topic3\", \"Topic3\", \"Topic3\", \"Topic3\", \"Topic3\", \"Topic3\", \"Topic4\", \"Topic4\", \"Topic4\", \"Topic4\", \"Topic4\", \"Topic4\", \"Topic4\", \"Topic4\", \"Topic4\", \"Topic4\", \"Topic4\", \"Topic4\", \"Topic4\", \"Topic4\", \"Topic4\", \"Topic4\", \"Topic4\", \"Topic4\", \"Topic4\", \"Topic4\", \"Topic4\", \"Topic4\", \"Topic4\", \"Topic4\", \"Topic4\", \"Topic4\", \"Topic4\", \"Topic4\", \"Topic4\", \"Topic4\", \"Topic4\", \"Topic4\", \"Topic4\", \"Topic4\", \"Topic4\", \"Topic4\", \"Topic4\", \"Topic4\", \"Topic4\", \"Topic4\", \"Topic4\", \"Topic4\", \"Topic4\", \"Topic4\", \"Topic4\", \"Topic4\", \"Topic4\", \"Topic4\", \"Topic4\", \"Topic4\", \"Topic4\", \"Topic4\", \"Topic4\", \"Topic4\", \"Topic4\", \"Topic4\", \"Topic4\", \"Topic4\", \"Topic4\", \"Topic4\", \"Topic4\", \"Topic4\", \"Topic4\", \"Topic4\", \"Topic5\", \"Topic5\", \"Topic5\", \"Topic5\", \"Topic5\", \"Topic5\", \"Topic5\", \"Topic5\", \"Topic5\", \"Topic5\", \"Topic5\", \"Topic5\", \"Topic5\", \"Topic5\", \"Topic5\", \"Topic5\", \"Topic5\", \"Topic5\", \"Topic5\", \"Topic5\", \"Topic5\", \"Topic5\", \"Topic5\", \"Topic5\", \"Topic5\", \"Topic5\", \"Topic5\", \"Topic5\", \"Topic5\", \"Topic5\", \"Topic5\", \"Topic5\", \"Topic5\", \"Topic5\", \"Topic5\", \"Topic5\", \"Topic5\", \"Topic5\", \"Topic5\", \"Topic5\", \"Topic5\", \"Topic5\", \"Topic5\", \"Topic5\", \"Topic5\", \"Topic5\", \"Topic5\", \"Topic5\", \"Topic5\", \"Topic5\", \"Topic5\", \"Topic5\", \"Topic5\", \"Topic5\", \"Topic6\", \"Topic6\", \"Topic6\", \"Topic6\", \"Topic6\", \"Topic6\", \"Topic6\", \"Topic6\", \"Topic6\", \"Topic6\", \"Topic6\", \"Topic6\", \"Topic6\", \"Topic6\", \"Topic6\", \"Topic6\", \"Topic6\", \"Topic6\", \"Topic6\", \"Topic6\", \"Topic6\", \"Topic6\", \"Topic6\", \"Topic6\", \"Topic6\", \"Topic6\", \"Topic6\", \"Topic6\", \"Topic6\", \"Topic6\", \"Topic6\", \"Topic6\", \"Topic6\", \"Topic6\", \"Topic6\", \"Topic6\", \"Topic6\", \"Topic6\", \"Topic6\", \"Topic6\", \"Topic6\", \"Topic6\", \"Topic6\", \"Topic6\", \"Topic6\", \"Topic6\", \"Topic6\", \"Topic6\", \"Topic6\", \"Topic6\", \"Topic6\", \"Topic6\", \"Topic6\", \"Topic6\", \"Topic6\", \"Topic6\", \"Topic6\", \"Topic7\", \"Topic7\", \"Topic7\", \"Topic7\", \"Topic7\", \"Topic7\", \"Topic7\", \"Topic7\", \"Topic7\", \"Topic7\", \"Topic7\", \"Topic7\", \"Topic7\", \"Topic7\", \"Topic7\", \"Topic7\", \"Topic7\", \"Topic7\", \"Topic7\", \"Topic7\", \"Topic7\", \"Topic7\", \"Topic7\", \"Topic7\", \"Topic7\", \"Topic7\", \"Topic7\", \"Topic7\", \"Topic7\", \"Topic7\", \"Topic7\", \"Topic7\", \"Topic7\", \"Topic7\", \"Topic7\", \"Topic7\", \"Topic7\", \"Topic7\", \"Topic7\", \"Topic7\", \"Topic7\", \"Topic7\", \"Topic7\", \"Topic7\", \"Topic7\", \"Topic7\", \"Topic7\", \"Topic7\", \"Topic7\", \"Topic7\", \"Topic7\", \"Topic7\", \"Topic7\", \"Topic7\", \"Topic7\", \"Topic7\", \"Topic8\", \"Topic8\", \"Topic8\", \"Topic8\", \"Topic8\", \"Topic8\", \"Topic8\", \"Topic8\", \"Topic8\", \"Topic8\", \"Topic8\", \"Topic8\", \"Topic8\", \"Topic8\", \"Topic8\", \"Topic8\", \"Topic8\", \"Topic8\", \"Topic8\", \"Topic8\", \"Topic8\", \"Topic8\", \"Topic8\", \"Topic8\", \"Topic8\", \"Topic8\", \"Topic8\", \"Topic8\", \"Topic8\", \"Topic8\", \"Topic8\", \"Topic8\", \"Topic8\", \"Topic8\", \"Topic8\", \"Topic8\", \"Topic8\", \"Topic8\", \"Topic8\", \"Topic8\", \"Topic8\", \"Topic8\", \"Topic8\", \"Topic8\", \"Topic8\", \"Topic8\", \"Topic8\", \"Topic8\", \"Topic8\", \"Topic8\", \"Topic8\", \"Topic8\", \"Topic8\", \"Topic8\", \"Topic8\", \"Topic8\", \"Topic9\", \"Topic9\", \"Topic9\", \"Topic9\", \"Topic9\", \"Topic9\", \"Topic9\", \"Topic9\", \"Topic9\", \"Topic9\", \"Topic9\", \"Topic9\", \"Topic9\", \"Topic9\", \"Topic9\", \"Topic9\", \"Topic9\", \"Topic9\", \"Topic9\", \"Topic9\", \"Topic9\", \"Topic9\", \"Topic9\", \"Topic9\", \"Topic9\", \"Topic9\", \"Topic9\", \"Topic9\", \"Topic9\", \"Topic9\", \"Topic9\", \"Topic9\", \"Topic9\", \"Topic9\", \"Topic9\", \"Topic9\", \"Topic9\", \"Topic9\", \"Topic9\", \"Topic9\", \"Topic9\", \"Topic9\", \"Topic9\", \"Topic9\", \"Topic9\", \"Topic9\", \"Topic9\", \"Topic9\", \"Topic9\", \"Topic9\", \"Topic9\", \"Topic10\", \"Topic10\", \"Topic10\", \"Topic10\", \"Topic10\", \"Topic10\", \"Topic10\", \"Topic10\", \"Topic10\", \"Topic10\", \"Topic10\", \"Topic10\", \"Topic10\", \"Topic10\", \"Topic10\", \"Topic10\", \"Topic10\", \"Topic10\", \"Topic10\", \"Topic10\", \"Topic10\", \"Topic10\", \"Topic10\", \"Topic10\", \"Topic10\", \"Topic10\", \"Topic10\", \"Topic10\", \"Topic10\", \"Topic10\", \"Topic10\", \"Topic10\", \"Topic10\", \"Topic10\", \"Topic10\", \"Topic10\", \"Topic10\", \"Topic10\", \"Topic10\", \"Topic10\", \"Topic10\", \"Topic10\", \"Topic10\", \"Topic10\", \"Topic10\", \"Topic10\", \"Topic10\", \"Topic10\", \"Topic10\", \"Topic11\", \"Topic11\", \"Topic11\", \"Topic11\", \"Topic11\", \"Topic11\", \"Topic11\", \"Topic11\", \"Topic11\", \"Topic11\", \"Topic11\", \"Topic11\", \"Topic11\", \"Topic11\", \"Topic11\", \"Topic11\", \"Topic11\", \"Topic11\", \"Topic11\", \"Topic11\", \"Topic11\", \"Topic11\", \"Topic11\", \"Topic11\", \"Topic11\", \"Topic11\", \"Topic11\", \"Topic11\", \"Topic11\", \"Topic11\", \"Topic11\", \"Topic11\", \"Topic11\", \"Topic11\", \"Topic11\", \"Topic11\", \"Topic11\", \"Topic11\", \"Topic11\", \"Topic11\", \"Topic11\", \"Topic11\", \"Topic11\", \"Topic11\", \"Topic11\", \"Topic11\", \"Topic11\", \"Topic11\", \"Topic11\", \"Topic12\", \"Topic12\", \"Topic12\", \"Topic12\", \"Topic12\", \"Topic12\", \"Topic12\", \"Topic12\", \"Topic12\", \"Topic12\", \"Topic12\", \"Topic12\", \"Topic12\", \"Topic12\", \"Topic12\", \"Topic12\", \"Topic12\", \"Topic12\", \"Topic12\", \"Topic12\", \"Topic12\", \"Topic12\", \"Topic12\", \"Topic12\", \"Topic12\", \"Topic12\", \"Topic12\", \"Topic12\", \"Topic12\", \"Topic12\", \"Topic12\", \"Topic12\", \"Topic12\", \"Topic12\", \"Topic12\", \"Topic12\", \"Topic12\", \"Topic12\", \"Topic12\", \"Topic12\", \"Topic12\"], \"logprob\": [30.0, 29.0, 28.0, 27.0, 26.0, 25.0, 24.0, 23.0, 22.0, 21.0, 20.0, 19.0, 18.0, 17.0, 16.0, 15.0, 14.0, 13.0, 12.0, 11.0, 10.0, 9.0, 8.0, 7.0, 6.0, 5.0, 4.0, 3.0, 2.0, 1.0, -5.1959, -5.4231, -5.9944, -6.1483, -6.293, -6.3049, -6.3297, -6.34, -6.3959, -6.4066, -6.4556, -6.4717, -6.5865, -6.591, -6.7455, -6.7463, -6.7729, -6.7818, -6.8156, -6.862, -6.8652, -6.8678, -6.9193, -6.9385, -6.9538, -6.9912, -7.0101, -7.0492, -7.0729, -7.0733, -5.7204, -6.5985, -3.5055, -4.0804, -6.226, -5.8631, -5.2715, -4.3199, -6.1228, -6.3483, -6.3686, -3.2005, -4.4339, -5.825, -5.8222, -5.516, -4.4792, -5.1289, -3.502, -4.5848, -4.7796, -5.0863, -5.3932, -5.348, -5.2495, -5.176, -5.5628, -5.8918, -4.6574, -4.583, -5.4532, -4.9512, -5.2367, -4.5301, -4.999, -4.6743, -5.219, -4.9497, -4.5005, -5.2095, -5.0442, -5.1223, -5.2577, -5.4993, -5.8492, -6.1088, -6.1591, -6.1871, -6.3395, -6.3735, -6.4441, -6.4568, -6.4856, -6.4921, -6.5027, -6.5037, -6.6142, -6.632, -6.6364, -6.6618, -6.6668, -6.6696, -6.6801, -6.6822, -6.7013, -6.6614, -6.7375, -6.7528, -6.7637, -6.8143, -6.8265, -6.8381, -6.839, -6.1391, -4.4713, -5.4034, -6.0912, -4.6794, -5.1973, -5.9815, -5.8073, -5.82, -5.7532, -5.3575, -6.0121, -5.3271, -5.3711, -5.2335, -6.2454, -4.3187, -5.7927, -5.5212, -5.4536, -5.6158, -5.6745, -4.1835, -4.9476, -4.4993, -5.5649, -5.005, -4.395, -5.1728, -5.7725, -5.2332, -4.5194, -4.717, -5.2224, -5.0809, -4.7979, -5.1156, -5.3226, -5.2559, -5.3657, -4.7784, -5.1571, -5.2893, -5.3233, -5.2578, -3.378, -4.2526, -4.6746, -4.759, -4.9972, -5.4328, -5.488, -5.6537, -5.8968, -5.9845, -6.1888, -5.3912, -6.3603, -6.3698, -6.4409, -6.3112, -6.5331, -6.6175, -6.639, -6.6548, -6.6578, -6.7314, -6.7318, -6.7554, -6.7645, -6.7731, -6.7789, -6.7912, -6.7952, -6.8209, -5.5883, -5.043, -6.2077, -5.253, -4.5191, -5.7717, -6.1932, -3.7118, -5.5923, -5.2555, -5.2313, -4.8975, -3.9299, -3.7801, -4.4814, -4.4954, -3.0628, -2.527, -3.7184, -5.6507, -5.0448, -5.0894, -4.7522, -4.8168, -4.6514, -4.2356, -5.0888, -4.4663, -4.5893, -4.7167, -4.9226, -4.7278, -4.8368, -5.0582, -5.0173, -5.0525, -5.1408, -5.2337, -5.2607, -5.3395, -5.3636, -5.428, -5.6302, -5.6576, -5.6738, -5.7321, -5.8221, -5.8422, -5.8695, -5.9608, -6.0041, -6.0997, -6.136, -6.1371, -6.1523, -6.1736, -6.3973, -6.4572, -6.5267, -6.5299, -6.5596, -6.5651, -4.9633, -6.6132, -6.6182, -6.6627, -5.9713, -4.9059, -3.5757, -5.1819, -4.9816, -4.3609, -4.345, -5.7615, -4.2833, -4.1233, -3.4264, -3.0776, -3.5946, -3.8388, -5.2322, -4.3256, -4.258, -4.2712, -3.9731, -5.1211, -4.3813, -5.0317, -3.914, -4.1035, -4.7372, -4.8107, -4.5541, -4.9752, -4.3043, -5.1055, -4.8997, -5.0264, -5.0588, -5.0894, -3.5201, -3.9406, -4.3113, -4.9774, -5.2532, -5.2946, -5.3287, -5.3493, -2.4497, -5.456, -5.4989, -5.5915, -5.7091, -5.8043, -5.8095, -5.8784, -5.9436, -5.978, -6.0985, -6.1019, -6.1768, -6.2444, -6.2617, -6.298, -6.3228, -6.3342, -6.3348, -6.419, -6.4658, -6.5017, -3.1556, -4.7713, -2.4538, -4.7065, -5.3179, -5.5652, -5.243, -3.6761, -4.7829, -4.7632, -3.3252, -5.3187, -4.3892, -3.3926, -4.7881, -4.5398, -5.1, -4.2707, -4.5062, -4.7675, -5.0, -5.1842, -5.2079, -5.1827, -4.0064, -4.3234, -4.3716, -4.5882, -5.0056, -5.0448, -5.2079, -5.3204, -5.457, -5.6029, -5.8402, -5.8633, -5.8797, -5.8814, -5.8957, -5.9457, -5.9592, -5.9921, -6.0027, -6.0554, -6.0566, -6.0649, -6.0948, -6.0995, -6.2009, -6.2236, -6.2415, -6.2424, -5.368, -6.2752, -4.4326, -4.887, -3.1818, -3.7163, -5.2045, -3.7355, -5.3136, -3.9604, -5.2904, -4.2151, -3.7235, -4.9387, -4.768, -3.5409, -5.3305, -3.4048, -2.8653, -4.8667, -3.3556, -4.8804, -4.4611, -4.8731, -4.6372, -5.0616, -5.0239, -5.1052, -5.1866, -4.3676, -4.422, -4.5076, -4.6255, -4.7945, -4.9018, -4.9626, -5.1415, -5.2345, -5.3392, -5.3651, -5.4628, -5.519, -5.5847, -5.5859, -5.5978, -5.6398, -5.6514, -5.6526, -5.8677, -5.871, -5.8739, -5.8775, -5.9555, -5.9784, -6.0012, -6.034, -6.0776, -6.1338, -6.1992, -3.5708, -4.9434, -4.6012, -4.9469, -4.76, -4.8648, -5.5179, -4.453, -4.6988, -5.2343, -4.8565, -4.9682, -3.2495, -3.9532, -4.7461, -4.3556, -4.0773, -4.9485, -4.272, -3.7967, -4.648, -4.3723, -4.1022, -4.9896, -4.8769, -4.709, -2.3897, -3.4515, -4.1312, -4.2569, -4.7186, -4.7195, -5.0108, -1.9865, -5.352, -5.633, -5.6787, -5.7721, -5.8358, -5.8547, -5.8667, -5.8763, -5.8862, -5.8994, -5.9445, -5.965, -6.0023, -6.0697, -6.0842, -6.0911, -6.1015, -6.1318, -6.1596, -6.1693, -6.1766, -6.2008, -4.1994, -4.3959, -3.0721, -5.184, -4.0753, -3.9719, -4.4936, -5.2652, -5.5564, -3.0898, -5.0518, -5.0494, -3.7803, -5.48, -5.0646, -4.5996, -5.2885, -5.1985, -4.9767, -3.5896, -4.9107, -4.7116, -4.5471, -4.7657, -5.07, -4.9644, -2.9406, -3.1885, -3.9178, -3.9569, -4.0042, -4.2548, -4.3026, -4.4951, -4.8015, -4.8533, -4.8792, -5.2209, -5.331, -5.3312, -5.349, -5.3541, -5.198, -5.4202, -5.4232, -5.4622, -5.4901, -5.5436, -5.5746, -5.6267, -3.9746, -5.6744, -5.6779, -5.6929, -5.6949, -5.6989, -2.9272, -4.9119, -3.5713, -4.1333, -4.388, -4.8324, -5.2981, -4.7125, -3.7616, -4.6312, -4.2891, -5.1321, -5.1477, -4.8483, -4.7668, -5.0281, -4.8705, -4.8453, -4.6248, -4.6179, -5.0284, -3.6501, -3.7301, -4.0695, -4.4508, -4.6523, -4.672, -4.7295, -4.7531, -4.8222, -4.8519, -4.8869, -5.1131, -5.1453, -5.2064, -5.3405, -5.3549, -5.3642, -5.3781, -5.4165, -5.4472, -5.4535, -5.4629, -5.5268, -5.5402, -5.5418, -5.5731, -5.614, -5.6373, -5.6531, -5.6657, -2.2254, -4.9066, -5.303, -4.8068, -4.3766, -5.0819, -5.0183, -4.6676, -4.0196, -3.8321, -5.0616, -4.8525, -4.997, -5.0517, -4.7947, -5.2808, -5.0219, -5.2132, -5.2023, -3.7402, -3.9931, -4.1154, -4.2326, -4.534, -4.5211, -4.5992, -4.6806, -4.6927, -4.7571, -4.7784, -4.876, -5.0102, -5.0528, -5.0592, -5.1828, -5.223, -5.2368, -5.3129, -5.412, -5.417, -5.4502, -3.8843, -5.4842, -5.5393, -5.5775, -5.5964, -5.6069, -5.6297, -5.676, -4.074, -4.4695, -5.225, -4.0483, -4.2944, -4.1946, -4.0087, -5.03, -4.8201, -4.8624, -4.2906, -4.8692, -3.8863, -4.4414, -4.6338, -4.2811, -4.87, -4.8838, -4.7675, -1.1545, -4.0035, -4.3583, -4.5641, -4.6389, -4.6415, -4.6614, -4.7967, -4.8826, -4.8855, -5.0063, -5.0461, -5.2093, -5.2119, -5.2273, -5.2346, -5.2983, -5.323, -5.3435, -5.4049, -5.4051, -5.4866, -5.4958, -5.5113, -5.5563, -5.631, -5.6665, -5.6839, -5.706, -5.7253, -3.984, -4.4736, -4.659, -3.7531, -3.0815, -3.7736, -5.0016, -5.0999, -4.9866, -5.385, -5.3605], \"loglift\": [30.0, 29.0, 28.0, 27.0, 26.0, 25.0, 24.0, 23.0, 22.0, 21.0, 20.0, 19.0, 18.0, 17.0, 16.0, 15.0, 14.0, 13.0, 12.0, 11.0, 10.0, 9.0, 8.0, 7.0, 6.0, 5.0, 4.0, 3.0, 2.0, 1.0, 1.584, 1.5834, 1.5813, 1.5805, 1.5796, 1.5795, 1.5793, 1.5792, 1.5788, 1.5788, 1.5784, 1.5781, 1.5773, 1.5773, 1.5758, 1.5758, 1.5755, 1.5754, 1.575, 1.5745, 1.5745, 1.5744, 1.5738, 1.5736, 1.5734, 1.5729, 1.5727, 1.572, 1.5718, 1.5718, 1.5613, 1.5518, 1.3802, 1.3818, 1.5211, 1.4784, 1.4164, 1.2885, 1.4857, 1.5116, 1.5136, 1.1069, 1.2362, 1.4289, 1.4232, 1.3532, 1.143, 1.2619, 0.9262, 1.1457, 1.1809, 1.2459, 1.3023, 1.2776, 1.2471, 1.2032, 1.299, 1.4092, 0.873, 0.8369, 1.1863, 0.8974, 0.9944, 0.5021, 0.8264, 0.5297, 0.7969, 0.4437, -0.8018, 0.2518, -0.4028, -0.2748, 0.3613, 1.7426, 1.7412, 1.7397, 1.7394, 1.7392, 1.738, 1.7378, 1.7371, 1.737, 1.7367, 1.7367, 1.7366, 1.7366, 1.7355, 1.7353, 1.7352, 1.735, 1.7349, 1.7349, 1.7348, 1.7347, 1.7345, 1.7344, 1.7341, 1.7339, 1.7338, 1.7331, 1.733, 1.7328, 1.7328, 1.7066, 1.6247, 1.6676, 1.6884, 1.5407, 1.5906, 1.6645, 1.6433, 1.6133, 1.5998, 1.5378, 1.6008, 1.4313, 1.4281, 1.3895, 1.6326, 1.0429, 1.4847, 1.386, 1.3086, 1.3744, 1.3878, 0.664, 1.0139, 0.6605, 1.2593, 0.8932, 0.2496, 0.82, 1.3773, 0.7826, -0.0913, -0.0414, 0.6383, 0.3804, -0.1566, 0.3961, 0.6803, 0.4747, 0.651, -1.0797, 0.0187, 0.0349, -0.1193, -0.8746, 2.0644, 2.0635, 2.0628, 2.0626, 2.062, 2.0604, 2.0602, 2.0593, 2.0577, 2.0571, 2.0553, 2.0553, 2.0535, 2.0534, 2.0526, 2.0523, 2.0514, 2.0502, 2.0499, 2.0496, 2.0496, 2.0484, 2.0484, 2.048, 2.0478, 2.0477, 2.0476, 2.0474, 2.0474, 2.0469, 2.0289, 2.0046, 2.0342, 1.9937, 1.9414, 1.998, 2.0187, 1.8672, 1.9864, 1.9367, 1.9314, 1.8911, 1.7677, 1.6854, 1.7478, 1.7029, 1.3205, 1.1717, 1.3137, 1.8437, 1.6103, 1.584, 1.4154, 1.2808, 0.8791, 0.44, 1.2745, 0.175, -0.1612, -0.0721, 0.4708, -0.4204, 0.0489, 0.9023, -0.0784, 0.3674, 2.2977, 2.2973, 2.2972, 2.2968, 2.2966, 2.2963, 2.295, 2.2948, 2.2947, 2.2942, 2.2935, 2.2933, 2.2931, 2.2922, 2.2918, 2.2908, 2.2904, 2.2904, 2.2902, 2.2899, 2.2869, 2.286, 2.2849, 2.2848, 2.2843, 2.2842, 2.2839, 2.2833, 2.2832, 2.2824, 2.2741, 2.2169, 2.1594, 2.2141, 2.1838, 2.09, 2.083, 2.215, 1.9379, 1.8934, 1.7335, 1.567, 1.5811, 1.4854, 1.9368, 1.4999, 1.361, 1.3392, 1.1333, 1.8369, 1.1836, 1.5728, 0.3933, 0.5721, 1.2242, 1.251, 0.8075, 1.3353, -0.6055, 1.6489, 0.612, 0.8221, -0.4175, 0.6006, 2.611, 2.6104, 2.6096, 2.6072, 2.6056, 2.6053, 2.6051, 2.605, 2.6046, 2.6041, 2.6038, 2.603, 2.6018, 2.6008, 2.6008, 2.6, 2.5991, 2.5987, 2.597, 2.5969, 2.5958, 2.5946, 2.5943, 2.5937, 2.5932, 2.593, 2.593, 2.5913, 2.5903, 2.5895, 2.5865, 2.5694, 2.4851, 2.5385, 2.5124, 2.5269, 2.3137, 1.7173, 2.0612, 1.967, 1.058, 2.1488, 1.401, 0.3061, 1.3242, 0.8801, 1.6468, 0.0367, 0.1351, 0.6939, 0.204, 0.9135, 0.3225, -0.3353, 2.7388, 2.738, 2.7378, 2.7371, 2.7351, 2.7349, 2.7338, 2.733, 2.7318, 2.7304, 2.7276, 2.7272, 2.727, 2.727, 2.7268, 2.7261, 2.7259, 2.7254, 2.7252, 2.7244, 2.7244, 2.7242, 2.7237, 2.7236, 2.7218, 2.7214, 2.721, 2.721, 2.7209, 2.7203, 2.6882, 2.6259, 2.4562, 2.4523, 2.6127, 2.2253, 2.5445, 2.208, 2.5276, 2.2369, 1.9665, 2.2792, 2.1918, 1.6349, 2.4116, 1.2708, 0.8335, 2.0886, 1.0276, 1.8131, 1.158, 1.5841, 1.0604, 1.6069, 1.2587, 1.4208, -0.5453, 2.7607, 2.7605, 2.7602, 2.7598, 2.759, 2.7585, 2.7581, 2.757, 2.7564, 2.7556, 2.7553, 2.7545, 2.7539, 2.7533, 2.7532, 2.7531, 2.7527, 2.7525, 2.7525, 2.7498, 2.7498, 2.7497, 2.7497, 2.7486, 2.7482, 2.7478, 2.7471, 2.7466, 2.7456, 2.7444, 2.7239, 2.6101, 2.5001, 2.5169, 2.4657, 2.4717, 2.5763, 2.1311, 2.2028, 2.4491, 2.2543, 2.2986, 1.3919, 1.669, 2.1442, 1.8097, 1.4876, 2.1881, 1.366, 0.6315, 1.5732, 0.3033, -0.4035, 1.7038, 0.9839, -0.4017, 2.905, 2.9042, 2.9028, 2.9024, 2.9005, 2.9005, 2.8988, 2.8982, 2.896, 2.8929, 2.8923, 2.891, 2.89, 2.8897, 2.8895, 2.8894, 2.8892, 2.889, 2.8882, 2.8879, 2.8872, 2.8859, 2.8856, 2.8855, 2.8853, 2.8847, 2.8841, 2.8839, 2.8837, 2.8832, 2.8348, 2.7909, 2.6632, 2.8124, 2.7098, 2.554, 2.6164, 2.739, 2.7119, 1.7576, 2.4872, 2.4826, 1.7313, 2.6377, 2.3619, 1.9241, 2.3897, 2.2124, 1.9475, 0.1091, 1.6428, 1.0794, 0.0942, -0.3375, 0.8613, -0.0787, 3.0392, 3.0389, 3.0376, 3.0375, 3.0373, 3.0365, 3.0363, 3.0355, 3.0338, 3.0335, 3.0333, 3.0306, 3.0294, 3.0294, 3.0292, 3.0292, 3.0292, 3.0284, 3.0284, 3.0279, 3.0276, 3.0269, 3.0265, 3.0258, 3.0254, 3.025, 3.025, 3.0248, 3.0247, 3.0247, 2.8638, 2.9099, 2.6801, 2.4561, 2.3429, 2.5251, 2.8222, 2.338, 1.4423, 2.2146, 1.609, 2.6202, 2.6187, 2.0964, 1.8726, 2.2503, 1.8029, 1.3699, 0.0165, -0.9192, 0.58, 3.3049, 3.3046, 3.3035, 3.3016, 3.3003, 3.3002, 3.2997, 3.2995, 3.299, 3.2987, 3.2984, 3.2961, 3.2957, 3.295, 3.2932, 3.293, 3.2929, 3.2927, 3.2921, 3.2916, 3.2915, 3.2914, 3.2903, 3.2901, 3.2901, 3.2895, 3.2888, 3.2883, 3.288, 3.2878, 2.881, 3.0795, 3.1884, 2.9834, 2.4788, 2.9181, 2.8036, 2.4311, 1.342, 0.8125, 2.6455, 1.8684, 2.2254, 2.0374, 0.8157, 2.7924, -0.1744, 1.4418, 0.8136, 3.4658, 3.4648, 3.4642, 3.4636, 3.4617, 3.4613, 3.4611, 3.4605, 3.4604, 3.4598, 3.4596, 3.4586, 3.4571, 3.4566, 3.4565, 3.4548, 3.4542, 3.454, 3.4528, 3.4512, 3.4511, 3.4505, 3.4501, 3.4498, 3.4487, 3.4479, 3.4475, 3.4473, 3.4468, 3.4458, 3.349, 3.3401, 3.4088, 2.969, 2.9996, 2.9408, 2.7216, 3.2119, 3.0053, 3.0246, 2.5176, 2.8329, 0.9611, 1.7787, 1.7338, 0.3634, 1.9427, 1.8105, -1.0688, 3.782, 3.777, 3.7744, 3.7724, 3.7716, 3.7716, 3.7714, 3.7697, 3.7685, 3.7684, 3.7666, 3.7659, 3.7629, 3.7629, 3.7625, 3.7624, 3.7611, 3.7605, 3.76, 3.7586, 3.7586, 3.7565, 3.7563, 3.7559, 3.7547, 3.7525, 3.7514, 3.7509, 3.7501, 3.7495, 3.6761, 3.5147, 3.5284, 2.8241, 1.9507, 2.3951, 2.6366, 2.6861, 1.4041, 2.815, 1.4853]}, \"token.table\": {\"Topic\": [10, 1, 10, 11, 2, 8, 8, 1, 4, 8, 1, 2, 3, 4, 6, 7, 8, 9, 5, 1, 9, 3, 12, 10, 1, 3, 7, 1, 2, 11, 1, 2, 11, 3, 9, 1, 2, 3, 10, 11, 4, 7, 4, 1, 9, 1, 2, 3, 5, 7, 9, 4, 2, 4, 5, 9, 12, 10, 2, 4, 7, 3, 2, 1, 2, 3, 4, 5, 6, 7, 9, 10, 1, 7, 1, 1, 2, 3, 4, 6, 7, 9, 10, 1, 3, 5, 6, 11, 3, 2, 4, 6, 11, 7, 7, 2, 3, 8, 2, 5, 10, 3, 7, 1, 2, 4, 10, 11, 2, 12, 7, 6, 5, 7, 7, 10, 1, 2, 3, 8, 2, 3, 4, 5, 6, 7, 4, 5, 9, 9, 12, 11, 10, 7, 9, 7, 7, 6, 1, 8, 12, 1, 2, 5, 7, 12, 2, 4, 10, 11, 2, 3, 8, 5, 11, 3, 5, 10, 2, 8, 1, 11, 10, 9, 6, 1, 2, 3, 5, 9, 11, 4, 2, 4, 6, 12, 4, 5, 6, 7, 8, 11, 1, 2, 7, 10, 1, 3, 5, 7, 8, 9, 1, 8, 12, 1, 2, 7, 9, 12, 8, 9, 7, 9, 1, 2, 4, 7, 10, 12, 7, 2, 3, 11, 5, 7, 3, 9, 4, 7, 7, 2, 6, 8, 8, 1, 5, 4, 4, 1, 2, 3, 4, 5, 6, 7, 10, 3, 5, 3, 1, 2, 4, 7, 9, 2, 4, 9, 1, 1, 10, 10, 2, 11, 12, 1, 2, 3, 4, 5, 7, 8, 4, 2, 3, 11, 2, 3, 4, 5, 6, 1, 3, 5, 9, 3, 4, 6, 10, 11, 5, 9, 1, 2, 4, 2, 7, 10, 6, 1, 1, 3, 5, 10, 11, 12, 11, 2, 3, 1, 8, 5, 5, 6, 2, 3, 5, 6, 11, 3, 6, 6, 1, 2, 3, 1, 2, 3, 4, 7, 8, 1, 2, 3, 4, 8, 1, 3, 3, 10, 9, 9, 1, 4, 12, 11, 10, 11, 3, 5, 6, 7, 10, 3, 4, 6, 7, 10, 1, 2, 6, 7, 4, 1, 1, 9, 4, 1, 2, 4, 1, 2, 3, 4, 5, 8, 10, 11, 1, 2, 3, 4, 6, 8, 2, 3, 6, 6, 8, 6, 3, 5, 6, 10, 2, 5, 6, 1, 8, 10, 1, 2, 12, 4, 2, 3, 4, 7, 12, 2, 1, 1, 8, 5, 6, 7, 2, 1, 2, 4, 7, 2, 6, 2, 3, 4, 5, 6, 7, 9, 1, 2, 3, 7, 8, 3, 4, 5, 7, 2, 5, 11, 1, 3, 5, 7, 11, 12, 1, 4, 4, 4, 1, 8, 1, 1, 2, 3, 5, 6, 7, 12, 6, 6, 11, 8, 1, 2, 5, 1, 3, 4, 10, 3, 7, 2, 6, 12, 1, 4, 4, 1, 5, 7, 11, 3, 7, 10, 11, 6, 7, 7, 5, 7, 4, 2, 3, 4, 5, 7, 10, 4, 7, 11, 1, 2, 6, 7, 1, 1, 9, 8, 2, 8, 1, 2, 6, 7, 10, 1, 2, 3, 5, 7, 9, 1, 2, 7, 8, 12, 1, 3, 5, 6, 5, 1, 1, 2, 3, 5, 7, 9, 10, 1, 1, 2, 3, 5, 7, 8, 4, 2, 4, 7, 9, 1, 3, 5, 10, 12, 3, 10, 12, 3, 1, 3, 9, 11, 12, 11, 5, 5, 4, 1, 3, 4, 7, 10, 12, 3, 3, 1, 12, 11, 1, 2, 4, 5, 10, 11, 1, 2, 3, 4, 5, 6, 7, 8, 9, 10, 3, 3, 6, 1, 2, 4, 7, 11, 2, 3, 11, 1, 2, 3, 5, 6, 11, 4, 2, 4, 2, 4, 5, 11, 5, 1, 2, 8, 2, 2, 8, 1, 7, 8, 5, 6, 1, 2, 4, 9, 2, 4, 6, 1, 2, 3, 4, 11, 9, 9, 12, 5, 7, 1, 11, 1, 7, 8, 4, 2, 8, 10, 1, 4, 5, 9, 11, 10, 11, 1, 12, 5, 1, 2, 4, 8, 9, 5, 1, 2, 4, 8, 1, 2, 8, 3, 12, 5, 7, 12, 11, 8, 7, 1, 2, 3, 4, 5, 6, 8, 9, 2, 1, 3, 9, 2, 3, 6, 1, 2, 3, 4, 6, 7, 9, 10, 11, 11, 1, 9, 3, 1, 2, 3, 6, 7, 2, 3, 5, 10, 11, 12, 8, 8, 1, 3, 7, 5, 6, 5, 2, 4, 5, 6, 2, 4, 6, 7, 1, 2, 4, 8, 1, 3, 3, 9, 5, 11, 1, 11, 1, 2, 3, 4, 8, 7, 9, 9, 1, 2, 3, 4, 5, 6, 7, 8, 9, 10, 12, 9, 11, 11, 3, 5, 10, 7, 1, 4, 1, 7, 1, 2, 3, 4, 6, 7, 8, 12, 2, 3, 4, 7, 11, 10, 12, 1, 2, 3, 5, 6, 7, 8, 10, 3, 6, 1, 1, 3, 10, 2, 6, 7, 4, 5, 1, 5, 5, 9, 6, 2, 3, 4, 5, 6, 7, 8, 10, 1, 2, 3, 4, 7, 8, 1, 2, 3, 4, 5, 6, 7, 8, 9, 11, 1, 2, 3, 4, 6, 9, 9, 5, 1, 2, 9, 1, 8, 9, 8, 10, 10, 1, 2, 3, 9, 12, 5, 2, 5, 1, 2, 3, 4, 9, 10, 1, 2, 3, 5, 5, 1, 3, 7, 10, 7, 6, 7, 1, 2, 8, 1, 3, 7, 12, 6, 1, 2, 9, 9, 8, 2, 3, 8, 6, 4, 10, 1, 4, 10, 1, 11, 4, 9, 1, 2, 2, 4, 1, 2, 5, 1, 2, 3, 4, 5, 7, 8, 1, 2, 3, 4, 5, 6, 7, 9, 10, 11, 4, 5, 10, 4, 10, 11, 1, 2, 3, 4, 5, 6, 7, 8, 9, 10, 11, 2, 3, 5, 3, 5, 6, 2, 4, 7, 8, 10, 11, 2, 1, 2, 3, 4, 6, 7, 8, 9, 1, 2, 3, 4, 5, 8, 1, 2, 7, 10, 11, 7, 12, 6, 2, 6, 12, 9, 5, 1, 3, 7, 10, 7, 1, 5, 6, 9, 3, 2, 4, 10, 6, 2, 11, 12, 1, 3, 4, 5, 6, 10, 3, 1, 2, 3, 5, 9, 10, 1, 10, 3, 9, 10, 10, 12, 10, 4, 2, 4, 1, 5, 6, 2, 5, 11, 10, 8, 4, 6, 7, 8, 7, 8, 8, 2, 8, 2, 6, 7, 5, 1, 2, 5, 8, 3, 2, 4, 1, 3, 7, 3, 1, 2, 3, 4, 5, 8, 9, 11, 1, 2, 3, 4, 5, 6, 8, 10, 11, 1, 2, 3, 4, 5, 6, 11, 4, 9, 11, 3, 10, 1, 2, 3, 7, 8, 7, 1, 2, 3, 4, 5, 2, 4, 10, 11, 12, 12, 2, 3, 9, 7, 12, 9, 10, 4, 2, 3, 4, 5, 6, 10, 8, 6, 2, 8, 8, 11, 1, 2, 8, 8, 10, 3, 7, 9, 11, 1, 2, 3, 4, 5, 6, 7, 8, 9, 10, 11, 11, 1, 2, 11, 1, 9, 8, 1, 2, 4, 5, 7, 8, 10, 11, 6, 1, 2, 8, 9, 8, 2, 7, 9, 1, 5, 7, 9, 2, 2, 2, 1, 9, 3, 11, 1, 2, 3, 4, 5, 6, 8, 10, 11, 4, 8, 12, 5, 8, 4, 7, 1, 2, 3, 6, 7, 9, 11, 2, 3, 5, 5, 11, 10, 6, 8, 8, 11, 2, 5, 6, 3, 6, 10, 2, 8, 1, 2, 3, 4, 5, 6, 7, 9, 2, 3, 4, 6, 7, 9, 11, 2, 11, 1, 2, 1, 2, 3, 4, 5, 7, 10, 6, 3, 12, 1, 7, 10, 5, 2, 12, 12, 8, 10, 10, 6, 1, 5, 9, 11, 9, 1, 2, 3, 6, 9, 10, 2, 3, 1, 2, 1, 2, 7, 9, 1, 1, 2, 3, 5, 6, 7, 8, 9, 5, 1, 2, 7, 8, 1, 4, 7], \"Freq\": [0.989863066895263, 0.08889931420516077, 0.021166503382181137, 0.8847598413751715, 0.06600367880316521, 0.9326606787403781, 0.9984923551922725, 0.07886514189419998, 0.08872328463097497, 0.8280839898890997, 0.08385932500594194, 0.08914180217167057, 0.15319183780613016, 0.32685327462945873, 0.017168050788618036, 0.2793109801379011, 0.037637649805816464, 0.012545883268605488, 0.979746403927741, 0.11354436565285321, 0.8768148236525887, 0.990823794733198, 0.9652281479719258, 0.9890172724511476, 0.27366240083226556, 0.6965952021184941, 0.02861016008700958, 0.014108231390563044, 0.37810060126708955, 0.6066539497942108, 0.20197354683422497, 0.15484638590623914, 0.6395828983083791, 0.9981222275187887, 0.9945474680966433, 0.19090157079076653, 0.18251029295380977, 0.38809659995925067, 0.23705359889402877, 0.9958866719991757, 0.9731115235589687, 0.01926953511997958, 0.9950930498942826, 0.34019259723597256, 0.6565120297536313, 0.2885448137025048, 0.34482128446008553, 0.16269016091736974, 0.08185668473829923, 0.09925123024518782, 0.021487379743803547, 0.9870118459210697, 0.7686208052180924, 0.1683645573334869, 0.0036600990724671065, 0.054901486087006596, 0.9796931345983578, 0.996859635667626, 0.7282623144380094, 0.09074919806081114, 0.179229666170102, 0.9911394099692834, 0.9892747401733001, 0.17483004084741627, 0.037315502789567113, 0.1554812616231963, 0.3821383896783447, 0.08845156216786278, 0.05528222635491424, 0.01036541744154642, 0.014511584418164988, 0.08292333953237135, 0.230173791374295, 0.76724597124765, 0.9883331724699244, 0.041020033391710155, 0.027748846117921576, 0.5224021899591322, 0.21837135423233936, 0.0036194147110332493, 0.06997535107997614, 0.09289831091652007, 0.02412943140688833, 0.021111519859190846, 0.7426731093322494, 0.006785845669025629, 0.18623376447214782, 0.04222303971838169, 0.976576159798209, 0.12994717348558404, 0.8673582423013683, 0.000782814298105928, 0.001565628596211856, 0.9904454163313636, 0.9936790322896056, 0.4475415455696141, 0.04600894393706314, 0.5019157520406887, 0.9837207838545611, 0.0985792888562962, 0.8872135997066658, 0.9869816542682155, 0.9808657984438065, 0.06639045241380602, 0.33882023990494103, 0.15796349022595224, 0.04807584485137677, 0.3868960847563178, 0.9881949989352751, 0.9772747036766387, 0.9935510108491743, 0.9956493630100418, 0.9957751048900509, 0.9943969731801544, 0.9949409314459448, 0.9845169526751111, 0.8543977734716826, 0.06434794946648656, 0.00714977216294295, 0.07149772162942951, 0.10496393934759858, 0.1275262814503534, 0.1432218237827046, 0.011771656749263393, 0.5974115800251172, 0.015695542332351188, 0.9900787358184636, 0.9769363145344232, 0.9947900417408642, 0.98876410540094, 0.9802016577566477, 0.9896116344121463, 0.9842960117053111, 0.8586148301459385, 0.13988668581029334, 0.987728493741966, 0.9946912247600903, 0.9792259472645628, 0.9912596527017135, 0.9724953047015099, 0.9647745029625507, 0.7223277128896608, 0.07992352564332363, 0.03317580309722868, 0.07087557934407945, 0.09198745404231588, 0.33405333100726586, 0.6649943638995571, 0.22082815933299665, 0.7776991698249013, 0.05087882398473101, 0.17807588394655852, 0.7631823597709652, 0.3720983885043326, 0.6251252926872788, 0.11721924096702217, 0.8805565872643172, 0.0017653500145635868, 0.3399088616290791, 0.6562129412005833, 0.042624384057434156, 0.9377364492635514, 0.9873161065699554, 0.9900191811163327, 0.99464921204597, 0.3192843040782904, 0.026143488313030747, 0.20302921775013238, 0.4088396576612255, 0.035043399228105045, 0.007787422050690009, 0.9974907639984395, 0.07839451305632417, 0.9187836930201193, 0.7487719924785468, 0.24999322974686966, 0.017378124110757388, 0.052134372332272166, 0.18420811557402833, 0.7437837119404163, 0.8478763071848783, 0.14383615925457757, 0.08797466192850063, 0.2563833004773447, 0.5705785216505613, 0.08294753838972917, 0.813878432177039, 0.133247065407841, 0.0013391664865109651, 0.0006695832432554826, 0.05055353486578893, 0.9868822233957838, 0.6573285324792436, 0.006086375300733737, 0.33475064154035555, 0.9305458919388728, 0.0655314008407657, 0.9925257949410907, 0.9946246448184053, 0.9828655780929199, 0.16141627700167085, 0.8385368646291926, 0.9933479944983019, 0.9990400447221058, 0.09330928843578098, 0.04573984727244166, 0.32383811868888696, 0.5305822283603233, 0.005488781672692999, 0.9701069861911485, 0.9821454019575595, 0.02016703700317885, 0.8806272824721431, 0.09747401218203111, 0.9283490275641079, 0.06732302108289331, 0.9341136130547756, 0.05987907775992152, 0.694990278585099, 0.3042173563769939, 0.9797584744484148, 0.9882984792711956, 0.9865065009659622, 0.998930359745882, 0.9707257396991648, 0.9314060631823314, 0.06700763044477205, 0.9928744873079056, 0.9903675551333488, 0.6192311709646623, 0.024972027209915128, 0.08336526376843847, 0.14833008643483422, 0.07604263924823779, 0.00413071126780551, 0.04224591069346544, 0.0018775960308206863, 0.9866860030003978, 0.9731069248746725, 0.9850852347905338, 0.9874600682717708, 0.8117652853064229, 0.0349683507516613, 0.06743896216391822, 0.08242539820034449, 0.6141535034014832, 0.13725400265411936, 0.24426559794377173, 0.9914438322548285, 0.9945583959464818, 0.9932237421856098, 0.9878046894009953, 0.9942630881026551, 0.9719106388208727, 0.9737084641393743, 0.03279480167349004, 0.6449644329119708, 0.03716744189662205, 0.028422161450358037, 0.10057072513203613, 0.06340328323541408, 0.08745280446264012, 0.9843957804397881, 0.9907631522014616, 0.9911165115447151, 0.9841673527512707, 0.06446635688565938, 0.40936136622393704, 0.19178741173483665, 0.019339907065697815, 0.31427348981758946, 0.022005981141662575, 0.6181680157067032, 0.06801848716513886, 0.2900788423219158, 0.034648157399596625, 0.31058107355783005, 0.0016697907180528496, 0.6528881707586642, 0.9925222530195121, 0.9174958806604895, 0.07439155789139104, 0.6811916284768232, 0.29513335325691686, 0.0208680148767517, 0.8650858382658375, 0.133090128963975, 0.9889114070176751, 0.996672097158196, 0.9923690284073731, 0.06925275346216984, 0.9250189212446972, 0.3974284023293861, 0.6001979953545831, 0.9889790025338671, 0.9921604847888379, 0.9877213252596229, 0.9917804296638082, 0.9873151546140311, 0.9911485423406842, 0.9814050439129575, 0.975327275631119, 0.9591498207732158, 0.03898983011273235, 0.018562676432453604, 0.27048471373003824, 0.16706408789208244, 0.5197549401087009, 0.021214487351375547, 0.016478938456442098, 0.9804968381583049, 0.9870882224525419, 0.21127033757701427, 0.7296449802917503, 0.05880720736679779, 0.3747655532886304, 0.3960360306374446, 0.04557959431888749, 0.15902214017922967, 0.016206077980048885, 0.008103038990024443, 0.18944977121722875, 0.1806260832427277, 0.15726926213375428, 0.44170343919414157, 0.03010434720712128, 0.9874792509708155, 0.9932104480774087, 0.9957141840493051, 0.9784558055464138, 0.9842976802535754, 0.9843897107988696, 0.9855699654029184, 0.2309662126849072, 0.7674038679530788, 0.9879482207286047, 0.9833046807794268, 0.9927011099050715, 0.1263336602927289, 0.032956607032885804, 0.06591321406577161, 0.730538122562302, 0.0384493748717001, 0.08328900160885389, 0.007242521879030773, 0.27521583140316935, 0.6264781425361619, 0.0036212609395153863, 0.09425851555442741, 0.05655510933265644, 0.8106232337680757, 0.04398730725873279, 0.9934404437526204, 0.9806014011633779, 0.5421839037027069, 0.4542621895887544, 0.9793260433219618, 0.08138560933236048, 0.11268776676788375, 0.8029003382211717, 0.15563181853689884, 0.3389744784696016, 0.0016110954299886008, 0.021910897847844973, 0.05252171101762839, 0.3173857997077544, 0.030610813169783417, 0.0815214287574232, 0.18531721486675215, 0.25919367214471417, 0.0031303583592356783, 0.184691143194905, 0.05885073715363075, 0.309279405892485, 0.9904474141526317, 0.997652150138566, 0.9786815298599589, 0.9876620316019764, 0.9941175516875639, 0.9888755713626538, 0.2519948174037195, 0.27839427446506154, 0.033599308987162596, 0.4367910168331138, 0.003129307243785063, 0.04381030141299088, 0.9481800948668742, 0.9969173549614831, 0.9950257778973761, 0.9803132678805682, 0.9943578299229248, 0.9943849688327245, 0.9765327881081698, 0.9919944482949783, 0.3780094244139098, 0.2572564138372442, 0.021000523578550544, 0.02625065447318818, 0.3202579845728958, 0.9934354189777026, 0.9812835083943814, 0.9740837726322205, 0.022054726927521973, 0.22131885593032638, 0.027179508623022538, 0.7454950936600467, 0.9945721162510985, 0.1119370904272301, 0.31655327722969373, 0.18535819275046705, 0.38515988103993154, 0.9930653043806875, 0.9834341563822246, 0.016329052890081457, 0.08164526445040729, 0.0571516851152851, 0.08368639606166747, 0.3959795325844753, 0.346992373914231, 0.020411316112601822, 0.7124858319613739, 0.16093797616068684, 0.0033528745033476423, 0.03017587053012878, 0.09388048609373398, 0.4566800394244481, 0.2058434660459951, 0.18334691237976614, 0.15410139261366845, 0.07478483497835206, 0.04362448707070537, 0.8787218109956367, 0.3383730187043326, 0.47170671679630327, 0.02054269185719316, 0.0007751959191393645, 0.00852715511053301, 0.16007795730227878, 0.0824094757899717, 0.9147451812686859, 0.9956115840383025, 0.9930651073664275, 0.9961739140400986, 0.9800672007895029, 0.9854472031453205, 0.09176343513122524, 0.014488963441772407, 0.1617934250997919, 0.007244481720886204, 0.5868030193917825, 0.13643773907669016, 0.9622660279720305, 0.9918458431850817, 0.983396148939322, 0.9721477430319077, 0.9794797655474174, 0.7342486467611945, 0.18117823751250253, 0.08391413105842223, 0.2463522737259416, 0.7287921431059106, 0.021812440902817743, 0.0038492542769678374, 0.9764527562049691, 0.9934848910265879, 0.9838348288236104, 0.0007044321016301486, 0.9988847201115506, 0.9932975271114698, 0.9862163307398855, 0.9956133771627941, 0.44148940044372, 0.17245679704832811, 0.16785794912703939, 0.21614585230057123, 0.0843677003868946, 0.35434434162495737, 0.5174552290396203, 0.039371593513884154, 0.7522858566674175, 0.24721008321082275, 0.9850477537762855, 0.9877670922409951, 0.9944825499337339, 0.9934185867230355, 0.3006554997484262, 0.02427653103558721, 0.48179576978319233, 0.037348509285518784, 0.0709621676424857, 0.08403414589241727, 0.9927415401681935, 0.9946795312628091, 0.9783428879350213, 0.7511715376633591, 0.07487561950985251, 0.08695233233402228, 0.08695233233402228, 0.9915654304368376, 0.9904647167304921, 0.9972151176318037, 0.9950235083488107, 0.08262264945079062, 0.9088491439586968, 0.020842051562208138, 0.1378781872576846, 0.604419495304036, 0.23567550612650742, 0.9853509461625507, 0.21509791661229546, 0.30366764698206417, 0.16195607839043422, 0.12905874996737726, 0.0012652818624252673, 0.18852699750136484, 0.8393794042002874, 0.10492242552503593, 0.007494458966073995, 0.04496675379644397, 0.99261601654533, 0.9821422482589357, 0.9875109242180393, 0.9926501284878806, 0.007132815294523693, 0.9968008386169509, 0.9965617844885316, 0.704995712116367, 0.04328277524960006, 0.16139339923579682, 0.0014672127203254257, 0.05208605157155261, 0.02567622260569495, 0.011004095402440692, 0.993876743621368, 0.000782958101162191, 0.10961413416270674, 0.007046622910459719, 0.09160609783597634, 0.006263664809297528, 0.7845240173645154, 0.9931845088266256, 0.689294976800246, 0.0384467317737189, 0.24441136627578444, 0.021969561013553657, 0.07031470665486701, 0.8203382443067818, 0.04754613497614817, 0.037501176882595744, 0.023438235551622336, 0.9424326540407757, 0.055266112428317096, 0.9784736513698572, 0.9820293449770011, 0.35179514795245187, 0.09507976971687888, 0.43736694069764287, 0.014261965457531832, 0.09983375820272282, 0.9929700120318788, 0.9889604178009194, 0.9982920771595222, 0.9841474275156755, 0.10721031679347645, 0.3870474148645845, 0.030891108228628807, 0.07086783652450138, 0.019988364147936286, 0.38341316683768695, 0.9920419260999347, 0.9994400594473397, 0.9914823859180735, 0.9877286316211168, 0.9793542242011087, 0.2990796987141152, 0.3287593634720045, 0.044519497136833945, 0.2762491873618927, 0.03196271589311155, 0.018264409081778028, 0.26313324294832485, 0.2553940299204329, 0.13335259371136826, 0.10358638975793784, 0.14704504752994624, 0.005953240790686083, 0.06667629685568413, 0.008929861186029123, 0.005953240790686083, 0.009525185265097732, 0.9803461058018745, 0.42090623819217865, 0.5780800866310302, 0.12889985966467596, 0.6975757111264816, 0.10362537737748459, 0.005054896457438273, 0.06065875748925927, 0.03727012715357569, 0.95038824241618, 0.9946364850889804, 0.17037653811239967, 0.052607492469793585, 0.6838974021073166, 0.06456374075838303, 0.010760623459730506, 0.017336560018454704, 0.9907288254971907, 0.1889689125789519, 0.8087228885794128, 0.7000203097292584, 0.13696049538181143, 0.04755572756312897, 0.11413374615150954, 0.9758688325128078, 0.8507476422087872, 0.04253738211043936, 0.1063434552760984, 0.9959584376720387, 0.3988937171251798, 0.5956084269403369, 0.07131216938681907, 0.26623209904412454, 0.6560719583587354, 0.10652375628893888, 0.8892417916294029, 0.9834371350761465, 0.1377353845994818, 0.36235001179248294, 0.49796639047504965, 0.06279122603090045, 0.056512103427810406, 0.8790771644326063, 0.1818071098861141, 0.5086513523780046, 0.0061283295467229465, 0.11235270835658737, 0.18997821594841136, 0.9829037669657295, 0.9973230248925672, 0.9806970299168154, 0.9858598546335832, 0.9935540548888337, 0.36717924754423786, 0.6267369914979233, 0.9366160137736689, 0.058538500860854305, 0.9839054586306595, 0.9940805175344916, 0.8769203243130476, 0.11977448332080651, 0.9874496377309209, 0.27919169767700563, 0.6275165776359365, 0.08774596212705892, 0.0026589685493048154, 0.9951006277236056, 0.9945794551015953, 0.9847319041563625, 0.9911085707276001, 0.9787823447024814, 0.9930432512021222, 0.24216381813604348, 0.19484445137382808, 0.37994668017896477, 0.13639111596167966, 0.045927620680973766, 0.9950073744897973, 0.5494239812661934, 0.04478063797153928, 0.02927964790446799, 0.3754684260690601, 0.2445775234502996, 0.0030959180183582225, 0.7492121604426899, 0.21820143076367435, 0.77279673395468, 0.20256720334791128, 0.40513440669582257, 0.3775116062392892, 0.9950478235517796, 0.9742759469470975, 0.996865495010709, 0.8150737157430651, 0.004170698837866561, 0.03813210366049428, 0.004170698837866561, 0.04468605897714173, 0.07149769436342676, 0.004766512957561785, 0.017278609471161468, 0.9906059304442447, 0.6668835937580659, 0.3128468623659162, 0.01961422334582547, 0.03084747215773938, 0.9665541276091673, 0.9943849334384991, 0.2934427027662395, 0.023698460555943334, 0.0069701354576303925, 0.39032758562730197, 0.2056189960000966, 0.06273121911867353, 0.00906117609491951, 0.007667149003393431, 0.9734747162290136, 0.9907486422870941, 0.5017126724136666, 0.49587880412978674, 0.9992962882666583, 0.49941033953733865, 0.1448154643102852, 0.040602466629051925, 0.22737381312269078, 0.0879720110296125, 0.6994977447933095, 0.10920428927152934, 0.07968961649544033, 0.05607787827456912, 0.05607787827456912, 0.9848833144883271, 0.9795549914355783, 0.9802100984217341, 0.145503677956632, 0.800270228761476, 0.05001688929759225, 0.9743356589299288, 0.024437221219116338, 0.9937589377897418, 0.17762957195115708, 0.48635603201739985, 0.004921726174969087, 0.33065051302746873, 0.30212051117481614, 0.6929068245422414, 0.824191193143818, 0.17007119858523229, 0.4678221395285343, 0.01884997631799955, 0.4481153461051711, 0.06426128290227119, 0.15714145871870724, 0.8395843651542358, 0.9865523775628902, 0.9791821311955871, 0.9834502414037699, 0.9902327087806297, 0.4645198869643014, 0.5316793886940799, 0.30876441354413736, 0.06565680058122461, 0.07275483307649214, 0.2679507266963491, 0.28214679168688417, 0.9885116900356398, 0.9982754701846672, 0.9988061758904581, 0.34747392412177047, 0.15463740199326473, 0.045562805944444076, 0.07317662772895564, 0.09020515116273777, 0.029454743236812332, 0.010585298350729432, 0.035897968319865026, 0.20250135975308478, 0.00506253399382712, 0.005522764356902312, 0.9962525245586364, 0.9833536980586385, 0.9733827686267956, 0.9898499734472758, 0.1932985346031587, 0.7954978154822301, 0.9817102236794234, 0.1079768353784899, 0.8899908855439167, 0.03835729808001674, 0.9603023555032764, 0.3017916670416376, 0.3301955886455565, 0.035504902004898545, 0.11184044131543042, 0.007100980400979709, 0.1686482845232681, 0.007988602951102174, 0.03639252455502101, 0.32857896984655477, 0.13261034657484275, 0.35068069427569526, 0.010314138066932214, 0.17681379543312364, 0.9935563481688332, 0.991348796223618, 0.4899236134255907, 0.0038275282298874274, 0.30556433701934627, 0.10142949809201683, 0.0561370807050156, 0.0006379213716479046, 0.00701713508812695, 0.035085675440634755, 0.9925212446994273, 0.0043341539069843985, 0.9828864262126795, 0.8974797647371784, 0.04292294527003897, 0.058531289004598586, 0.9873665528026451, 0.9869350055713061, 0.9930015917871859, 0.9875255991545803, 0.9852137580871381, 0.9954357520112618, 0.9745483790872702, 0.1870493264309792, 0.8077130004974102, 0.9818438218688993, 0.9938684614787674, 0.4533262939581636, 0.22006130774668137, 0.09829405079351768, 0.09976112617849554, 0.013203678464800882, 0.07041961847893803, 0.04547933693431415, 0.5024332525456509, 0.12012802024215387, 0.06927090218343179, 0.22798018440116793, 0.011399009220058397, 0.06751720845726897, 0.08520236035843896, 0.16741992465336572, 0.19699654019180474, 0.1771883481339511, 0.008683043093853652, 0.22982929689043885, 0.0854737054551219, 0.01926550186448779, 0.026320474378243884, 0.0035274862568780464, 0.0065081152641865885, 0.11280733124590087, 0.08677487018915452, 0.5206492211349271, 0.20175157318978423, 0.07158926790605247, 0.9934130137754321, 0.9885555881185539, 0.671029779478659, 0.015470427192591564, 0.3113423472509052, 0.5887208857270568, 0.383054200756906, 0.025708335621268858, 0.9907996787700163, 0.9946454516458249, 0.9857242589146555, 0.7526735192726169, 0.22089331543870278, 0.024543701715411422, 0.986778602143808, 0.9668886495055985, 0.9991099003600354, 0.9913234063986162, 0.9876634785890793, 0.7427340678566005, 0.012413382749692487, 0.1344783131216686, 0.01172375037470957, 0.08551441449788158, 0.013103015124675403, 0.04042122145669655, 0.07437504748032164, 0.8844163254725205, 0.9948882240235527, 0.9822768812230381, 0.7932151100319523, 0.13382463512809012, 0.019465401473176745, 0.053529854051236045, 0.9845587916061853, 0.9924946741328426, 0.9878080428012649, 0.9020428245085907, 0.06625173287351231, 0.02548143572058166, 0.9904856625489092, 0.05798021290931366, 0.8282887558473381, 0.10767753826015394, 0.9877884290865306, 0.07145480276529272, 0.9229578690516975, 0.9862441658731932, 0.983906942927479, 0.9846617726183905, 0.08023325868171463, 0.023401367115500102, 0.8925950028340753, 0.9791288639799386, 0.3911219745196083, 0.6056082186110063, 0.30483535868500694, 0.35333189302125806, 0.3394757403537577, 0.01549821824319787, 0.9802623038822652, 0.9827821744094825, 0.9845632035698203, 0.03230544399841591, 0.9627022311527941, 0.9008297907703573, 0.0957403642364631, 0.046045099539241297, 0.8860874033283265, 0.06738307249645069, 0.5169519809653587, 0.15932290560899579, 0.10805143864439874, 0.044279903287606545, 0.013983127353981014, 0.11864471694286921, 0.03898326413837131, 0.020697151308998896, 0.33775989476600327, 0.00044036492146806163, 0.5663092890079272, 0.003963284293212554, 0.02422007068074339, 0.03434846387450881, 0.0026421895288083696, 0.009247663350829294, 0.00044036492146806163, 0.9836006456945419, 0.014203619432412157, 0.9777020133217248, 0.5275282087571869, 0.28195473226677226, 0.18796982151118152, 0.09183700558727526, 0.05924968102404855, 0.4093335721782113, 0.054652723013562034, 0.09960075689387472, 0.14843066642748715, 0.042087704451565525, 0.06098630960578791, 0.019102914399132895, 0.0039840302757549895, 0.010726235357801895, 0.15485000681032302, 0.09678125425645188, 0.7403765950618569, 0.12814833086747177, 0.14562310325849065, 0.7222905921621136, 0.49517190341424544, 0.22414745573484887, 0.0554980479343496, 0.05765331193180007, 0.14009215983428056, 0.026940799968130875, 0.9944317962178896, 0.02768573720424539, 0.053874948073126164, 0.1346873701828154, 0.18257621291448312, 0.46093011129230166, 0.005237842173776155, 0.05163015857007924, 0.08230894844505386, 0.2473006182590815, 0.20842727692738644, 0.12902640952647731, 0.019850216850227278, 0.2977532527534092, 0.09759689951361745, 0.14305777187149907, 0.08901372472004386, 0.562693902694563, 0.0031790615971444237, 0.2002808806200987, 0.9834303526970849, 0.9554417462003825, 0.9891498638760398, 0.9912547932958967, 0.9863478532805328, 0.9888054213046739, 0.9963986168029227, 0.9951609989334081, 0.004409919599596724, 0.05732895479475741, 0.7805557691286201, 0.15434718598588534, 0.9928910776037344, 0.08906424028209162, 0.9033658657183579, 0.4004653489656084, 0.5987155217208602, 0.9941334693992234, 0.9950880785164742, 0.9931656702080641, 0.9963732899511455, 0.9886886783951699, 0.8137012444022635, 0.18435418818488783, 0.979046952950021, 0.04321257813204295, 0.6344392153022669, 0.05303361861659816, 0.1001746129424632, 0.0137494566783773, 0.1551724396559724, 0.9974827549603975, 0.45401481338883243, 0.38145536832669025, 0.05804755604971373, 0.008292508007101962, 0.014511889012428433, 0.08292508007101962, 0.3166189550323058, 0.6784691893549409, 0.9787818411321108, 0.9910664500178986, 0.9897747101221863, 0.9854239971513801, 0.9636830926714963, 0.9779920992765067, 0.9816886650985425, 0.9940949553985865, 0.9932862128245243, 0.07242029595281413, 0.2931297693328191, 0.6310911504459517, 0.31116011576018165, 0.09842819988332277, 0.5905691992999366, 0.9799118670912788, 0.990513883416736, 0.018989435416612944, 0.2675784081431824, 0.01035787386360706, 0.70433542272528, 0.007023187185682185, 0.9926104555764155, 0.9917076027679976, 0.6926024764773641, 0.30603365239697483, 0.987322432347733, 0.9912390198069222, 0.9879949556980633, 0.9941359285728633, 0.008852847589015039, 0.2921439704374963, 0.6285521788200678, 0.0663963569176128, 0.984749848998819, 0.9206601437233791, 0.07407610351797303, 0.11748034850479956, 0.8745759277579522, 0.0065266860280444195, 0.9945736520226373, 0.4729239118083856, 0.12280029110966535, 0.18334369044745386, 0.017706088485579655, 0.17706088485579655, 0.019419580919668007, 0.0068539697363534146, 0.0005711641446961179, 0.029574159471723278, 0.07272002226266204, 0.4750096161725417, 0.00769738397209236, 0.21127293376032452, 0.1802808351358474, 0.00769738397209236, 0.0016205018888615496, 0.013774266055323172, 0.007118901468393177, 0.004745934312262118, 0.27526419011120284, 0.023729671561310593, 0.5766310189398474, 0.052205277434883304, 0.05932417890327648, 0.9826817059953553, 0.9917659475182714, 0.9911630436253094, 0.5816004700523285, 0.41630349435324565, 0.7110966537557943, 0.16781881028636744, 0.05119895907041719, 0.0014221933075115887, 0.06826527876055626, 0.9921004347192809, 0.39500482502775525, 0.07921800062369817, 0.1367324394326845, 0.3494273452168604, 0.03906641126648129, 0.8569155086725907, 0.04262145200203985, 0.04935115494973036, 0.04935115494973036, 0.9654906210335734, 0.9857922840027427, 0.9864365858744947, 0.01109372366625338, 0.9845679753799875, 0.9952362427015512, 0.9830574412343194, 0.9946387406291285, 0.982344222062082, 0.9892599840024258, 0.4809920937622567, 0.12073883169950526, 0.3406209317051083, 0.017669097321878817, 0.005889699107292939, 0.033374961607993324, 0.9784361548888112, 0.9797396520582502, 0.9864511256553721, 0.9994177147107073, 0.982205728975159, 0.9926019818309925, 0.22091236563906325, 0.1954224772960944, 0.5820191171644551, 0.987411178989303, 0.9891863470277853, 0.35320749185263817, 0.601072398415893, 0.037179735984488226, 0.006196622664081371, 0.13687114021116414, 0.14919478693515784, 0.15103022368128458, 0.06581351761111533, 0.08390567982293587, 0.03749535067087447, 0.2535524762149343, 0.060045002123288484, 0.048507971147634804, 0.0010488209977866983, 0.012061441474547031, 0.9829445930938734, 0.9637740965228643, 0.008761582695662401, 0.017523165391324803, 0.9954668638663778, 0.9896414842981587, 0.9808796809119933, 0.062439343831222245, 0.2605227794337204, 0.060286263009455957, 0.3810953054526323, 0.012918484930597706, 0.11411328355361307, 0.07966399040535252, 0.027990050682961697, 0.9834426681106929, 0.4014952784823455, 0.06297965152664244, 0.1443283680818889, 0.3883745177476283, 0.9951918830931925, 0.19419342870671788, 0.14711623386872566, 0.659080727731891, 0.2957130404587146, 0.07454950599799527, 0.5392414267188325, 0.08945940719759433, 0.9940544677767157, 0.9904997435035305, 0.9961048934509114, 0.9901257652604178, 0.9888683380144919, 0.9878172116579391, 0.9776922152358535, 0.012889632229662063, 0.2238587148457636, 0.11811111981874013, 0.47954692968722334, 0.013415739667607455, 0.022622619831651786, 0.0026305371897269517, 0.08259886775742628, 0.04471913222535818, 0.991421597923134, 0.9821547302471824, 0.9899876487177466, 0.9717034381314171, 0.9889187299375132, 0.9856657790144454, 0.9907901389991158, 0.16125123037199054, 0.425703248182055, 0.12807954869546676, 0.004607178010628301, 0.0027643068063769806, 0.238651820950546, 0.03685742408502641, 0.063881831432713, 0.9298355464094892, 0.9855667601721547, 0.5251710555796356, 0.4743480502009612, 0.9799612244577977, 0.9973482764484237, 0.9806253059863197, 0.9791003032903097, 0.9849641908689519, 0.9886668937959658, 0.9793500202513326, 0.9963147118333056, 0.990216119629376, 0.9887659478126746, 0.9921238159100402, 0.17672893241270685, 0.8210065594362457, 0.28269174482668735, 0.16722610257353335, 0.08560383822216588, 0.0019907869353992065, 0.0019907869353992065, 0.32250748353467146, 0.11546564225315398, 0.02189865628939127, 0.019204113696472663, 0.9698077416718694, 0.9131285854498972, 0.07363940205241107, 0.9963357804264913, 0.9908602001049378, 0.9951828103805407, 0.9854751968863359, 0.9863702610460712, 0.10008187097851927, 0.8940647140747722, 0.5527490833171306, 0.005141851937833773, 0.07841324205196502, 0.14140092829042875, 0.02056740775133509, 0.10926435367896765, 0.08998240891209101, 0.993975242757425, 0.9764444333851516, 0.9811628819345863, 0.21389574773161033, 0.05500176370241409, 0.7211342352094291, 0.9926977516120353, 0.09658828741476007, 0.896124666570274, 0.9756407915505079, 0.9880969503858321, 0.990369506891486, 0.99559374812295, 0.9841800611069303, 0.23088274875864803, 0.03017217739459605, 0.6978955814750043, 0.03935501399295137, 0.990403060142931, 0.6436626323004647, 0.28053092933192164, 0.007792525814775602, 0.005454768070342921, 0.029611598096147287, 0.03350786100353509, 0.9433804531443892, 0.048378484776635346, 0.13026456196431965, 0.8644830021268486, 0.23359633918266992, 0.2041668791281603, 0.0036786825068136995, 0.5573203997822754, 0.9943305601701394, 0.3524347999840888, 0.28766299890593194, 0.04572127134928719, 0.03238590053907843, 0.009525264864434831, 0.13430623458853114, 0.12954360215631372, 0.007620211891547866, 0.9722245511488339, 0.844459034704785, 0.016239596821245865, 0.06089848807967199, 0.0791680345035736, 0.6419145774709238, 0.023075360628039745, 0.3349423557827587], \"Term\": [\"abandon\", \"abuse\", \"abuse\", \"abuse\", \"academic\", \"academic\", \"academy\", \"achievement\", \"achievement\", \"achievement\", \"activity\", \"activity\", \"activity\", \"activity\", \"activity\", \"activity\", \"activity\", \"activity\", \"acute\", \"addiction\", \"addiction\", \"adequate\", \"adolescent\", \"adoption\", \"adult\", \"adult\", \"adult\", \"advocacy\", \"advocacy\", \"advocacy\", \"affect\", \"affect\", \"affect\", \"affordable\", \"africa\", \"agency\", \"agency\", \"agency\", \"agency\", \"agreement\", \"agricultural\", \"agricultural\", \"agriculture\", \"alcohol\", \"alcohol\", \"also\", \"also\", \"also\", \"also\", \"also\", \"also\", \"amateur\", \"among\", \"among\", \"among\", \"among\", \"anderson\", \"animal\", \"annual\", \"annual\", \"annual\", \"apartment\", \"appropriate\", \"area\", \"area\", \"area\", \"area\", \"area\", \"area\", \"area\", \"area\", \"area\", \"art\", \"art\", \"artistic\", \"assist\", \"assist\", \"assist\", \"assist\", \"assist\", \"assist\", \"assist\", \"assist\", \"assistance\", \"assistance\", \"assistance\", \"assistance\", \"assistance\", \"assisted_live\", \"association\", \"association\", \"association\", \"association\", \"athlete\", \"athletic\", \"attend\", \"attend\", \"attend\", \"audience\", \"authority\", \"authority\", \"autism\", \"auxiliary\", \"awareness\", \"awareness\", \"awareness\", \"awareness\", \"awareness\", \"background\", \"ballet\", \"band\", \"baptist\", \"baptist_memorial\", \"baseball\", \"basketball\", \"beautification\", \"become\", \"become\", \"become\", \"become\", \"benefit\", \"benefit\", \"benefit\", \"benefit\", \"benefit\", \"benefit\", \"benevolent\", \"best_possible\", \"bible\", \"biblical\", \"black\", \"blood\", \"blount\", \"book\", \"book\", \"booster_club\", \"boy\", \"boy_scouts\", \"boys_girls\", \"bristol\", \"brown\", \"build\", \"build\", \"build\", \"build\", \"build\", \"business\", \"business\", \"campaign\", \"campaign\", \"campus\", \"campus\", \"campus\", \"cancer\", \"cancer\", \"care\", \"care\", \"care\", \"career\", \"career\", \"case\", \"case\", \"cat\", \"catholic\", \"cemetery\", \"center\", \"center\", \"center\", \"center\", \"center\", \"center\", \"chamber\", \"chapter\", \"chapter\", \"charitable\", \"charitable\", \"charity\", \"charity\", \"charity\", \"charity\", \"charter\", \"charter\", \"chattanooga\", \"chattanooga\", \"chattanooga\", \"chattanooga\", \"child\", \"child\", \"child\", \"child\", \"child\", \"childcare\", \"children\", \"children\", \"children\", \"choice\", \"choice\", \"choir\", \"christ\", \"christ_centered\", \"christian\", \"christian\", \"christmas\", \"church\", \"city\", \"city\", \"city\", \"city\", \"city\", \"claim\", \"clean_water\", \"client\", \"client\", \"client\", \"clinic\", \"clinic\", \"clothing\", \"clothing\", \"club\", \"club\", \"coffee\", \"collection\", \"collective_bargaine\", \"college\", \"college_preparatory\", \"come\", \"come\", \"commerce\", \"commercial\", \"community\", \"community\", \"community\", \"community\", \"community\", \"community\", \"community\", \"community\", \"complex\", \"comprise\", \"computer\", \"concert\", \"conduct\", \"conduct\", \"conduct\", \"conduct\", \"conference\", \"conference\", \"conference\", \"congregation\", \"connection\", \"conservation\", \"conserve\", \"consist\", \"consultation\", \"contemporary\", \"continue\", \"continue\", \"continue\", \"continue\", \"continue\", \"continue\", \"continue\", \"contractor\", \"cooperation\", \"cooperative\", \"coordinator\", \"corporation\", \"corporation\", \"corporation\", \"corporation\", \"corporation\", \"counseling\", \"counseling\", \"counseling\", \"counseling\", \"county\", \"county\", \"county\", \"county\", \"court\", \"covenant\", \"covenant\", \"create\", \"create\", \"create\", \"creative\", \"creative\", \"credit\", \"credit_union\", \"crime\", \"crisis\", \"crisis\", \"cumberland\", \"cumberland\", \"cure\", \"dance\", \"date\", \"datum\", \"daycare\", \"deaf\", \"degree\", \"delta\", \"dental\", \"dental\", \"department\", \"department\", \"department\", \"department\", \"department\", \"dependent\", \"dependent\", \"deposit\", \"design\", \"design\", \"design\", \"develop\", \"develop\", \"develop\", \"develop\", \"develop\", \"develop\", \"development\", \"development\", \"development\", \"development\", \"development\", \"disabilitie\", \"disability\", \"disabled\", \"disaster\", \"disciple\", \"discipleship\", \"discover\", \"diverse\", \"diverse\", \"division\", \"dog\", \"domestic_violence\", \"donate\", \"donate\", \"donate\", \"donate\", \"donate\", \"donation\", \"donation\", \"donation\", \"donation\", \"donation\", \"donor\", \"donor\", \"donor\", \"donor\", \"downtown\", \"dream\", \"drug\", \"drug\", \"eastern\", \"economic\", \"economic\", \"economic\", \"education\", \"education\", \"education\", \"education\", \"education\", \"education\", \"education\", \"education\", \"educational\", \"educational\", \"educational\", \"educational\", \"educational\", \"educational\", \"educator\", \"elderly\", \"electric\", \"electricity\", \"elementary\", \"eligible_participant\", \"emergency\", \"emergency\", \"emergency\", \"emergency\", \"employee\", \"employee\", \"employee\", \"empower\", \"energy\", \"enhancement\", \"enrich\", \"enrichment\", \"entertain\", \"entertainment\", \"entity\", \"entity\", \"entity\", \"entity\", \"entity\", \"entrepreneur\", \"environmental\", \"equip\", \"equip\", \"equipment\", \"equipment\", \"equipment\", \"equity\", \"event\", \"event\", \"event\", \"event\", \"exchange\", \"exempt\", \"expense\", \"expense\", \"expense\", \"expense\", \"expense\", \"expense\", \"expense\", \"experience\", \"experience\", \"experience\", \"experience\", \"experience\", \"facility\", \"facility\", \"facility\", \"facility\", \"fair\", \"fair\", \"fair\", \"family\", \"family\", \"family\", \"family\", \"family\", \"family\", \"farm\", \"farm\", \"farm_bureau\", \"farmer\", \"festival\", \"field_trips\", \"film\", \"financial\", \"financial\", \"financial\", \"financial\", \"financial\", \"financial\", \"financing\", \"fire\", \"fire_protection\", \"firefighter\", \"florida\", \"focus\", \"focus\", \"focus\", \"food\", \"food\", \"food\", \"food\", \"food_bank\", \"football\", \"forum\", \"foundation\", \"foundation\", \"franklin\", \"fraternal\", \"fraternity\", \"free\", \"free\", \"free\", \"free\", \"friend\", \"friend\", \"friend\", \"friend\", \"fund\", \"fund\", \"fundraising\", \"furniture\", \"game\", \"garden\", \"general\", \"general\", \"general\", \"general\", \"general\", \"general\", \"germantown\", \"girl\", \"girls\", \"give\", \"give\", \"give\", \"give\", \"go\", \"golf\", \"gospel\", \"grade\", \"graduate\", \"graduate\", \"grant\", \"grant\", \"grant\", \"grant\", \"great_smoky\", \"group\", \"group\", \"group\", \"group\", \"group\", \"group\", \"grow\", \"grow\", \"grow\", \"grow\", \"habitat\", \"haiti\", \"handicapped\", \"health\", \"health\", \"healthcare\", \"healthy\", \"help\", \"help\", \"help\", \"help\", \"help\", \"help\", \"help\", \"heritage\", \"high\", \"high\", \"high\", \"high\", \"high\", \"high\", \"historic\", \"hold\", \"hold\", \"hold\", \"hold\", \"home\", \"home\", \"home\", \"home\", \"home\", \"homeless\", \"homeless\", \"homeowner\", \"homes\", \"hope\", \"hope\", \"hope\", \"hope\", \"hope\", \"horse\", \"hospice\", \"hospital\", \"hospitality\", \"house\", \"house\", \"house\", \"house\", \"house\", \"house\", \"household\", \"housing\", \"humanitarian\", \"humanity\", \"illness\", \"improve\", \"improve\", \"improve\", \"improve\", \"improve\", \"improve\", \"include\", \"include\", \"include\", \"include\", \"include\", \"include\", \"include\", \"include\", \"include\", \"include\", \"inclusive\", \"income\", \"income\", \"increase\", \"increase\", \"increase\", \"increase\", \"increase\", \"independence\", \"independence\", \"indigent\", \"individual\", \"individual\", \"individual\", \"individual\", \"individual\", \"individual\", \"industrial\", \"industry\", \"industry\", \"information\", \"information\", \"information\", \"information\", \"inpatient\", \"inspire\", \"inspire\", \"inspire\", \"institute\", \"institution\", \"institution\", \"instruction\", \"instruction\", \"instruction\", \"insurance\", \"insurance\", \"interactive\", \"international\", \"international\", \"international\", \"investment\", \"investment\", \"investment\", \"issue\", \"issue\", \"issue\", \"issue\", \"issue\", \"jesus\", \"jesus_christ\", \"john\", \"johnson_city\", \"junior\", \"justice\", \"justice\", \"kid\", \"kid\", \"kindergarten\", \"kingsport\", \"knowledge\", \"knowledge\", \"knox\", \"knoxville\", \"knoxville\", \"knoxville\", \"knoxville\", \"labor\", \"land\", \"law\", \"law_enforcement\", \"lawrence\", \"le_bonheur\", \"leadership\", \"leadership\", \"leadership\", \"leadership\", \"leadership\", \"league\", \"learn\", \"learn\", \"learn\", \"learn\", \"learning\", \"learning\", \"learning\", \"lease\", \"lease\", \"legacy\", \"legacy\", \"legacy\", \"legal\", \"liberal_arts\", \"library\", \"life\", \"life\", \"life\", \"life\", \"life\", \"life\", \"life\", \"life\", \"literature\", \"live\", \"live\", \"live\", \"living\", \"living\", \"loan\", \"local\", \"local\", \"local\", \"local\", \"local\", \"local\", \"local\", \"local\", \"located\", \"lodge\", \"love\", \"love\", \"low_income\", \"make\", \"make\", \"make\", \"make\", \"make\", \"management\", \"management\", \"management\", \"management\", \"management\", \"martin\", \"maryville\", \"math\", \"meal\", \"meal\", \"meal\", \"medical\", \"medical\", \"medicine\", \"member\", \"member\", \"member\", \"member\", \"membership\", \"membership\", \"memorial\", \"memorial\", \"memphis\", \"memphis\", \"memphis\", \"memphis\", \"mental\", \"mental\", \"mentally\", \"message\", \"methodist\", \"metropolitan\", \"mid_south\", \"mid_south\", \"middle\", \"middle\", \"middle\", \"middle\", \"middle\", \"military\", \"ministries\", \"ministry\", \"mission\", \"mission\", \"mission\", \"mission\", \"mission\", \"mission\", \"mission\", \"mission\", \"mission\", \"mission\", \"mission\", \"missionary\", \"mississippi\", \"mobilize\", \"moderate_income\", \"mountain\", \"mountain\", \"multiple\", \"museum\", \"museum\", \"music\", \"music\", \"nashville\", \"nashville\", \"nashville\", \"nashville\", \"nashville\", \"nashville\", \"nashville\", \"nashville\", \"national\", \"national\", \"national\", \"national\", \"national\", \"natural\", \"nbsp\", \"need\", \"need\", \"need\", \"need\", \"need\", \"need\", \"need\", \"need\", \"needy\", \"needy\", \"neighbor\", \"neighborhood\", \"neighborhood\", \"neighborhood\", \"newsletter\", \"next\", \"none\", \"northeast\", \"nurse\", \"nurture\", \"nutritional\", \"oak_ridge\", \"oak_ridge\", \"officer\", \"online\", \"operate\", \"operate\", \"operate\", \"operate\", \"operate\", \"operate\", \"operate\", \"opportunity\", \"opportunity\", \"opportunity\", \"opportunity\", \"opportunity\", \"opportunity\", \"organization\", \"organization\", \"organization\", \"organization\", \"organization\", \"organization\", \"organization\", \"organization\", \"organization\", \"organization\", \"organize\", \"organize\", \"organize\", \"organize\", \"organize\", \"organize\", \"orphan\", \"outpatient\", \"outreach\", \"outreach\", \"outreach\", \"parent\", \"parent\", \"parent\", \"parent_teacher\", \"park\", \"parks\", \"partner\", \"partner\", \"partner\", \"pastor\", \"pastoral\", \"patient\", \"peace\", \"pediatric\", \"people\", \"people\", \"people\", \"people\", \"people\", \"people\", \"person\", \"person\", \"person\", \"physician\", \"physicians\", \"place\", \"place\", \"place\", \"place\", \"player\", \"police\", \"portion\", \"positive\", \"positive\", \"positive\", \"possible\", \"post\", \"post\", \"post\", \"post_secondary\", \"practice\", \"practice\", \"prayer\", \"preach\", \"prep\", \"prepare\", \"prepare\", \"prepare\", \"prescription\", \"preservation\", \"preservation\", \"preserve\", \"preserve\", \"preserve\", \"prevention\", \"prevention\", \"primary_exempt\", \"prison\", \"production\", \"production\", \"profession\", \"profession\", \"professional\", \"professional\", \"professional\", \"program\", \"program\", \"program\", \"program\", \"program\", \"program\", \"program\", \"promote\", \"promote\", \"promote\", \"promote\", \"promote\", \"promote\", \"promote\", \"promote\", \"promote\", \"promote\", \"promotion\", \"promotion\", \"prosperity\", \"protect\", \"protect\", \"protect\", \"provide\", \"provide\", \"provide\", \"provide\", \"provide\", \"provide\", \"provide\", \"provide\", \"provide\", \"provide\", \"provide\", \"provider\", \"provider\", \"provider\", \"provision\", \"provision\", \"provision\", \"public\", \"public\", \"public\", \"public\", \"public\", \"public\", \"publication\", \"purpose\", \"purpose\", \"purpose\", \"purpose\", \"purpose\", \"purpose\", \"purpose\", \"purpose\", \"quality\", \"quality\", \"quality\", \"quality\", \"quality\", \"quality\", \"raise\", \"raise\", \"raise\", \"raise\", \"raise\", \"raise_funds\", \"ranch\", \"ready\", \"real_estate\", \"real_property\", \"rebuild\", \"recovery\", \"recreation\", \"recreational\", \"recreational\", \"recreational\", \"recreational\", \"reduce\", \"regardless\", \"regardless\", \"religious\", \"religious\", \"rental\", \"report\", \"representation\", \"rescue\", \"rescue_squad\", \"research\", \"research\", \"residence\", \"resident\", \"resident\", \"resident\", \"resident\", \"resident\", \"resident\", \"residential\", \"resource\", \"resource\", \"resource\", \"resource\", \"resource\", \"resource\", \"restoration\", \"restoration\", \"retirement\", \"retreat\", \"river\", \"riverfront\", \"road\", \"roane\", \"rock\", \"role\", \"rotary\", \"rural\", \"rural\", \"rural\", \"safety\", \"safety\", \"safety\", \"sanctuary\", \"scholar\", \"scholarship\", \"scholarship\", \"scholarship\", \"scholarship\", \"school\", \"school\", \"schools\", \"science\", \"science\", \"scientific\", \"scout\", \"secondary\", \"security\", \"see_schedule\", \"see_schedule\", \"see_schedule\", \"see_schedule\", \"self_sufficiency\", \"seminar\", \"seminar\", \"senior\", \"senior\", \"senior\", \"senior_citizens\", \"serve\", \"serve\", \"serve\", \"serve\", \"serve\", \"serve\", \"serve\", \"serve\", \"service\", \"service\", \"service\", \"service\", \"service\", \"service\", \"service\", \"service\", \"service\", \"services\", \"services\", \"services\", \"services\", \"services\", \"services\", \"services\", \"sevier\", \"sexual\", \"shall\", \"shelter\", \"shelter\", \"skill\", \"skill\", \"skill\", \"skill\", \"skill\", \"soccer\", \"social\", \"social\", \"social\", \"social\", \"social\", \"society\", \"society\", \"society\", \"society\", \"sorority\", \"soul\", \"southeast\", \"spiritual\", \"spiritual\", \"sport\", \"sports\", \"spread\", \"stability\", \"star\", \"state\", \"state\", \"state\", \"state\", \"state\", \"state\", \"stem\", \"step\", \"stimulate\", \"student\", \"subject\", \"substance_abuse\", \"success\", \"success\", \"success\", \"summer_camp\", \"sumner\", \"supply\", \"supply\", \"supply\", \"supply\", \"support\", \"support\", \"support\", \"support\", \"support\", \"support\", \"support\", \"support\", \"support\", \"support\", \"support\", \"survivor\", \"sustain\", \"sustain\", \"sustain\", \"sustainable\", \"symphony\", \"syndrome\", \"system\", \"system\", \"system\", \"system\", \"system\", \"system\", \"system\", \"system\", \"tax_exempt\", \"teach\", \"teach\", \"teach\", \"teach\", \"teacher\", \"teaching\", \"teaching\", \"teaching\", \"team\", \"team\", \"team\", \"team\", \"technical\", \"technique\", \"technology\", \"teen\", \"television\", \"temporary\", \"tennesseans\", \"tennessee\", \"tennessee\", \"tennessee\", \"tennessee\", \"tennessee\", \"tennessee\", \"tennessee\", \"tennessee\", \"tennessee\", \"tennis\", \"th_grade\", \"theatre\", \"theta\", \"thru\", \"tourism\", \"tournament\", \"training\", \"training\", \"training\", \"training\", \"training\", \"training\", \"training\", \"transportation\", \"transportation\", \"treat\", \"treatment\", \"treatment\", \"tree\", \"trust\", \"tutor\", \"tutoring\", \"underserve\", \"understanding\", \"uninsured\", \"union\", \"unit\", \"united_methodist\", \"united_way\", \"university\", \"university\", \"use\", \"use\", \"use\", \"use\", \"use\", \"use\", \"use\", \"use\", \"utility\", \"utility\", \"valley\", \"valley\", \"veteran\", \"veterans\", \"victim\", \"video\", \"violence\", \"voice\", \"voice\", \"volunteer\", \"volunteer\", \"volunteer\", \"volunteer\", \"volunteer\", \"volunteer\", \"volunteer\", \"volunteer_fire\", \"want\", \"warren\", \"water\", \"water\", \"water\", \"wellness\", \"west\", \"west\", \"white\", \"whole\", \"wildlife\", \"williamson\", \"wilson\", \"woman\", \"woman\", \"woman\", \"woman\", \"word\", \"work\", \"work\", \"work\", \"work\", \"work\", \"work\", \"workforce\", \"workforce\", \"workshop\", \"workshop\", \"world\", \"world\", \"world\", \"world\", \"worship\", \"year\", \"year\", \"year\", \"year\", \"year\", \"year\", \"year\", \"year\", \"year_round\", \"young\", \"young\", \"young\", \"young\", \"youth\", \"youth\", \"youth\"]}, \"R\": 30, \"lambda.step\": 0.01, \"plot.opts\": {\"xlab\": \"PC1\", \"ylab\": \"PC2\"}, \"topic.order\": [10, 6, 3, 11, 12, 9, 1, 7, 8, 4, 2, 5]};\n",
       "\n",
       "function LDAvis_load_lib(url, callback){\n",
       "  var s = document.createElement('script');\n",
       "  s.src = url;\n",
       "  s.async = true;\n",
       "  s.onreadystatechange = s.onload = callback;\n",
       "  s.onerror = function(){console.warn(\"failed to load library \" + url);};\n",
       "  document.getElementsByTagName(\"head\")[0].appendChild(s);\n",
       "}\n",
       "\n",
       "if(typeof(LDAvis) !== \"undefined\"){\n",
       "   // already loaded: just create the visualization\n",
       "   !function(LDAvis){\n",
       "       new LDAvis(\"#\" + \"ldavis_el795618026670238242439615010\", ldavis_el795618026670238242439615010_data);\n",
       "   }(LDAvis);\n",
       "}else if(typeof define === \"function\" && define.amd){\n",
       "   // require.js is available: use it to load d3/LDAvis\n",
       "   require.config({paths: {d3: \"https://d3js.org/d3.v5\"}});\n",
       "   require([\"d3\"], function(d3){\n",
       "      window.d3 = d3;\n",
       "      LDAvis_load_lib(\"https://cdn.jsdelivr.net/gh/bmabey/pyLDAvis@3.3.1/pyLDAvis/js/ldavis.v3.0.0.js\", function(){\n",
       "        new LDAvis(\"#\" + \"ldavis_el795618026670238242439615010\", ldavis_el795618026670238242439615010_data);\n",
       "      });\n",
       "    });\n",
       "}else{\n",
       "    // require.js not available: dynamically load d3 & LDAvis\n",
       "    LDAvis_load_lib(\"https://d3js.org/d3.v5.js\", function(){\n",
       "         LDAvis_load_lib(\"https://cdn.jsdelivr.net/gh/bmabey/pyLDAvis@3.3.1/pyLDAvis/js/ldavis.v3.0.0.js\", function(){\n",
       "                 new LDAvis(\"#\" + \"ldavis_el795618026670238242439615010\", ldavis_el795618026670238242439615010_data);\n",
       "            })\n",
       "         });\n",
       "}\n",
       "</script>"
      ],
      "text/plain": [
       "PreparedData(topic_coordinates=              x         y  topics  cluster       Freq\n",
       "topic                                                \n",
       "9      0.160946  0.008832       1        1  20.470280\n",
       "5      0.151864 -0.110847       2        1  17.444168\n",
       "2      0.103401  0.135760       3        1  12.682650\n",
       "10     0.115816 -0.180734       4        1  10.005474\n",
       "11     0.047032  0.154028       5        1   7.337626\n",
       "8      0.033997  0.146609       6        1   6.450978\n",
       "0      0.081776  0.033301       7        1   6.305039\n",
       "6      0.013836 -0.008432       8        1   5.471059\n",
       "7     -0.056006  0.061350       9        1   4.782487\n",
       "3     -0.133528 -0.244747      10        1   3.660750\n",
       "1     -0.165576 -0.106652      11        1   3.114223\n",
       "4     -0.353558  0.111531      12        1   2.275267, topic_info=            Term         Freq        Total Category  logprob  loglift\n",
       "48    foundation  2839.000000  2839.000000  Default  30.0000  30.0000\n",
       "340       school  2990.000000  2990.000000  Default  29.0000  29.0000\n",
       "298         care  2832.000000  2832.000000  Default  28.0000  28.0000\n",
       "144       health  2523.000000  2523.000000  Default  27.0000  27.0000\n",
       "157       county  2395.000000  2395.000000  Default  26.0000  26.0000\n",
       "...          ...          ...          ...      ...      ...      ...\n",
       "1923      entity    60.524603   190.471442  Topic12  -5.0016   2.6366\n",
       "1454    children    54.858690   164.301403  Topic12  -5.0999   2.6861\n",
       "779        build    61.437018   663.133909  Topic12  -4.9866   1.4041\n",
       "3657      legacy    41.249922   108.605932  Topic12  -5.3850   2.8150\n",
       "145         hope    42.272782   420.699378  Topic12  -5.3605   1.4853\n",
       "\n",
       "[721 rows x 6 columns], token_table=      Topic      Freq      Term\n",
       "term                           \n",
       "516      10  0.989863   abandon\n",
       "1484      1  0.088899     abuse\n",
       "1484     10  0.021167     abuse\n",
       "1484     11  0.884760     abuse\n",
       "407       2  0.066004  academic\n",
       "...     ...       ...       ...\n",
       "383       7  0.060898     young\n",
       "383       8  0.079168     young\n",
       "16        1  0.641915     youth\n",
       "16        4  0.023075     youth\n",
       "16        7  0.334942     youth\n",
       "\n",
       "[1304 rows x 3 columns], R=30, lambda_step=0.01, plot_opts={'xlab': 'PC1', 'ylab': 'PC2'}, topic_order=[10, 6, 3, 11, 12, 9, 1, 7, 8, 4, 2, 5])"
      ]
     },
     "execution_count": 61,
     "metadata": {},
     "output_type": "execute_result"
    }
   ],
   "source": [
    "# Visualize the topics\n",
    "pyLDAvis.enable_notebook()\n",
    "vis = pyLDAvis.gensim_models.prepare(lda_model, corpus, id2word)\n",
    "vis"
   ]
  },
  {
   "cell_type": "code",
   "execution_count": 62,
   "id": "e71a1f82",
   "metadata": {
    "scrolled": false
   },
   "outputs": [],
   "source": [
    "def get_readable_topic(input_doc):\n",
    "    if len(input_doc) > 1:\n",
    "        doc = lda_model.id2word.doc2bow(input_doc)\n",
    "        doc_topics, word_topics, phi_values = lda_model.get_document_topics(doc, per_word_topics=True)\n",
    "        return lda_model.id2word[word_topics[0][0]]\n",
    "    else:\n",
    "        return None\n",
    "\n",
    "index = 0\n",
    "for doc in data_lemmatized:\n",
    "    df_text.loc[index,\"topic_model_result\"] = get_readable_topic(doc)\n",
    "    index = index + 1"
   ]
  },
  {
   "cell_type": "code",
   "execution_count": 63,
   "id": "332b0333",
   "metadata": {
    "scrolled": true
   },
   "outputs": [
    {
     "data": {
      "text/html": [
       "<div>\n",
       "<style scoped>\n",
       "    .dataframe tbody tr th:only-of-type {\n",
       "        vertical-align: middle;\n",
       "    }\n",
       "\n",
       "    .dataframe tbody tr th {\n",
       "        vertical-align: top;\n",
       "    }\n",
       "\n",
       "    .dataframe thead th {\n",
       "        text-align: right;\n",
       "    }\n",
       "</style>\n",
       "<table border=\"1\" class=\"dataframe\">\n",
       "  <thead>\n",
       "    <tr style=\"text-align: right;\">\n",
       "      <th></th>\n",
       "      <th>nonprofit_id</th>\n",
       "      <th>description</th>\n",
       "      <th>topic_model_result</th>\n",
       "    </tr>\n",
       "  </thead>\n",
       "  <tbody>\n",
       "    <tr>\n",
       "      <th>0</th>\n",
       "      <td>602.0</td>\n",
       "      <td>Provide sound, supervised PROVIDE SOUND, SUPER...</td>\n",
       "      <td>baseball</td>\n",
       "    </tr>\n",
       "    <tr>\n",
       "      <th>1</th>\n",
       "      <td>640.0</td>\n",
       "      <td>PROVIDE FOOD, CLOTHNG AND FURNITURE FOR ECONOM...</td>\n",
       "      <td>community</td>\n",
       "    </tr>\n",
       "    <tr>\n",
       "      <th>3</th>\n",
       "      <td>710.0</td>\n",
       "      <td>MCU MEDICAL FOUNDATION INC Provide financial a...</td>\n",
       "      <td>community</td>\n",
       "    </tr>\n",
       "    <tr>\n",
       "      <th>4</th>\n",
       "      <td>778.0</td>\n",
       "      <td>TO PROMOTE EDUCATIONAL OPPORTUNITIES FOR WOMEN...</td>\n",
       "      <td>provide</td>\n",
       "    </tr>\n",
       "    <tr>\n",
       "      <th>5</th>\n",
       "      <td>1071.0</td>\n",
       "      <td>PROVIDE A SUPPORTIVE LIVING SERVICES HOME AND ...</td>\n",
       "      <td>youth</td>\n",
       "    </tr>\n",
       "    <tr>\n",
       "      <th>6</th>\n",
       "      <td>1134.0</td>\n",
       "      <td>RELIGIOUS YOUTH CAMP GROUP RETREATS AND SUMMER...</td>\n",
       "      <td>community</td>\n",
       "    </tr>\n",
       "    <tr>\n",
       "      <th>7</th>\n",
       "      <td>1567.0</td>\n",
       "      <td>TO PROVIDE ASSISTANCE TO CANCER PATIENTS IN NE...</td>\n",
       "      <td>area</td>\n",
       "    </tr>\n",
       "    <tr>\n",
       "      <th>8</th>\n",
       "      <td>1593.0</td>\n",
       "      <td>JACKSON AREA CHAMBER OF COMMERCE FOUNDATION INC</td>\n",
       "      <td>black</td>\n",
       "    </tr>\n",
       "    <tr>\n",
       "      <th>9</th>\n",
       "      <td>1667.0</td>\n",
       "      <td>WILSON COUNTY BLACK HISTORY COMMITTEE</td>\n",
       "      <td>provide</td>\n",
       "    </tr>\n",
       "    <tr>\n",
       "      <th>10</th>\n",
       "      <td>1739.0</td>\n",
       "      <td>PROMOTE AND ENCOURAGE THE SHOWING OF REINING H...</td>\n",
       "      <td>community</td>\n",
       "    </tr>\n",
       "  </tbody>\n",
       "</table>\n",
       "</div>"
      ],
      "text/plain": [
       "    nonprofit_id                                        description  \\\n",
       "0          602.0  Provide sound, supervised PROVIDE SOUND, SUPER...   \n",
       "1          640.0  PROVIDE FOOD, CLOTHNG AND FURNITURE FOR ECONOM...   \n",
       "3          710.0  MCU MEDICAL FOUNDATION INC Provide financial a...   \n",
       "4          778.0  TO PROMOTE EDUCATIONAL OPPORTUNITIES FOR WOMEN...   \n",
       "5         1071.0  PROVIDE A SUPPORTIVE LIVING SERVICES HOME AND ...   \n",
       "6         1134.0  RELIGIOUS YOUTH CAMP GROUP RETREATS AND SUMMER...   \n",
       "7         1567.0  TO PROVIDE ASSISTANCE TO CANCER PATIENTS IN NE...   \n",
       "8         1593.0    JACKSON AREA CHAMBER OF COMMERCE FOUNDATION INC   \n",
       "9         1667.0              WILSON COUNTY BLACK HISTORY COMMITTEE   \n",
       "10        1739.0  PROMOTE AND ENCOURAGE THE SHOWING OF REINING H...   \n",
       "\n",
       "   topic_model_result  \n",
       "0            baseball  \n",
       "1           community  \n",
       "3           community  \n",
       "4             provide  \n",
       "5               youth  \n",
       "6           community  \n",
       "7                area  \n",
       "8               black  \n",
       "9             provide  \n",
       "10          community  "
      ]
     },
     "execution_count": 63,
     "metadata": {},
     "output_type": "execute_result"
    }
   ],
   "source": [
    "df_text.head(10)"
   ]
  },
  {
   "cell_type": "code",
   "execution_count": 32,
   "id": "1bf348e0",
   "metadata": {},
   "outputs": [],
   "source": [
    "df_text.to_csv('output.csv')"
   ]
  },
  {
   "cell_type": "code",
   "execution_count": 64,
   "id": "66eae43e",
   "metadata": {},
   "outputs": [
    {
     "data": {
      "text/plain": [
       "617"
      ]
     },
     "execution_count": 64,
     "metadata": {},
     "output_type": "execute_result"
    }
   ],
   "source": [
    "df_text[\"topic_model_result\"].nunique()"
   ]
  },
  {
   "cell_type": "code",
   "execution_count": null,
   "id": "9d855719",
   "metadata": {},
   "outputs": [],
   "source": []
  }
 ],
 "metadata": {
  "kernelspec": {
   "display_name": "Python 3 (ipykernel)",
   "language": "python",
   "name": "python3"
  },
  "language_info": {
   "codemirror_mode": {
    "name": "ipython",
    "version": 3
   },
   "file_extension": ".py",
   "mimetype": "text/x-python",
   "name": "python",
   "nbconvert_exporter": "python",
   "pygments_lexer": "ipython3",
   "version": "3.9.7"
  }
 },
 "nbformat": 4,
 "nbformat_minor": 5
}
